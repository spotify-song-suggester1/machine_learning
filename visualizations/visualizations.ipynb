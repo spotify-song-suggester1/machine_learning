{
 "metadata": {
  "language_info": {
   "codemirror_mode": {
    "name": "ipython",
    "version": 3
   },
   "file_extension": ".py",
   "mimetype": "text/x-python",
   "name": "python",
   "nbconvert_exporter": "python",
   "pygments_lexer": "ipython3",
   "version": 3
  },
  "orig_nbformat": 2,
  "kernelspec": {
   "name": "python_defaultSpec_1596123530088",
   "display_name": "Python 3.8.3 64-bit ('U4-build': conda)"
  }
 },
 "nbformat": 4,
 "nbformat_minor": 2,
 "cells": [
  {
   "cell_type": "markdown",
   "metadata": {},
   "source": [
    "## Data Cleaning ##"
   ]
  },
  {
   "cell_type": "code",
   "execution_count": 1,
   "metadata": {},
   "outputs": [],
   "source": [
    "import pandas as pd \n",
    "import numpy as np \n",
    "\n",
    "# preprocessing for data normalization\n",
    "from sklearn import preprocessing"
   ]
  },
  {
   "cell_type": "code",
   "execution_count": 2,
   "metadata": {},
   "outputs": [],
   "source": [
    "# importing sample outputs from predicto() in NN.ipynb\n",
    "\n",
    "samples = ['6ScgNyiMGRJcuQl6fHE32t',\n",
    "           '4hpQCCUn1D2KJ0hRIvviNz',\n",
    "           '1oXRum87ShmIRW8GgETPjd',\n",
    "           '12pBDYcRz2KJXTnhFste8v',\n",
    "           '7cGpisHH8TCwcPI1Pxd0IM',\n",
    "           '3Kb4dMQn8cAXthan2osI0l',\n",
    "           '2ggqfj97qyiORmXoVFzP5j',\n",
    "           '2ggqfj97qyiORmXoVFzP5j',\n",
    "           '3Mt3L75pk83KGc0c4VJzLM',\n",
    "           '3oDk8PFjkiqwEn1m03pnkm',\n",
    "           '27fUxjCxoOG7u2kxKAjCJA',\n",
    "           '63L3A0z2A5DRix83DnHCDX',\n",
    "           '7hlljw8YiOutMUrFekNIA0',\n",
    "           '3uZIfWx5ridUBQevmgHDUt']"
   ]
  },
  {
   "cell_type": "code",
   "execution_count": 3,
   "metadata": {},
   "outputs": [
    {
     "output_type": "execute_result",
     "data": {
      "text/plain": "   Unnamed: 0  genre        artist_name                        track_name  \\\n0           0  Movie     Henri Salvador       C'est beau de faire un Show   \n1           1  Movie  Martin & les fées  Perdu d'avance (par Gad Elmaleh)   \n2           2  Movie    Joseph Williams    Don't Let Me Be Lonely Tonight   \n3           3  Movie     Henri Salvador    Dis-moi Monsieur Gordon Cooper   \n4           4  Movie       Fabien Nataf                         Ouverture   \n\n                 track_id  popularity  acousticness  danceability  \\\n0  0BRjO6ga9RKCKjfDqeFgWV           0         0.611         0.389   \n1  0BjC1NfoEOOusryehmNudP           1         0.246         0.590   \n2  0CoSDzoNIKCRs124s9uTVy           3         0.952         0.663   \n3  0Gc6TVm52BwZD07Ki6tIvf           0         0.703         0.240   \n4  0IuslXpMROHdEPvSl1fTQK           4         0.950         0.331   \n\n   duration_ms  energy  instrumentalness key  liveness  loudness   mode  \\\n0        99373   0.910             0.000  C#    0.3460    -1.828  Major   \n1       137373   0.737             0.000  F#    0.1510    -5.559  Minor   \n2       170267   0.131             0.000   C    0.1030   -13.879  Minor   \n3       152427   0.326             0.000  C#    0.0985   -12.178  Major   \n4        82625   0.225             0.123   F    0.2020   -21.150  Major   \n\n   speechiness    tempo time_signature  valence  \n0       0.0525  166.969            4/4    0.814  \n1       0.0868  174.003            4/4    0.816  \n2       0.0362   99.488            5/4    0.368  \n3       0.0395  171.758            4/4    0.227  \n4       0.0456  140.576            4/4    0.390  ",
      "text/html": "<div>\n<style scoped>\n    .dataframe tbody tr th:only-of-type {\n        vertical-align: middle;\n    }\n\n    .dataframe tbody tr th {\n        vertical-align: top;\n    }\n\n    .dataframe thead th {\n        text-align: right;\n    }\n</style>\n<table border=\"1\" class=\"dataframe\">\n  <thead>\n    <tr style=\"text-align: right;\">\n      <th></th>\n      <th>Unnamed: 0</th>\n      <th>genre</th>\n      <th>artist_name</th>\n      <th>track_name</th>\n      <th>track_id</th>\n      <th>popularity</th>\n      <th>acousticness</th>\n      <th>danceability</th>\n      <th>duration_ms</th>\n      <th>energy</th>\n      <th>instrumentalness</th>\n      <th>key</th>\n      <th>liveness</th>\n      <th>loudness</th>\n      <th>mode</th>\n      <th>speechiness</th>\n      <th>tempo</th>\n      <th>time_signature</th>\n      <th>valence</th>\n    </tr>\n  </thead>\n  <tbody>\n    <tr>\n      <th>0</th>\n      <td>0</td>\n      <td>Movie</td>\n      <td>Henri Salvador</td>\n      <td>C'est beau de faire un Show</td>\n      <td>0BRjO6ga9RKCKjfDqeFgWV</td>\n      <td>0</td>\n      <td>0.611</td>\n      <td>0.389</td>\n      <td>99373</td>\n      <td>0.910</td>\n      <td>0.000</td>\n      <td>C#</td>\n      <td>0.3460</td>\n      <td>-1.828</td>\n      <td>Major</td>\n      <td>0.0525</td>\n      <td>166.969</td>\n      <td>4/4</td>\n      <td>0.814</td>\n    </tr>\n    <tr>\n      <th>1</th>\n      <td>1</td>\n      <td>Movie</td>\n      <td>Martin &amp; les fées</td>\n      <td>Perdu d'avance (par Gad Elmaleh)</td>\n      <td>0BjC1NfoEOOusryehmNudP</td>\n      <td>1</td>\n      <td>0.246</td>\n      <td>0.590</td>\n      <td>137373</td>\n      <td>0.737</td>\n      <td>0.000</td>\n      <td>F#</td>\n      <td>0.1510</td>\n      <td>-5.559</td>\n      <td>Minor</td>\n      <td>0.0868</td>\n      <td>174.003</td>\n      <td>4/4</td>\n      <td>0.816</td>\n    </tr>\n    <tr>\n      <th>2</th>\n      <td>2</td>\n      <td>Movie</td>\n      <td>Joseph Williams</td>\n      <td>Don't Let Me Be Lonely Tonight</td>\n      <td>0CoSDzoNIKCRs124s9uTVy</td>\n      <td>3</td>\n      <td>0.952</td>\n      <td>0.663</td>\n      <td>170267</td>\n      <td>0.131</td>\n      <td>0.000</td>\n      <td>C</td>\n      <td>0.1030</td>\n      <td>-13.879</td>\n      <td>Minor</td>\n      <td>0.0362</td>\n      <td>99.488</td>\n      <td>5/4</td>\n      <td>0.368</td>\n    </tr>\n    <tr>\n      <th>3</th>\n      <td>3</td>\n      <td>Movie</td>\n      <td>Henri Salvador</td>\n      <td>Dis-moi Monsieur Gordon Cooper</td>\n      <td>0Gc6TVm52BwZD07Ki6tIvf</td>\n      <td>0</td>\n      <td>0.703</td>\n      <td>0.240</td>\n      <td>152427</td>\n      <td>0.326</td>\n      <td>0.000</td>\n      <td>C#</td>\n      <td>0.0985</td>\n      <td>-12.178</td>\n      <td>Major</td>\n      <td>0.0395</td>\n      <td>171.758</td>\n      <td>4/4</td>\n      <td>0.227</td>\n    </tr>\n    <tr>\n      <th>4</th>\n      <td>4</td>\n      <td>Movie</td>\n      <td>Fabien Nataf</td>\n      <td>Ouverture</td>\n      <td>0IuslXpMROHdEPvSl1fTQK</td>\n      <td>4</td>\n      <td>0.950</td>\n      <td>0.331</td>\n      <td>82625</td>\n      <td>0.225</td>\n      <td>0.123</td>\n      <td>F</td>\n      <td>0.2020</td>\n      <td>-21.150</td>\n      <td>Major</td>\n      <td>0.0456</td>\n      <td>140.576</td>\n      <td>4/4</td>\n      <td>0.390</td>\n    </tr>\n  </tbody>\n</table>\n</div>"
     },
     "metadata": {},
     "execution_count": 3
    }
   ],
   "source": [
    "# path of our song dataset\n",
    "PATH = '../data/SpotifyFeatures.csv'\n",
    "\n",
    "df = pd.read_csv(PATH)\n",
    "df.head()"
   ]
  },
  {
   "cell_type": "code",
   "execution_count": 4,
   "metadata": {},
   "outputs": [],
   "source": [
    "# wanna keep Danceability, Instrumentalness, Loudness, Speechiness, Valence\n",
    "# drop all other columns (maybe preserve artist name/track name etc.)\n",
    "\n",
    "cols = [\n",
    "    'Unnamed: 0', 'genre', 'popularity', 'duration_ms',\n",
    "    'key', 'mode', 'tempo', 'time_signature', 'acousticness',\n",
    "    'energy', 'liveness'\n",
    "]\n",
    "\n",
    "df = df.drop(cols, axis=1)"
   ]
  },
  {
   "cell_type": "code",
   "execution_count": 5,
   "metadata": {},
   "outputs": [
    {
     "output_type": "execute_result",
     "data": {
      "text/plain": "         artist_name                        track_name  \\\n0     Henri Salvador       C'est beau de faire un Show   \n1  Martin & les fées  Perdu d'avance (par Gad Elmaleh)   \n2    Joseph Williams    Don't Let Me Be Lonely Tonight   \n3     Henri Salvador    Dis-moi Monsieur Gordon Cooper   \n4       Fabien Nataf                         Ouverture   \n\n                 track_id  danceability  instrumentalness  loudness  \\\n0  0BRjO6ga9RKCKjfDqeFgWV         0.389             0.000    -1.828   \n1  0BjC1NfoEOOusryehmNudP         0.590             0.000    -5.559   \n2  0CoSDzoNIKCRs124s9uTVy         0.663             0.000   -13.879   \n3  0Gc6TVm52BwZD07Ki6tIvf         0.240             0.000   -12.178   \n4  0IuslXpMROHdEPvSl1fTQK         0.331             0.123   -21.150   \n\n   speechiness  valence  \n0       0.0525    0.814  \n1       0.0868    0.816  \n2       0.0362    0.368  \n3       0.0395    0.227  \n4       0.0456    0.390  ",
      "text/html": "<div>\n<style scoped>\n    .dataframe tbody tr th:only-of-type {\n        vertical-align: middle;\n    }\n\n    .dataframe tbody tr th {\n        vertical-align: top;\n    }\n\n    .dataframe thead th {\n        text-align: right;\n    }\n</style>\n<table border=\"1\" class=\"dataframe\">\n  <thead>\n    <tr style=\"text-align: right;\">\n      <th></th>\n      <th>artist_name</th>\n      <th>track_name</th>\n      <th>track_id</th>\n      <th>danceability</th>\n      <th>instrumentalness</th>\n      <th>loudness</th>\n      <th>speechiness</th>\n      <th>valence</th>\n    </tr>\n  </thead>\n  <tbody>\n    <tr>\n      <th>0</th>\n      <td>Henri Salvador</td>\n      <td>C'est beau de faire un Show</td>\n      <td>0BRjO6ga9RKCKjfDqeFgWV</td>\n      <td>0.389</td>\n      <td>0.000</td>\n      <td>-1.828</td>\n      <td>0.0525</td>\n      <td>0.814</td>\n    </tr>\n    <tr>\n      <th>1</th>\n      <td>Martin &amp; les fées</td>\n      <td>Perdu d'avance (par Gad Elmaleh)</td>\n      <td>0BjC1NfoEOOusryehmNudP</td>\n      <td>0.590</td>\n      <td>0.000</td>\n      <td>-5.559</td>\n      <td>0.0868</td>\n      <td>0.816</td>\n    </tr>\n    <tr>\n      <th>2</th>\n      <td>Joseph Williams</td>\n      <td>Don't Let Me Be Lonely Tonight</td>\n      <td>0CoSDzoNIKCRs124s9uTVy</td>\n      <td>0.663</td>\n      <td>0.000</td>\n      <td>-13.879</td>\n      <td>0.0362</td>\n      <td>0.368</td>\n    </tr>\n    <tr>\n      <th>3</th>\n      <td>Henri Salvador</td>\n      <td>Dis-moi Monsieur Gordon Cooper</td>\n      <td>0Gc6TVm52BwZD07Ki6tIvf</td>\n      <td>0.240</td>\n      <td>0.000</td>\n      <td>-12.178</td>\n      <td>0.0395</td>\n      <td>0.227</td>\n    </tr>\n    <tr>\n      <th>4</th>\n      <td>Fabien Nataf</td>\n      <td>Ouverture</td>\n      <td>0IuslXpMROHdEPvSl1fTQK</td>\n      <td>0.331</td>\n      <td>0.123</td>\n      <td>-21.150</td>\n      <td>0.0456</td>\n      <td>0.390</td>\n    </tr>\n  </tbody>\n</table>\n</div>"
     },
     "metadata": {},
     "execution_count": 5
    }
   ],
   "source": [
    "df.head()"
   ]
  },
  {
   "cell_type": "markdown",
   "metadata": {},
   "source": [
    "## Data Normalization ##"
   ]
  },
  {
   "cell_type": "code",
   "execution_count": 6,
   "metadata": {},
   "outputs": [
    {
     "output_type": "execute_result",
     "data": {
      "text/plain": "   danceability  instrumentalness  loudness  speechiness  valence\n0         0.389             0.000    -1.828       0.0525    0.814\n1         0.590             0.000    -5.559       0.0868    0.816\n2         0.663             0.000   -13.879       0.0362    0.368\n3         0.240             0.000   -12.178       0.0395    0.227\n4         0.331             0.123   -21.150       0.0456    0.390",
      "text/html": "<div>\n<style scoped>\n    .dataframe tbody tr th:only-of-type {\n        vertical-align: middle;\n    }\n\n    .dataframe tbody tr th {\n        vertical-align: top;\n    }\n\n    .dataframe thead th {\n        text-align: right;\n    }\n</style>\n<table border=\"1\" class=\"dataframe\">\n  <thead>\n    <tr style=\"text-align: right;\">\n      <th></th>\n      <th>danceability</th>\n      <th>instrumentalness</th>\n      <th>loudness</th>\n      <th>speechiness</th>\n      <th>valence</th>\n    </tr>\n  </thead>\n  <tbody>\n    <tr>\n      <th>0</th>\n      <td>0.389</td>\n      <td>0.000</td>\n      <td>-1.828</td>\n      <td>0.0525</td>\n      <td>0.814</td>\n    </tr>\n    <tr>\n      <th>1</th>\n      <td>0.590</td>\n      <td>0.000</td>\n      <td>-5.559</td>\n      <td>0.0868</td>\n      <td>0.816</td>\n    </tr>\n    <tr>\n      <th>2</th>\n      <td>0.663</td>\n      <td>0.000</td>\n      <td>-13.879</td>\n      <td>0.0362</td>\n      <td>0.368</td>\n    </tr>\n    <tr>\n      <th>3</th>\n      <td>0.240</td>\n      <td>0.000</td>\n      <td>-12.178</td>\n      <td>0.0395</td>\n      <td>0.227</td>\n    </tr>\n    <tr>\n      <th>4</th>\n      <td>0.331</td>\n      <td>0.123</td>\n      <td>-21.150</td>\n      <td>0.0456</td>\n      <td>0.390</td>\n    </tr>\n  </tbody>\n</table>\n</div>"
     },
     "metadata": {},
     "execution_count": 6
    }
   ],
   "source": [
    "# our aim here is to make all the data normalized (between 0 and 1)\n",
    "\n",
    "# let's make a dataframe with just the data to be normalized\n",
    "slice_df = df.loc[:, 'danceability':'valence']\n",
    "slice_df.head()"
   ]
  },
  {
   "cell_type": "code",
   "execution_count": 7,
   "metadata": {},
   "outputs": [],
   "source": [
    "import pandas as pd\n",
    "from sklearn import preprocessing\n",
    "\n",
    "x = slice_df.values #returns a numpy array\n",
    "min_max_scaler = preprocessing.MinMaxScaler()\n",
    "x_scaled = min_max_scaler.fit_transform(x)\n",
    "norm_df = pd.DataFrame(x_scaled)"
   ]
  },
  {
   "cell_type": "code",
   "execution_count": 8,
   "metadata": {},
   "outputs": [
    {
     "output_type": "execute_result",
     "data": {
      "text/plain": "          0         1         2         3      4\n0  0.356292  0.000000  0.900856  0.032070  0.814\n1  0.571934  0.000000  0.834469  0.068374  0.816\n2  0.650252  0.000000  0.686429  0.014818  0.368\n3  0.196438  0.000000  0.716695  0.018311  0.227\n4  0.294067  0.123123  0.557054  0.024767  0.390",
      "text/html": "<div>\n<style scoped>\n    .dataframe tbody tr th:only-of-type {\n        vertical-align: middle;\n    }\n\n    .dataframe tbody tr th {\n        vertical-align: top;\n    }\n\n    .dataframe thead th {\n        text-align: right;\n    }\n</style>\n<table border=\"1\" class=\"dataframe\">\n  <thead>\n    <tr style=\"text-align: right;\">\n      <th></th>\n      <th>0</th>\n      <th>1</th>\n      <th>2</th>\n      <th>3</th>\n      <th>4</th>\n    </tr>\n  </thead>\n  <tbody>\n    <tr>\n      <th>0</th>\n      <td>0.356292</td>\n      <td>0.000000</td>\n      <td>0.900856</td>\n      <td>0.032070</td>\n      <td>0.814</td>\n    </tr>\n    <tr>\n      <th>1</th>\n      <td>0.571934</td>\n      <td>0.000000</td>\n      <td>0.834469</td>\n      <td>0.068374</td>\n      <td>0.816</td>\n    </tr>\n    <tr>\n      <th>2</th>\n      <td>0.650252</td>\n      <td>0.000000</td>\n      <td>0.686429</td>\n      <td>0.014818</td>\n      <td>0.368</td>\n    </tr>\n    <tr>\n      <th>3</th>\n      <td>0.196438</td>\n      <td>0.000000</td>\n      <td>0.716695</td>\n      <td>0.018311</td>\n      <td>0.227</td>\n    </tr>\n    <tr>\n      <th>4</th>\n      <td>0.294067</td>\n      <td>0.123123</td>\n      <td>0.557054</td>\n      <td>0.024767</td>\n      <td>0.390</td>\n    </tr>\n  </tbody>\n</table>\n</div>"
     },
     "metadata": {},
     "execution_count": 8
    }
   ],
   "source": [
    "norm_df.head()"
   ]
  },
  {
   "cell_type": "code",
   "execution_count": 9,
   "metadata": {},
   "outputs": [
    {
     "output_type": "execute_result",
     "data": {
      "text/plain": "   danceability  instrumentalness  loudness  speechiness  valence\n0      0.356292          0.000000  0.900856     0.032070    0.814\n1      0.571934          0.000000  0.834469     0.068374    0.816\n2      0.650252          0.000000  0.686429     0.014818    0.368\n3      0.196438          0.000000  0.716695     0.018311    0.227\n4      0.294067          0.123123  0.557054     0.024767    0.390",
      "text/html": "<div>\n<style scoped>\n    .dataframe tbody tr th:only-of-type {\n        vertical-align: middle;\n    }\n\n    .dataframe tbody tr th {\n        vertical-align: top;\n    }\n\n    .dataframe thead th {\n        text-align: right;\n    }\n</style>\n<table border=\"1\" class=\"dataframe\">\n  <thead>\n    <tr style=\"text-align: right;\">\n      <th></th>\n      <th>danceability</th>\n      <th>instrumentalness</th>\n      <th>loudness</th>\n      <th>speechiness</th>\n      <th>valence</th>\n    </tr>\n  </thead>\n  <tbody>\n    <tr>\n      <th>0</th>\n      <td>0.356292</td>\n      <td>0.000000</td>\n      <td>0.900856</td>\n      <td>0.032070</td>\n      <td>0.814</td>\n    </tr>\n    <tr>\n      <th>1</th>\n      <td>0.571934</td>\n      <td>0.000000</td>\n      <td>0.834469</td>\n      <td>0.068374</td>\n      <td>0.816</td>\n    </tr>\n    <tr>\n      <th>2</th>\n      <td>0.650252</td>\n      <td>0.000000</td>\n      <td>0.686429</td>\n      <td>0.014818</td>\n      <td>0.368</td>\n    </tr>\n    <tr>\n      <th>3</th>\n      <td>0.196438</td>\n      <td>0.000000</td>\n      <td>0.716695</td>\n      <td>0.018311</td>\n      <td>0.227</td>\n    </tr>\n    <tr>\n      <th>4</th>\n      <td>0.294067</td>\n      <td>0.123123</td>\n      <td>0.557054</td>\n      <td>0.024767</td>\n      <td>0.390</td>\n    </tr>\n  </tbody>\n</table>\n</div>"
     },
     "metadata": {},
     "execution_count": 9
    }
   ],
   "source": [
    "# columns got renamed, let's fix that\n",
    "# Danceability, Instrumentalness, Loudness, Speechiness, Valence\n",
    "norm_df.columns = ['danceability', 'instrumentalness', 'loudness', 'speechiness', 'valence']\n",
    "norm_df.head()"
   ]
  },
  {
   "cell_type": "code",
   "execution_count": 10,
   "metadata": {},
   "outputs": [
    {
     "output_type": "execute_result",
     "data": {
      "text/plain": "count    232725.000000\nmean          0.104324\nstd           0.196357\nmin           0.000000\n25%           0.015347\n50%           0.029530\n75%           0.087638\nmax           1.000000\nName: speechiness, dtype: float64"
     },
     "metadata": {},
     "execution_count": 10
    }
   ],
   "source": [
    "# speechiness looks really low, let's see if it's actually between 0 and 1\n",
    "\n",
    "norm_df['speechiness'].describe() \n",
    "\n",
    "# guess so... but it's definitely skewed. oh well."
   ]
  },
  {
   "cell_type": "code",
   "execution_count": 11,
   "metadata": {},
   "outputs": [],
   "source": [
    "df = df.loc[:, 'artist_name':'track_id']\n",
    "df = df.join(norm_df)"
   ]
  },
  {
   "cell_type": "code",
   "execution_count": 12,
   "metadata": {},
   "outputs": [
    {
     "output_type": "execute_result",
     "data": {
      "text/plain": "         artist_name                        track_name  \\\n0     Henri Salvador       C'est beau de faire un Show   \n1  Martin & les fées  Perdu d'avance (par Gad Elmaleh)   \n2    Joseph Williams    Don't Let Me Be Lonely Tonight   \n3     Henri Salvador    Dis-moi Monsieur Gordon Cooper   \n4       Fabien Nataf                         Ouverture   \n\n                 track_id  danceability  instrumentalness  loudness  \\\n0  0BRjO6ga9RKCKjfDqeFgWV      0.356292          0.000000  0.900856   \n1  0BjC1NfoEOOusryehmNudP      0.571934          0.000000  0.834469   \n2  0CoSDzoNIKCRs124s9uTVy      0.650252          0.000000  0.686429   \n3  0Gc6TVm52BwZD07Ki6tIvf      0.196438          0.000000  0.716695   \n4  0IuslXpMROHdEPvSl1fTQK      0.294067          0.123123  0.557054   \n\n   speechiness  valence  \n0     0.032070    0.814  \n1     0.068374    0.816  \n2     0.014818    0.368  \n3     0.018311    0.227  \n4     0.024767    0.390  ",
      "text/html": "<div>\n<style scoped>\n    .dataframe tbody tr th:only-of-type {\n        vertical-align: middle;\n    }\n\n    .dataframe tbody tr th {\n        vertical-align: top;\n    }\n\n    .dataframe thead th {\n        text-align: right;\n    }\n</style>\n<table border=\"1\" class=\"dataframe\">\n  <thead>\n    <tr style=\"text-align: right;\">\n      <th></th>\n      <th>artist_name</th>\n      <th>track_name</th>\n      <th>track_id</th>\n      <th>danceability</th>\n      <th>instrumentalness</th>\n      <th>loudness</th>\n      <th>speechiness</th>\n      <th>valence</th>\n    </tr>\n  </thead>\n  <tbody>\n    <tr>\n      <th>0</th>\n      <td>Henri Salvador</td>\n      <td>C'est beau de faire un Show</td>\n      <td>0BRjO6ga9RKCKjfDqeFgWV</td>\n      <td>0.356292</td>\n      <td>0.000000</td>\n      <td>0.900856</td>\n      <td>0.032070</td>\n      <td>0.814</td>\n    </tr>\n    <tr>\n      <th>1</th>\n      <td>Martin &amp; les fées</td>\n      <td>Perdu d'avance (par Gad Elmaleh)</td>\n      <td>0BjC1NfoEOOusryehmNudP</td>\n      <td>0.571934</td>\n      <td>0.000000</td>\n      <td>0.834469</td>\n      <td>0.068374</td>\n      <td>0.816</td>\n    </tr>\n    <tr>\n      <th>2</th>\n      <td>Joseph Williams</td>\n      <td>Don't Let Me Be Lonely Tonight</td>\n      <td>0CoSDzoNIKCRs124s9uTVy</td>\n      <td>0.650252</td>\n      <td>0.000000</td>\n      <td>0.686429</td>\n      <td>0.014818</td>\n      <td>0.368</td>\n    </tr>\n    <tr>\n      <th>3</th>\n      <td>Henri Salvador</td>\n      <td>Dis-moi Monsieur Gordon Cooper</td>\n      <td>0Gc6TVm52BwZD07Ki6tIvf</td>\n      <td>0.196438</td>\n      <td>0.000000</td>\n      <td>0.716695</td>\n      <td>0.018311</td>\n      <td>0.227</td>\n    </tr>\n    <tr>\n      <th>4</th>\n      <td>Fabien Nataf</td>\n      <td>Ouverture</td>\n      <td>0IuslXpMROHdEPvSl1fTQK</td>\n      <td>0.294067</td>\n      <td>0.123123</td>\n      <td>0.557054</td>\n      <td>0.024767</td>\n      <td>0.390</td>\n    </tr>\n  </tbody>\n</table>\n</div>"
     },
     "metadata": {},
     "execution_count": 12
    }
   ],
   "source": [
    "df.head()"
   ]
  },
  {
   "cell_type": "markdown",
   "metadata": {},
   "source": [
    "## Radar Plot Experimentation ##"
   ]
  },
  {
   "cell_type": "code",
   "execution_count": 21,
   "metadata": {},
   "outputs": [
    {
     "output_type": "display_data",
     "data": {
      "application/vnd.plotly.v1+json": {
       "config": {
        "plotlyServerURL": "https://plot.ly"
       },
       "data": [
        {
         "fill": "toself",
         "r": [
          0.356292,
          0,
          0.900856,
          0.814,
          0.356292
         ],
         "theta": [
          "danceability",
          "instrumentalness",
          "loudness",
          "valence"
         ],
         "type": "scatterpolar"
        }
       ],
       "layout": {
        "polar": {
         "radialaxis": {
          "range": [
           0,
           1
          ],
          "visible": true
         }
        },
        "showlegend": false,
        "template": {
         "data": {
          "bar": [
           {
            "error_x": {
             "color": "#2a3f5f"
            },
            "error_y": {
             "color": "#2a3f5f"
            },
            "marker": {
             "line": {
              "color": "#E5ECF6",
              "width": 0.5
             }
            },
            "type": "bar"
           }
          ],
          "barpolar": [
           {
            "marker": {
             "line": {
              "color": "#E5ECF6",
              "width": 0.5
             }
            },
            "type": "barpolar"
           }
          ],
          "carpet": [
           {
            "aaxis": {
             "endlinecolor": "#2a3f5f",
             "gridcolor": "white",
             "linecolor": "white",
             "minorgridcolor": "white",
             "startlinecolor": "#2a3f5f"
            },
            "baxis": {
             "endlinecolor": "#2a3f5f",
             "gridcolor": "white",
             "linecolor": "white",
             "minorgridcolor": "white",
             "startlinecolor": "#2a3f5f"
            },
            "type": "carpet"
           }
          ],
          "choropleth": [
           {
            "colorbar": {
             "outlinewidth": 0,
             "ticks": ""
            },
            "type": "choropleth"
           }
          ],
          "contour": [
           {
            "colorbar": {
             "outlinewidth": 0,
             "ticks": ""
            },
            "colorscale": [
             [
              0,
              "#0d0887"
             ],
             [
              0.1111111111111111,
              "#46039f"
             ],
             [
              0.2222222222222222,
              "#7201a8"
             ],
             [
              0.3333333333333333,
              "#9c179e"
             ],
             [
              0.4444444444444444,
              "#bd3786"
             ],
             [
              0.5555555555555556,
              "#d8576b"
             ],
             [
              0.6666666666666666,
              "#ed7953"
             ],
             [
              0.7777777777777778,
              "#fb9f3a"
             ],
             [
              0.8888888888888888,
              "#fdca26"
             ],
             [
              1,
              "#f0f921"
             ]
            ],
            "type": "contour"
           }
          ],
          "contourcarpet": [
           {
            "colorbar": {
             "outlinewidth": 0,
             "ticks": ""
            },
            "type": "contourcarpet"
           }
          ],
          "heatmap": [
           {
            "colorbar": {
             "outlinewidth": 0,
             "ticks": ""
            },
            "colorscale": [
             [
              0,
              "#0d0887"
             ],
             [
              0.1111111111111111,
              "#46039f"
             ],
             [
              0.2222222222222222,
              "#7201a8"
             ],
             [
              0.3333333333333333,
              "#9c179e"
             ],
             [
              0.4444444444444444,
              "#bd3786"
             ],
             [
              0.5555555555555556,
              "#d8576b"
             ],
             [
              0.6666666666666666,
              "#ed7953"
             ],
             [
              0.7777777777777778,
              "#fb9f3a"
             ],
             [
              0.8888888888888888,
              "#fdca26"
             ],
             [
              1,
              "#f0f921"
             ]
            ],
            "type": "heatmap"
           }
          ],
          "heatmapgl": [
           {
            "colorbar": {
             "outlinewidth": 0,
             "ticks": ""
            },
            "colorscale": [
             [
              0,
              "#0d0887"
             ],
             [
              0.1111111111111111,
              "#46039f"
             ],
             [
              0.2222222222222222,
              "#7201a8"
             ],
             [
              0.3333333333333333,
              "#9c179e"
             ],
             [
              0.4444444444444444,
              "#bd3786"
             ],
             [
              0.5555555555555556,
              "#d8576b"
             ],
             [
              0.6666666666666666,
              "#ed7953"
             ],
             [
              0.7777777777777778,
              "#fb9f3a"
             ],
             [
              0.8888888888888888,
              "#fdca26"
             ],
             [
              1,
              "#f0f921"
             ]
            ],
            "type": "heatmapgl"
           }
          ],
          "histogram": [
           {
            "marker": {
             "colorbar": {
              "outlinewidth": 0,
              "ticks": ""
             }
            },
            "type": "histogram"
           }
          ],
          "histogram2d": [
           {
            "colorbar": {
             "outlinewidth": 0,
             "ticks": ""
            },
            "colorscale": [
             [
              0,
              "#0d0887"
             ],
             [
              0.1111111111111111,
              "#46039f"
             ],
             [
              0.2222222222222222,
              "#7201a8"
             ],
             [
              0.3333333333333333,
              "#9c179e"
             ],
             [
              0.4444444444444444,
              "#bd3786"
             ],
             [
              0.5555555555555556,
              "#d8576b"
             ],
             [
              0.6666666666666666,
              "#ed7953"
             ],
             [
              0.7777777777777778,
              "#fb9f3a"
             ],
             [
              0.8888888888888888,
              "#fdca26"
             ],
             [
              1,
              "#f0f921"
             ]
            ],
            "type": "histogram2d"
           }
          ],
          "histogram2dcontour": [
           {
            "colorbar": {
             "outlinewidth": 0,
             "ticks": ""
            },
            "colorscale": [
             [
              0,
              "#0d0887"
             ],
             [
              0.1111111111111111,
              "#46039f"
             ],
             [
              0.2222222222222222,
              "#7201a8"
             ],
             [
              0.3333333333333333,
              "#9c179e"
             ],
             [
              0.4444444444444444,
              "#bd3786"
             ],
             [
              0.5555555555555556,
              "#d8576b"
             ],
             [
              0.6666666666666666,
              "#ed7953"
             ],
             [
              0.7777777777777778,
              "#fb9f3a"
             ],
             [
              0.8888888888888888,
              "#fdca26"
             ],
             [
              1,
              "#f0f921"
             ]
            ],
            "type": "histogram2dcontour"
           }
          ],
          "mesh3d": [
           {
            "colorbar": {
             "outlinewidth": 0,
             "ticks": ""
            },
            "type": "mesh3d"
           }
          ],
          "parcoords": [
           {
            "line": {
             "colorbar": {
              "outlinewidth": 0,
              "ticks": ""
             }
            },
            "type": "parcoords"
           }
          ],
          "pie": [
           {
            "automargin": true,
            "type": "pie"
           }
          ],
          "scatter": [
           {
            "marker": {
             "colorbar": {
              "outlinewidth": 0,
              "ticks": ""
             }
            },
            "type": "scatter"
           }
          ],
          "scatter3d": [
           {
            "line": {
             "colorbar": {
              "outlinewidth": 0,
              "ticks": ""
             }
            },
            "marker": {
             "colorbar": {
              "outlinewidth": 0,
              "ticks": ""
             }
            },
            "type": "scatter3d"
           }
          ],
          "scattercarpet": [
           {
            "marker": {
             "colorbar": {
              "outlinewidth": 0,
              "ticks": ""
             }
            },
            "type": "scattercarpet"
           }
          ],
          "scattergeo": [
           {
            "marker": {
             "colorbar": {
              "outlinewidth": 0,
              "ticks": ""
             }
            },
            "type": "scattergeo"
           }
          ],
          "scattergl": [
           {
            "marker": {
             "colorbar": {
              "outlinewidth": 0,
              "ticks": ""
             }
            },
            "type": "scattergl"
           }
          ],
          "scattermapbox": [
           {
            "marker": {
             "colorbar": {
              "outlinewidth": 0,
              "ticks": ""
             }
            },
            "type": "scattermapbox"
           }
          ],
          "scatterpolar": [
           {
            "marker": {
             "colorbar": {
              "outlinewidth": 0,
              "ticks": ""
             }
            },
            "type": "scatterpolar"
           }
          ],
          "scatterpolargl": [
           {
            "marker": {
             "colorbar": {
              "outlinewidth": 0,
              "ticks": ""
             }
            },
            "type": "scatterpolargl"
           }
          ],
          "scatterternary": [
           {
            "marker": {
             "colorbar": {
              "outlinewidth": 0,
              "ticks": ""
             }
            },
            "type": "scatterternary"
           }
          ],
          "surface": [
           {
            "colorbar": {
             "outlinewidth": 0,
             "ticks": ""
            },
            "colorscale": [
             [
              0,
              "#0d0887"
             ],
             [
              0.1111111111111111,
              "#46039f"
             ],
             [
              0.2222222222222222,
              "#7201a8"
             ],
             [
              0.3333333333333333,
              "#9c179e"
             ],
             [
              0.4444444444444444,
              "#bd3786"
             ],
             [
              0.5555555555555556,
              "#d8576b"
             ],
             [
              0.6666666666666666,
              "#ed7953"
             ],
             [
              0.7777777777777778,
              "#fb9f3a"
             ],
             [
              0.8888888888888888,
              "#fdca26"
             ],
             [
              1,
              "#f0f921"
             ]
            ],
            "type": "surface"
           }
          ],
          "table": [
           {
            "cells": {
             "fill": {
              "color": "#EBF0F8"
             },
             "line": {
              "color": "white"
             }
            },
            "header": {
             "fill": {
              "color": "#C8D4E3"
             },
             "line": {
              "color": "white"
             }
            },
            "type": "table"
           }
          ]
         },
         "layout": {
          "annotationdefaults": {
           "arrowcolor": "#2a3f5f",
           "arrowhead": 0,
           "arrowwidth": 1
          },
          "coloraxis": {
           "colorbar": {
            "outlinewidth": 0,
            "ticks": ""
           }
          },
          "colorscale": {
           "diverging": [
            [
             0,
             "#8e0152"
            ],
            [
             0.1,
             "#c51b7d"
            ],
            [
             0.2,
             "#de77ae"
            ],
            [
             0.3,
             "#f1b6da"
            ],
            [
             0.4,
             "#fde0ef"
            ],
            [
             0.5,
             "#f7f7f7"
            ],
            [
             0.6,
             "#e6f5d0"
            ],
            [
             0.7,
             "#b8e186"
            ],
            [
             0.8,
             "#7fbc41"
            ],
            [
             0.9,
             "#4d9221"
            ],
            [
             1,
             "#276419"
            ]
           ],
           "sequential": [
            [
             0,
             "#0d0887"
            ],
            [
             0.1111111111111111,
             "#46039f"
            ],
            [
             0.2222222222222222,
             "#7201a8"
            ],
            [
             0.3333333333333333,
             "#9c179e"
            ],
            [
             0.4444444444444444,
             "#bd3786"
            ],
            [
             0.5555555555555556,
             "#d8576b"
            ],
            [
             0.6666666666666666,
             "#ed7953"
            ],
            [
             0.7777777777777778,
             "#fb9f3a"
            ],
            [
             0.8888888888888888,
             "#fdca26"
            ],
            [
             1,
             "#f0f921"
            ]
           ],
           "sequentialminus": [
            [
             0,
             "#0d0887"
            ],
            [
             0.1111111111111111,
             "#46039f"
            ],
            [
             0.2222222222222222,
             "#7201a8"
            ],
            [
             0.3333333333333333,
             "#9c179e"
            ],
            [
             0.4444444444444444,
             "#bd3786"
            ],
            [
             0.5555555555555556,
             "#d8576b"
            ],
            [
             0.6666666666666666,
             "#ed7953"
            ],
            [
             0.7777777777777778,
             "#fb9f3a"
            ],
            [
             0.8888888888888888,
             "#fdca26"
            ],
            [
             1,
             "#f0f921"
            ]
           ]
          },
          "colorway": [
           "#636efa",
           "#EF553B",
           "#00cc96",
           "#ab63fa",
           "#FFA15A",
           "#19d3f3",
           "#FF6692",
           "#B6E880",
           "#FF97FF",
           "#FECB52"
          ],
          "font": {
           "color": "#2a3f5f"
          },
          "geo": {
           "bgcolor": "white",
           "lakecolor": "white",
           "landcolor": "#E5ECF6",
           "showlakes": true,
           "showland": true,
           "subunitcolor": "white"
          },
          "hoverlabel": {
           "align": "left"
          },
          "hovermode": "closest",
          "mapbox": {
           "style": "light"
          },
          "paper_bgcolor": "white",
          "plot_bgcolor": "#E5ECF6",
          "polar": {
           "angularaxis": {
            "gridcolor": "white",
            "linecolor": "white",
            "ticks": ""
           },
           "bgcolor": "#E5ECF6",
           "radialaxis": {
            "gridcolor": "white",
            "linecolor": "white",
            "ticks": ""
           }
          },
          "scene": {
           "xaxis": {
            "backgroundcolor": "#E5ECF6",
            "gridcolor": "white",
            "gridwidth": 2,
            "linecolor": "white",
            "showbackground": true,
            "ticks": "",
            "zerolinecolor": "white"
           },
           "yaxis": {
            "backgroundcolor": "#E5ECF6",
            "gridcolor": "white",
            "gridwidth": 2,
            "linecolor": "white",
            "showbackground": true,
            "ticks": "",
            "zerolinecolor": "white"
           },
           "zaxis": {
            "backgroundcolor": "#E5ECF6",
            "gridcolor": "white",
            "gridwidth": 2,
            "linecolor": "white",
            "showbackground": true,
            "ticks": "",
            "zerolinecolor": "white"
           }
          },
          "shapedefaults": {
           "line": {
            "color": "#2a3f5f"
           }
          },
          "ternary": {
           "aaxis": {
            "gridcolor": "white",
            "linecolor": "white",
            "ticks": ""
           },
           "baxis": {
            "gridcolor": "white",
            "linecolor": "white",
            "ticks": ""
           },
           "bgcolor": "#E5ECF6",
           "caxis": {
            "gridcolor": "white",
            "linecolor": "white",
            "ticks": ""
           }
          },
          "title": {
           "x": 0.05
          },
          "xaxis": {
           "automargin": true,
           "gridcolor": "white",
           "linecolor": "white",
           "ticks": "",
           "title": {
            "standoff": 15
           },
           "zerolinecolor": "white",
           "zerolinewidth": 2
          },
          "yaxis": {
           "automargin": true,
           "gridcolor": "white",
           "linecolor": "white",
           "ticks": "",
           "title": {
            "standoff": 15
           },
           "zerolinecolor": "white",
           "zerolinewidth": 2
          }
         }
        }
       }
      }
     },
     "metadata": {}
    }
   ],
   "source": [
    "import plotly.graph_objects as go\n",
    "import numpy as np\n",
    "\n",
    "def make_graph(track_id_input):\n",
    "\n",
    "    aa = np.array([track_id_input['danceability']]) # danceability\n",
    "    bb = np.array([0.000000]) # instrumentalness\n",
    "    cc = np.array([0.900856]) # loudness\n",
    "    dd = np.array([0.814000]) # valence\n",
    "    ee = np.array([0.356292]) # danceability again (to \"close\" graph)\n",
    "\n",
    "    categories = ['danceability', 'instrumentalness', 'loudness', 'valence']\n",
    "\n",
    "    fig = go.Figure()\n",
    "\n",
    "    fig.add_trace(go.Scatterpolar(\n",
    "          r=[aa[0], bb[0], cc[0], dd[0], ee[0]],\n",
    "          theta=categories,\n",
    "          fill='toself'\n",
    "    ))\n",
    "\n",
    "    fig.update_layout(\n",
    "      polar=dict(\n",
    "        radialaxis=dict(\n",
    "          visible=True,\n",
    "          range=[0, 1]\n",
    "        )),\n",
    "          showlegend=False\n",
    "    )\n",
    "\n",
    "    fig.show()"
   ]
  },
  {
   "cell_type": "markdown",
   "metadata": {},
   "source": [
    "## Audio Features: ##"
   ]
  },
  {
   "cell_type": "code",
   "execution_count": 10,
   "metadata": {},
   "outputs": [
    {
     "output_type": "execute_result",
     "data": {
      "text/plain": "         artist_name                        track_name  \\\n0     Henri Salvador       C'est beau de faire un Show   \n1  Martin & les fées  Perdu d'avance (par Gad Elmaleh)   \n2    Joseph Williams    Don't Let Me Be Lonely Tonight   \n3     Henri Salvador    Dis-moi Monsieur Gordon Cooper   \n4       Fabien Nataf                         Ouverture   \n\n                 track_id  danceability  instrumentalness  loudness  \\\n0  0BRjO6ga9RKCKjfDqeFgWV         0.389             0.000    -1.828   \n1  0BjC1NfoEOOusryehmNudP         0.590             0.000    -5.559   \n2  0CoSDzoNIKCRs124s9uTVy         0.663             0.000   -13.879   \n3  0Gc6TVm52BwZD07Ki6tIvf         0.240             0.000   -12.178   \n4  0IuslXpMROHdEPvSl1fTQK         0.331             0.123   -21.150   \n\n   speechiness  valence  \n0       0.0525    0.814  \n1       0.0868    0.816  \n2       0.0362    0.368  \n3       0.0395    0.227  \n4       0.0456    0.390  ",
      "text/html": "<div>\n<style scoped>\n    .dataframe tbody tr th:only-of-type {\n        vertical-align: middle;\n    }\n\n    .dataframe tbody tr th {\n        vertical-align: top;\n    }\n\n    .dataframe thead th {\n        text-align: right;\n    }\n</style>\n<table border=\"1\" class=\"dataframe\">\n  <thead>\n    <tr style=\"text-align: right;\">\n      <th></th>\n      <th>artist_name</th>\n      <th>track_name</th>\n      <th>track_id</th>\n      <th>danceability</th>\n      <th>instrumentalness</th>\n      <th>loudness</th>\n      <th>speechiness</th>\n      <th>valence</th>\n    </tr>\n  </thead>\n  <tbody>\n    <tr>\n      <th>0</th>\n      <td>Henri Salvador</td>\n      <td>C'est beau de faire un Show</td>\n      <td>0BRjO6ga9RKCKjfDqeFgWV</td>\n      <td>0.389</td>\n      <td>0.000</td>\n      <td>-1.828</td>\n      <td>0.0525</td>\n      <td>0.814</td>\n    </tr>\n    <tr>\n      <th>1</th>\n      <td>Martin &amp; les fées</td>\n      <td>Perdu d'avance (par Gad Elmaleh)</td>\n      <td>0BjC1NfoEOOusryehmNudP</td>\n      <td>0.590</td>\n      <td>0.000</td>\n      <td>-5.559</td>\n      <td>0.0868</td>\n      <td>0.816</td>\n    </tr>\n    <tr>\n      <th>2</th>\n      <td>Joseph Williams</td>\n      <td>Don't Let Me Be Lonely Tonight</td>\n      <td>0CoSDzoNIKCRs124s9uTVy</td>\n      <td>0.663</td>\n      <td>0.000</td>\n      <td>-13.879</td>\n      <td>0.0362</td>\n      <td>0.368</td>\n    </tr>\n    <tr>\n      <th>3</th>\n      <td>Henri Salvador</td>\n      <td>Dis-moi Monsieur Gordon Cooper</td>\n      <td>0Gc6TVm52BwZD07Ki6tIvf</td>\n      <td>0.240</td>\n      <td>0.000</td>\n      <td>-12.178</td>\n      <td>0.0395</td>\n      <td>0.227</td>\n    </tr>\n    <tr>\n      <th>4</th>\n      <td>Fabien Nataf</td>\n      <td>Ouverture</td>\n      <td>0IuslXpMROHdEPvSl1fTQK</td>\n      <td>0.331</td>\n      <td>0.123</td>\n      <td>-21.150</td>\n      <td>0.0456</td>\n      <td>0.390</td>\n    </tr>\n  </tbody>\n</table>\n</div>"
     },
     "metadata": {},
     "execution_count": 10
    }
   ],
   "source": [
    "# Let's start with a spread of each feature over the entire dataset\n",
    "# We're going to consider this a spread of all music as whole? idk\n",
    "\n",
    "df.head()"
   ]
  },
  {
   "cell_type": "code",
   "execution_count": 32,
   "metadata": {},
   "outputs": [
    {
     "output_type": "execute_result",
     "data": {
      "text/plain": "<AxesSubplot:xlabel='loudness'>"
     },
     "metadata": {},
     "execution_count": 32
    },
    {
     "output_type": "display_data",
     "data": {
      "text/plain": "<Figure size 432x288 with 1 Axes>",
      "image/svg+xml": "<?xml version=\"1.0\" encoding=\"utf-8\" standalone=\"no\"?>\n<!DOCTYPE svg PUBLIC \"-//W3C//DTD SVG 1.1//EN\"\n  \"http://www.w3.org/Graphics/SVG/1.1/DTD/svg11.dtd\">\n<!-- Created with matplotlib (https://matplotlib.org/) -->\n<svg height=\"264.776049pt\" version=\"1.1\" viewBox=\"0 0 362.5625 264.776049\" width=\"362.5625pt\" xmlns=\"http://www.w3.org/2000/svg\" xmlns:xlink=\"http://www.w3.org/1999/xlink\">\n <metadata>\n  <rdf:RDF xmlns:cc=\"http://creativecommons.org/ns#\" xmlns:dc=\"http://purl.org/dc/elements/1.1/\" xmlns:rdf=\"http://www.w3.org/1999/02/22-rdf-syntax-ns#\">\n   <cc:Work>\n    <dc:type rdf:resource=\"http://purl.org/dc/dcmitype/StillImage\"/>\n    <dc:date>2020-07-29T15:07:38.319396</dc:date>\n    <dc:format>image/svg+xml</dc:format>\n    <dc:creator>\n     <cc:Agent>\n      <dc:title>Matplotlib v3.3.0, https://matplotlib.org/</dc:title>\n     </cc:Agent>\n    </dc:creator>\n   </cc:Work>\n  </rdf:RDF>\n </metadata>\n <defs>\n  <style type=\"text/css\">*{stroke-linecap:butt;stroke-linejoin:round;}</style>\n </defs>\n <g id=\"figure_1\">\n  <g id=\"patch_1\">\n   <path d=\"M 0 264.776049 \nL 362.5625 264.776049 \nL 362.5625 0 \nL 0 0 \nz\n\" style=\"fill:none;\"/>\n  </g>\n  <g id=\"axes_1\">\n   <g id=\"patch_2\">\n    <path d=\"M 20.5625 227.219799 \nL 355.3625 227.219799 \nL 355.3625 9.779799 \nL 20.5625 9.779799 \nz\n\" style=\"fill:#ffffff;\"/>\n   </g>\n   <g id=\"patch_3\">\n    <path clip-path=\"url(#p3ebc3417a8)\" d=\"M 49.72923 227.219799 \nL 55.258561 227.219799 \nL 55.258561 221.65858 \nL 49.72923 221.65858 \nz\n\" style=\"fill:#1f77b4;opacity:0.4;\"/>\n   </g>\n   <g id=\"patch_4\">\n    <path clip-path=\"url(#p3ebc3417a8)\" d=\"M 55.258561 227.219799 \nL 60.787891 227.219799 \nL 60.787891 220.842315 \nL 55.258561 220.842315 \nz\n\" style=\"fill:#1f77b4;opacity:0.4;\"/>\n   </g>\n   <g id=\"patch_5\">\n    <path clip-path=\"url(#p3ebc3417a8)\" d=\"M 60.787891 227.219799 \nL 66.317222 227.219799 \nL 66.317222 221.253766 \nL 60.787891 221.253766 \nz\n\" style=\"fill:#1f77b4;opacity:0.4;\"/>\n   </g>\n   <g id=\"patch_6\">\n    <path clip-path=\"url(#p3ebc3417a8)\" d=\"M 66.317222 227.219799 \nL 71.846553 227.219799 \nL 71.846553 220.238412 \nL 66.317222 220.238412 \nz\n\" style=\"fill:#1f77b4;opacity:0.4;\"/>\n   </g>\n   <g id=\"patch_7\">\n    <path clip-path=\"url(#p3ebc3417a8)\" d=\"M 71.846553 227.219799 \nL 77.375884 227.219799 \nL 77.375884 216.648174 \nL 71.846553 216.648174 \nz\n\" style=\"fill:#1f77b4;opacity:0.4;\"/>\n   </g>\n   <g id=\"patch_8\">\n    <path clip-path=\"url(#p3ebc3417a8)\" d=\"M 77.375884 227.219799 \nL 82.905215 227.219799 \nL 82.905215 214.438287 \nL 77.375884 214.438287 \nz\n\" style=\"fill:#1f77b4;opacity:0.4;\"/>\n   </g>\n   <g id=\"patch_9\">\n    <path clip-path=\"url(#p3ebc3417a8)\" d=\"M 82.905215 227.219799 \nL 88.434545 227.219799 \nL 88.434545 212.51376 \nL 82.905215 212.51376 \nz\n\" style=\"fill:#1f77b4;opacity:0.4;\"/>\n   </g>\n   <g id=\"patch_10\">\n    <path clip-path=\"url(#p3ebc3417a8)\" d=\"M 88.434545 227.219799 \nL 93.963876 227.219799 \nL 93.963876 212.241672 \nL 88.434545 212.241672 \nz\n\" style=\"fill:#1f77b4;opacity:0.4;\"/>\n   </g>\n   <g id=\"patch_11\">\n    <path clip-path=\"url(#p3ebc3417a8)\" d=\"M 93.963876 227.219799 \nL 99.493207 227.219799 \nL 99.493207 212.20849 \nL 93.963876 212.20849 \nz\n\" style=\"fill:#1f77b4;opacity:0.4;\"/>\n   </g>\n   <g id=\"patch_12\">\n    <path clip-path=\"url(#p3ebc3417a8)\" d=\"M 99.493207 227.219799 \nL 105.022538 227.219799 \nL 105.022538 210.642324 \nL 99.493207 210.642324 \nz\n\" style=\"fill:#1f77b4;opacity:0.4;\"/>\n   </g>\n   <g id=\"patch_13\">\n    <path clip-path=\"url(#p3ebc3417a8)\" d=\"M 105.022538 227.219799 \nL 110.551869 227.219799 \nL 110.551869 210.118056 \nL 105.022538 210.118056 \nz\n\" style=\"fill:#1f77b4;opacity:0.4;\"/>\n   </g>\n   <g id=\"patch_14\">\n    <path clip-path=\"url(#p3ebc3417a8)\" d=\"M 110.551869 227.219799 \nL 116.0812 227.219799 \nL 116.0812 208.445709 \nL 110.551869 208.445709 \nz\n\" style=\"fill:#1f77b4;opacity:0.4;\"/>\n   </g>\n   <g id=\"patch_15\">\n    <path clip-path=\"url(#p3ebc3417a8)\" d=\"M 116.0812 227.219799 \nL 121.61053 227.219799 \nL 121.61053 206.640635 \nL 116.0812 206.640635 \nz\n\" style=\"fill:#1f77b4;opacity:0.4;\"/>\n   </g>\n   <g id=\"patch_16\">\n    <path clip-path=\"url(#p3ebc3417a8)\" d=\"M 121.61053 227.219799 \nL 127.139861 227.219799 \nL 127.139861 206.123004 \nL 121.61053 206.123004 \nz\n\" style=\"fill:#1f77b4;opacity:0.4;\"/>\n   </g>\n   <g id=\"patch_17\">\n    <path clip-path=\"url(#p3ebc3417a8)\" d=\"M 127.139861 227.219799 \nL 132.669192 227.219799 \nL 132.669192 202.141224 \nL 127.139861 202.141224 \nz\n\" style=\"fill:#1f77b4;opacity:0.4;\"/>\n   </g>\n   <g id=\"patch_18\">\n    <path clip-path=\"url(#p3ebc3417a8)\" d=\"M 132.669192 227.219799 \nL 138.198523 227.219799 \nL 138.198523 201.225415 \nL 132.669192 201.225415 \nz\n\" style=\"fill:#1f77b4;opacity:0.4;\"/>\n   </g>\n   <g id=\"patch_19\">\n    <path clip-path=\"url(#p3ebc3417a8)\" d=\"M 138.198523 227.219799 \nL 143.727854 227.219799 \nL 143.727854 199.393797 \nL 138.198523 199.393797 \nz\n\" style=\"fill:#1f77b4;opacity:0.4;\"/>\n   </g>\n   <g id=\"patch_20\">\n    <path clip-path=\"url(#p3ebc3417a8)\" d=\"M 143.727854 227.219799 \nL 149.257184 227.219799 \nL 149.257184 194.137848 \nL 143.727854 194.137848 \nz\n\" style=\"fill:#1f77b4;opacity:0.4;\"/>\n   </g>\n   <g id=\"patch_21\">\n    <path clip-path=\"url(#p3ebc3417a8)\" d=\"M 149.257184 227.219799 \nL 154.786515 227.219799 \nL 154.786515 190.879425 \nL 149.257184 190.879425 \nz\n\" style=\"fill:#1f77b4;opacity:0.4;\"/>\n   </g>\n   <g id=\"patch_22\">\n    <path clip-path=\"url(#p3ebc3417a8)\" d=\"M 154.786515 227.219799 \nL 160.315846 227.219799 \nL 160.315846 189.34644 \nL 154.786515 189.34644 \nz\n\" style=\"fill:#1f77b4;opacity:0.4;\"/>\n   </g>\n   <g id=\"patch_23\">\n    <path clip-path=\"url(#p3ebc3417a8)\" d=\"M 160.315846 227.219799 \nL 165.845177 227.219799 \nL 165.845177 184.428942 \nL 160.315846 184.428942 \nz\n\" style=\"fill:#1f77b4;opacity:0.4;\"/>\n   </g>\n   <g id=\"patch_24\">\n    <path clip-path=\"url(#p3ebc3417a8)\" d=\"M 165.845177 227.219799 \nL 171.374508 227.219799 \nL 171.374508 180.858613 \nL 165.845177 180.858613 \nz\n\" style=\"fill:#1f77b4;opacity:0.4;\"/>\n   </g>\n   <g id=\"patch_25\">\n    <path clip-path=\"url(#p3ebc3417a8)\" d=\"M 171.374508 227.219799 \nL 176.903838 227.219799 \nL 176.903838 179.113266 \nL 171.374508 179.113266 \nz\n\" style=\"fill:#1f77b4;opacity:0.4;\"/>\n   </g>\n   <g id=\"patch_26\">\n    <path clip-path=\"url(#p3ebc3417a8)\" d=\"M 176.903838 227.219799 \nL 182.433169 227.219799 \nL 182.433169 174.348404 \nL 176.903838 174.348404 \nz\n\" style=\"fill:#1f77b4;opacity:0.4;\"/>\n   </g>\n   <g id=\"patch_27\">\n    <path clip-path=\"url(#p3ebc3417a8)\" d=\"M 182.433169 227.219799 \nL 187.9625 227.219799 \nL 187.9625 172.928236 \nL 182.433169 172.928236 \nz\n\" style=\"fill:#1f77b4;opacity:0.4;\"/>\n   </g>\n   <g id=\"patch_28\">\n    <path clip-path=\"url(#p3ebc3417a8)\" d=\"M 187.9625 227.219799 \nL 193.491831 227.219799 \nL 193.491831 167.154655 \nL 187.9625 167.154655 \nz\n\" style=\"fill:#1f77b4;opacity:0.4;\"/>\n   </g>\n   <g id=\"patch_29\">\n    <path clip-path=\"url(#p3ebc3417a8)\" d=\"M 193.491831 227.219799 \nL 199.021162 227.219799 \nL 199.021162 165.070857 \nL 193.491831 165.070857 \nz\n\" style=\"fill:#1f77b4;opacity:0.4;\"/>\n   </g>\n   <g id=\"patch_30\">\n    <path clip-path=\"url(#p3ebc3417a8)\" d=\"M 199.021162 227.219799 \nL 204.550492 227.219799 \nL 204.550492 169.112364 \nL 199.021162 169.112364 \nz\n\" style=\"fill:#1f77b4;opacity:0.4;\"/>\n   </g>\n   <g id=\"patch_31\">\n    <path clip-path=\"url(#p3ebc3417a8)\" d=\"M 204.550492 227.219799 \nL 210.079823 227.219799 \nL 210.079823 165.097403 \nL 204.550492 165.097403 \nz\n\" style=\"fill:#1f77b4;opacity:0.4;\"/>\n   </g>\n   <g id=\"patch_32\">\n    <path clip-path=\"url(#p3ebc3417a8)\" d=\"M 210.079823 227.219799 \nL 215.609154 227.219799 \nL 215.609154 165.668124 \nL 210.079823 165.668124 \nz\n\" style=\"fill:#1f77b4;opacity:0.4;\"/>\n   </g>\n   <g id=\"patch_33\">\n    <path clip-path=\"url(#p3ebc3417a8)\" d=\"M 215.609154 227.219799 \nL 221.138485 227.219799 \nL 221.138485 168.58146 \nL 215.609154 168.58146 \nz\n\" style=\"fill:#1f77b4;opacity:0.4;\"/>\n   </g>\n   <g id=\"patch_34\">\n    <path clip-path=\"url(#p3ebc3417a8)\" d=\"M 221.138485 227.219799 \nL 226.667816 227.219799 \nL 226.667816 167.061747 \nL 221.138485 167.061747 \nz\n\" style=\"fill:#1f77b4;opacity:0.4;\"/>\n   </g>\n   <g id=\"patch_35\">\n    <path clip-path=\"url(#p3ebc3417a8)\" d=\"M 226.667816 227.219799 \nL 232.197146 227.219799 \nL 232.197146 167.572742 \nL 226.667816 167.572742 \nz\n\" style=\"fill:#1f77b4;opacity:0.4;\"/>\n   </g>\n   <g id=\"patch_36\">\n    <path clip-path=\"url(#p3ebc3417a8)\" d=\"M 232.197146 227.219799 \nL 237.726477 227.219799 \nL 237.726477 172.032335 \nL 232.197146 172.032335 \nz\n\" style=\"fill:#1f77b4;opacity:0.4;\"/>\n   </g>\n   <g id=\"patch_37\">\n    <path clip-path=\"url(#p3ebc3417a8)\" d=\"M 237.726477 227.219799 \nL 243.255808 227.219799 \nL 243.255808 172.277878 \nL 237.726477 172.277878 \nz\n\" style=\"fill:#1f77b4;opacity:0.4;\"/>\n   </g>\n   <g id=\"patch_38\">\n    <path clip-path=\"url(#p3ebc3417a8)\" d=\"M 243.255808 227.219799 \nL 248.785139 227.219799 \nL 248.785139 175.602664 \nL 243.255808 175.602664 \nz\n\" style=\"fill:#1f77b4;opacity:0.4;\"/>\n   </g>\n   <g id=\"patch_39\">\n    <path clip-path=\"url(#p3ebc3417a8)\" d=\"M 248.785139 227.219799 \nL 254.31447 227.219799 \nL 254.31447 182.856139 \nL 248.785139 182.856139 \nz\n\" style=\"fill:#1f77b4;opacity:0.4;\"/>\n   </g>\n   <g id=\"patch_40\">\n    <path clip-path=\"url(#p3ebc3417a8)\" d=\"M 254.31447 227.219799 \nL 259.8438 227.219799 \nL 259.8438 183.904674 \nL 254.31447 183.904674 \nz\n\" style=\"fill:#1f77b4;opacity:0.4;\"/>\n   </g>\n   <g id=\"patch_41\">\n    <path clip-path=\"url(#p3ebc3417a8)\" d=\"M 259.8438 227.219799 \nL 265.373131 227.219799 \nL 265.373131 189.910525 \nL 259.8438 189.910525 \nz\n\" style=\"fill:#1f77b4;opacity:0.4;\"/>\n   </g>\n   <g id=\"patch_42\">\n    <path clip-path=\"url(#p3ebc3417a8)\" d=\"M 265.373131 227.219799 \nL 270.902462 227.219799 \nL 270.902462 191.118332 \nL 265.373131 191.118332 \nz\n\" style=\"fill:#1f77b4;opacity:0.4;\"/>\n   </g>\n   <g id=\"patch_43\">\n    <path clip-path=\"url(#p3ebc3417a8)\" d=\"M 270.902462 227.219799 \nL 276.431793 227.219799 \nL 276.431793 198.371806 \nL 270.902462 198.371806 \nz\n\" style=\"fill:#1f77b4;opacity:0.4;\"/>\n   </g>\n   <g id=\"patch_44\">\n    <path clip-path=\"url(#p3ebc3417a8)\" d=\"M 276.431793 227.219799 \nL 281.961124 227.219799 \nL 281.961124 203.070306 \nL 276.431793 203.070306 \nz\n\" style=\"fill:#1f77b4;opacity:0.4;\"/>\n   </g>\n   <g id=\"patch_45\">\n    <path clip-path=\"url(#p3ebc3417a8)\" d=\"M 281.961124 227.219799 \nL 287.490455 227.219799 \nL 287.490455 206.295548 \nL 281.961124 206.295548 \nz\n\" style=\"fill:#1f77b4;opacity:0.4;\"/>\n   </g>\n   <g id=\"patch_46\">\n    <path clip-path=\"url(#p3ebc3417a8)\" d=\"M 287.490455 227.219799 \nL 293.019785 227.219799 \nL 293.019785 211.684223 \nL 287.490455 211.684223 \nz\n\" style=\"fill:#1f77b4;opacity:0.4;\"/>\n   </g>\n   <g id=\"patch_47\">\n    <path clip-path=\"url(#p3ebc3417a8)\" d=\"M 293.019785 227.219799 \nL 298.549116 227.219799 \nL 298.549116 215.559821 \nL 293.019785 215.559821 \nz\n\" style=\"fill:#1f77b4;opacity:0.4;\"/>\n   </g>\n   <g id=\"patch_48\">\n    <path clip-path=\"url(#p3ebc3417a8)\" d=\"M 298.549116 227.219799 \nL 304.078447 227.219799 \nL 304.078447 218.53952 \nL 298.549116 218.53952 \nz\n\" style=\"fill:#1f77b4;opacity:0.4;\"/>\n   </g>\n   <g id=\"patch_49\">\n    <path clip-path=\"url(#p3ebc3417a8)\" d=\"M 304.078447 227.219799 \nL 309.607778 227.219799 \nL 309.607778 221.24713 \nL 304.078447 221.24713 \nz\n\" style=\"fill:#1f77b4;opacity:0.4;\"/>\n   </g>\n   <g id=\"patch_50\">\n    <path clip-path=\"url(#p3ebc3417a8)\" d=\"M 309.607778 227.219799 \nL 315.137109 227.219799 \nL 315.137109 223.782196 \nL 309.607778 223.782196 \nz\n\" style=\"fill:#1f77b4;opacity:0.4;\"/>\n   </g>\n   <g id=\"patch_51\">\n    <path clip-path=\"url(#p3ebc3417a8)\" d=\"M 315.137109 227.219799 \nL 320.666439 227.219799 \nL 320.666439 225.381544 \nL 315.137109 225.381544 \nz\n\" style=\"fill:#1f77b4;opacity:0.4;\"/>\n   </g>\n   <g id=\"patch_52\">\n    <path clip-path=\"url(#p3ebc3417a8)\" d=\"M 320.666439 227.219799 \nL 326.19577 227.219799 \nL 326.19577 226.788439 \nL 320.666439 226.788439 \nz\n\" style=\"fill:#1f77b4;opacity:0.4;\"/>\n   </g>\n   <g id=\"patch_53\">\n    <path clip-path=\"url(#p3ebc3417a8)\" d=\"M 49.72923 227.219799 \nL 55.258561 227.219799 \nL 55.258561 227.213162 \nL 49.72923 227.213162 \nz\n\" style=\"fill:#ff7f0e;opacity:0.4;\"/>\n   </g>\n   <g id=\"patch_54\">\n    <path clip-path=\"url(#p3ebc3417a8)\" d=\"M 55.258561 227.219799 \nL 60.787891 227.219799 \nL 60.787891 227.219799 \nL 55.258561 227.219799 \nz\n\" style=\"fill:#ff7f0e;opacity:0.4;\"/>\n   </g>\n   <g id=\"patch_55\">\n    <path clip-path=\"url(#p3ebc3417a8)\" d=\"M 60.787891 227.219799 \nL 66.317222 227.219799 \nL 66.317222 227.219799 \nL 60.787891 227.219799 \nz\n\" style=\"fill:#ff7f0e;opacity:0.4;\"/>\n   </g>\n   <g id=\"patch_56\">\n    <path clip-path=\"url(#p3ebc3417a8)\" d=\"M 66.317222 227.219799 \nL 71.846553 227.219799 \nL 71.846553 227.219799 \nL 66.317222 227.219799 \nz\n\" style=\"fill:#ff7f0e;opacity:0.4;\"/>\n   </g>\n   <g id=\"patch_57\">\n    <path clip-path=\"url(#p3ebc3417a8)\" d=\"M 71.846553 227.219799 \nL 77.375884 227.219799 \nL 77.375884 227.179981 \nL 71.846553 227.179981 \nz\n\" style=\"fill:#ff7f0e;opacity:0.4;\"/>\n   </g>\n   <g id=\"patch_58\">\n    <path clip-path=\"url(#p3ebc3417a8)\" d=\"M 77.375884 227.219799 \nL 82.905215 227.219799 \nL 82.905215 227.19989 \nL 77.375884 227.19989 \nz\n\" style=\"fill:#ff7f0e;opacity:0.4;\"/>\n   </g>\n   <g id=\"patch_59\">\n    <path clip-path=\"url(#p3ebc3417a8)\" d=\"M 82.905215 227.219799 \nL 88.434545 227.219799 \nL 88.434545 227.153436 \nL 82.905215 227.153436 \nz\n\" style=\"fill:#ff7f0e;opacity:0.4;\"/>\n   </g>\n   <g id=\"patch_60\">\n    <path clip-path=\"url(#p3ebc3417a8)\" d=\"M 88.434545 227.219799 \nL 93.963876 227.219799 \nL 93.963876 227.120254 \nL 88.434545 227.120254 \nz\n\" style=\"fill:#ff7f0e;opacity:0.4;\"/>\n   </g>\n   <g id=\"patch_61\">\n    <path clip-path=\"url(#p3ebc3417a8)\" d=\"M 93.963876 227.219799 \nL 99.493207 227.219799 \nL 99.493207 227.093709 \nL 93.963876 227.093709 \nz\n\" style=\"fill:#ff7f0e;opacity:0.4;\"/>\n   </g>\n   <g id=\"patch_62\">\n    <path clip-path=\"url(#p3ebc3417a8)\" d=\"M 99.493207 227.219799 \nL 105.022538 227.219799 \nL 105.022538 226.907893 \nL 99.493207 226.907893 \nz\n\" style=\"fill:#ff7f0e;opacity:0.4;\"/>\n   </g>\n   <g id=\"patch_63\">\n    <path clip-path=\"url(#p3ebc3417a8)\" d=\"M 105.022538 227.219799 \nL 110.551869 227.219799 \nL 110.551869 226.947711 \nL 105.022538 226.947711 \nz\n\" style=\"fill:#ff7f0e;opacity:0.4;\"/>\n   </g>\n   <g id=\"patch_64\">\n    <path clip-path=\"url(#p3ebc3417a8)\" d=\"M 110.551869 227.219799 \nL 116.0812 227.219799 \nL 116.0812 226.66235 \nL 110.551869 226.66235 \nz\n\" style=\"fill:#ff7f0e;opacity:0.4;\"/>\n   </g>\n   <g id=\"patch_65\">\n    <path clip-path=\"url(#p3ebc3417a8)\" d=\"M 116.0812 227.219799 \nL 121.61053 227.219799 \nL 121.61053 226.58935 \nL 116.0812 226.58935 \nz\n\" style=\"fill:#ff7f0e;opacity:0.4;\"/>\n   </g>\n   <g id=\"patch_66\">\n    <path clip-path=\"url(#p3ebc3417a8)\" d=\"M 121.61053 227.219799 \nL 127.139861 227.219799 \nL 127.139861 226.330535 \nL 121.61053 226.330535 \nz\n\" style=\"fill:#ff7f0e;opacity:0.4;\"/>\n   </g>\n   <g id=\"patch_67\">\n    <path clip-path=\"url(#p3ebc3417a8)\" d=\"M 127.139861 227.219799 \nL 132.669192 227.219799 \nL 132.669192 226.124809 \nL 127.139861 226.124809 \nz\n\" style=\"fill:#ff7f0e;opacity:0.4;\"/>\n   </g>\n   <g id=\"patch_68\">\n    <path clip-path=\"url(#p3ebc3417a8)\" d=\"M 132.669192 227.219799 \nL 138.198523 227.219799 \nL 138.198523 225.859357 \nL 132.669192 225.859357 \nz\n\" style=\"fill:#ff7f0e;opacity:0.4;\"/>\n   </g>\n   <g id=\"patch_69\">\n    <path clip-path=\"url(#p3ebc3417a8)\" d=\"M 138.198523 227.219799 \nL 143.727854 227.219799 \nL 143.727854 225.427998 \nL 138.198523 225.427998 \nz\n\" style=\"fill:#ff7f0e;opacity:0.4;\"/>\n   </g>\n   <g id=\"patch_70\">\n    <path clip-path=\"url(#p3ebc3417a8)\" d=\"M 143.727854 227.219799 \nL 149.257184 227.219799 \nL 149.257184 224.90373 \nL 143.727854 224.90373 \nz\n\" style=\"fill:#ff7f0e;opacity:0.4;\"/>\n   </g>\n   <g id=\"patch_71\">\n    <path clip-path=\"url(#p3ebc3417a8)\" d=\"M 149.257184 227.219799 \nL 154.786515 227.219799 \nL 154.786515 224.094102 \nL 149.257184 224.094102 \nz\n\" style=\"fill:#ff7f0e;opacity:0.4;\"/>\n   </g>\n   <g id=\"patch_72\">\n    <path clip-path=\"url(#p3ebc3417a8)\" d=\"M 154.786515 227.219799 \nL 160.315846 227.219799 \nL 160.315846 223.204838 \nL 154.786515 223.204838 \nz\n\" style=\"fill:#ff7f0e;opacity:0.4;\"/>\n   </g>\n   <g id=\"patch_73\">\n    <path clip-path=\"url(#p3ebc3417a8)\" d=\"M 160.315846 227.219799 \nL 165.845177 227.219799 \nL 165.845177 222.328846 \nL 160.315846 222.328846 \nz\n\" style=\"fill:#ff7f0e;opacity:0.4;\"/>\n   </g>\n   <g id=\"patch_74\">\n    <path clip-path=\"url(#p3ebc3417a8)\" d=\"M 165.845177 227.219799 \nL 171.374508 227.219799 \nL 171.374508 220.829043 \nL 165.845177 220.829043 \nz\n\" style=\"fill:#ff7f0e;opacity:0.4;\"/>\n   </g>\n   <g id=\"patch_75\">\n    <path clip-path=\"url(#p3ebc3417a8)\" d=\"M 171.374508 227.219799 \nL 176.903838 227.219799 \nL 176.903838 219.601327 \nL 171.374508 219.601327 \nz\n\" style=\"fill:#ff7f0e;opacity:0.4;\"/>\n   </g>\n   <g id=\"patch_76\">\n    <path clip-path=\"url(#p3ebc3417a8)\" d=\"M 176.903838 227.219799 \nL 182.433169 227.219799 \nL 182.433169 218.599246 \nL 176.903838 218.599246 \nz\n\" style=\"fill:#ff7f0e;opacity:0.4;\"/>\n   </g>\n   <g id=\"patch_77\">\n    <path clip-path=\"url(#p3ebc3417a8)\" d=\"M 182.433169 227.219799 \nL 187.9625 227.219799 \nL 187.9625 217.351622 \nL 182.433169 217.351622 \nz\n\" style=\"fill:#ff7f0e;opacity:0.4;\"/>\n   </g>\n   <g id=\"patch_78\">\n    <path clip-path=\"url(#p3ebc3417a8)\" d=\"M 187.9625 227.219799 \nL 193.491831 227.219799 \nL 193.491831 214.929373 \nL 187.9625 214.929373 \nz\n\" style=\"fill:#ff7f0e;opacity:0.4;\"/>\n   </g>\n   <g id=\"patch_79\">\n    <path clip-path=\"url(#p3ebc3417a8)\" d=\"M 193.491831 227.219799 \nL 199.021162 227.219799 \nL 199.021162 212.500487 \nL 193.491831 212.500487 \nz\n\" style=\"fill:#ff7f0e;opacity:0.4;\"/>\n   </g>\n   <g id=\"patch_80\">\n    <path clip-path=\"url(#p3ebc3417a8)\" d=\"M 199.021162 227.219799 \nL 204.550492 227.219799 \nL 204.550492 211.193136 \nL 199.021162 211.193136 \nz\n\" style=\"fill:#ff7f0e;opacity:0.4;\"/>\n   </g>\n   <g id=\"patch_81\">\n    <path clip-path=\"url(#p3ebc3417a8)\" d=\"M 204.550492 227.219799 \nL 210.079823 227.219799 \nL 210.079823 208.691252 \nL 204.550492 208.691252 \nz\n\" style=\"fill:#ff7f0e;opacity:0.4;\"/>\n   </g>\n   <g id=\"patch_82\">\n    <path clip-path=\"url(#p3ebc3417a8)\" d=\"M 210.079823 227.219799 \nL 215.609154 227.219799 \nL 215.609154 206.209276 \nL 210.079823 206.209276 \nz\n\" style=\"fill:#ff7f0e;opacity:0.4;\"/>\n   </g>\n   <g id=\"patch_83\">\n    <path clip-path=\"url(#p3ebc3417a8)\" d=\"M 215.609154 227.219799 \nL 221.138485 227.219799 \nL 221.138485 202.970762 \nL 215.609154 202.970762 \nz\n\" style=\"fill:#ff7f0e;opacity:0.4;\"/>\n   </g>\n   <g id=\"patch_84\">\n    <path clip-path=\"url(#p3ebc3417a8)\" d=\"M 221.138485 227.219799 \nL 226.667816 227.219799 \nL 226.667816 198.710258 \nL 221.138485 198.710258 \nz\n\" style=\"fill:#ff7f0e;opacity:0.4;\"/>\n   </g>\n   <g id=\"patch_85\">\n    <path clip-path=\"url(#p3ebc3417a8)\" d=\"M 226.667816 227.219799 \nL 232.197146 227.219799 \nL 232.197146 194.071485 \nL 226.667816 194.071485 \nz\n\" style=\"fill:#ff7f0e;opacity:0.4;\"/>\n   </g>\n   <g id=\"patch_86\">\n    <path clip-path=\"url(#p3ebc3417a8)\" d=\"M 232.197146 227.219799 \nL 237.726477 227.219799 \nL 237.726477 187.747092 \nL 232.197146 187.747092 \nz\n\" style=\"fill:#ff7f0e;opacity:0.4;\"/>\n   </g>\n   <g id=\"patch_87\">\n    <path clip-path=\"url(#p3ebc3417a8)\" d=\"M 237.726477 227.219799 \nL 243.255808 227.219799 \nL 243.255808 177.075923 \nL 237.726477 177.075923 \nz\n\" style=\"fill:#ff7f0e;opacity:0.4;\"/>\n   </g>\n   <g id=\"patch_88\">\n    <path clip-path=\"url(#p3ebc3417a8)\" d=\"M 243.255808 227.219799 \nL 248.785139 227.219799 \nL 248.785139 166.723296 \nL 243.255808 166.723296 \nz\n\" style=\"fill:#ff7f0e;opacity:0.4;\"/>\n   </g>\n   <g id=\"patch_89\">\n    <path clip-path=\"url(#p3ebc3417a8)\" d=\"M 248.785139 227.219799 \nL 254.31447 227.219799 \nL 254.31447 152.043802 \nL 248.785139 152.043802 \nz\n\" style=\"fill:#ff7f0e;opacity:0.4;\"/>\n   </g>\n   <g id=\"patch_90\">\n    <path clip-path=\"url(#p3ebc3417a8)\" d=\"M 254.31447 227.219799 \nL 259.8438 227.219799 \nL 259.8438 134.085977 \nL 254.31447 134.085977 \nz\n\" style=\"fill:#ff7f0e;opacity:0.4;\"/>\n   </g>\n   <g id=\"patch_91\">\n    <path clip-path=\"url(#p3ebc3417a8)\" d=\"M 259.8438 227.219799 \nL 265.373131 227.219799 \nL 265.373131 108.808313 \nL 259.8438 108.808313 \nz\n\" style=\"fill:#ff7f0e;opacity:0.4;\"/>\n   </g>\n   <g id=\"patch_92\">\n    <path clip-path=\"url(#p3ebc3417a8)\" d=\"M 265.373131 227.219799 \nL 270.902462 227.219799 \nL 270.902462 75.387911 \nL 265.373131 75.387911 \nz\n\" style=\"fill:#ff7f0e;opacity:0.4;\"/>\n   </g>\n   <g id=\"patch_93\">\n    <path clip-path=\"url(#p3ebc3417a8)\" d=\"M 270.902462 227.219799 \nL 276.431793 227.219799 \nL 276.431793 40.202253 \nL 270.902462 40.202253 \nz\n\" style=\"fill:#ff7f0e;opacity:0.4;\"/>\n   </g>\n   <g id=\"patch_94\">\n    <path clip-path=\"url(#p3ebc3417a8)\" d=\"M 276.431793 227.219799 \nL 281.961124 227.219799 \nL 281.961124 20.134084 \nL 276.431793 20.134084 \nz\n\" style=\"fill:#ff7f0e;opacity:0.4;\"/>\n   </g>\n   <g id=\"patch_95\">\n    <path clip-path=\"url(#p3ebc3417a8)\" d=\"M 281.961124 227.219799 \nL 287.490455 227.219799 \nL 287.490455 44.721573 \nL 281.961124 44.721573 \nz\n\" style=\"fill:#ff7f0e;opacity:0.4;\"/>\n   </g>\n   <g id=\"patch_96\">\n    <path clip-path=\"url(#p3ebc3417a8)\" d=\"M 287.490455 227.219799 \nL 293.019785 227.219799 \nL 293.019785 119.134395 \nL 287.490455 119.134395 \nz\n\" style=\"fill:#ff7f0e;opacity:0.4;\"/>\n   </g>\n   <g id=\"patch_97\">\n    <path clip-path=\"url(#p3ebc3417a8)\" d=\"M 293.019785 227.219799 \nL 298.549116 227.219799 \nL 298.549116 189.724709 \nL 293.019785 189.724709 \nz\n\" style=\"fill:#ff7f0e;opacity:0.4;\"/>\n   </g>\n   <g id=\"patch_98\">\n    <path clip-path=\"url(#p3ebc3417a8)\" d=\"M 298.549116 227.219799 \nL 304.078447 227.219799 \nL 304.078447 218.274068 \nL 298.549116 218.274068 \nz\n\" style=\"fill:#ff7f0e;opacity:0.4;\"/>\n   </g>\n   <g id=\"patch_99\">\n    <path clip-path=\"url(#p3ebc3417a8)\" d=\"M 304.078447 227.219799 \nL 309.607778 227.219799 \nL 309.607778 225.507634 \nL 304.078447 225.507634 \nz\n\" style=\"fill:#ff7f0e;opacity:0.4;\"/>\n   </g>\n   <g id=\"patch_100\">\n    <path clip-path=\"url(#p3ebc3417a8)\" d=\"M 309.607778 227.219799 \nL 315.137109 227.219799 \nL 315.137109 226.921165 \nL 309.607778 226.921165 \nz\n\" style=\"fill:#ff7f0e;opacity:0.4;\"/>\n   </g>\n   <g id=\"patch_101\">\n    <path clip-path=\"url(#p3ebc3417a8)\" d=\"M 315.137109 227.219799 \nL 320.666439 227.219799 \nL 320.666439 227.193254 \nL 315.137109 227.193254 \nz\n\" style=\"fill:#ff7f0e;opacity:0.4;\"/>\n   </g>\n   <g id=\"patch_102\">\n    <path clip-path=\"url(#p3ebc3417a8)\" d=\"M 320.666439 227.219799 \nL 326.19577 227.219799 \nL 326.19577 227.213162 \nL 320.666439 227.213162 \nz\n\" style=\"fill:#ff7f0e;opacity:0.4;\"/>\n   </g>\n   <g id=\"matplotlib.axis_1\">\n    <g id=\"xtick_1\">\n     <g id=\"line2d_1\">\n      <defs>\n       <path d=\"M 0 0 \nL 0 3.5 \n\" id=\"mcee99a4824\" style=\"stroke:#000000;stroke-width:0.8;\"/>\n      </defs>\n      <g>\n       <use style=\"stroke:#000000;stroke-width:0.8;\" x=\"49.72923\" xlink:href=\"#mcee99a4824\" y=\"227.219799\"/>\n      </g>\n     </g>\n     <g id=\"text_1\">\n      <!-- 0.0 -->\n      <g transform=\"translate(41.777667 241.818236)scale(0.1 -0.1)\">\n       <defs>\n        <path d=\"M 31.78125 66.40625 \nQ 24.171875 66.40625 20.328125 58.90625 \nQ 16.5 51.421875 16.5 36.375 \nQ 16.5 21.390625 20.328125 13.890625 \nQ 24.171875 6.390625 31.78125 6.390625 \nQ 39.453125 6.390625 43.28125 13.890625 \nQ 47.125 21.390625 47.125 36.375 \nQ 47.125 51.421875 43.28125 58.90625 \nQ 39.453125 66.40625 31.78125 66.40625 \nz\nM 31.78125 74.21875 \nQ 44.046875 74.21875 50.515625 64.515625 \nQ 56.984375 54.828125 56.984375 36.375 \nQ 56.984375 17.96875 50.515625 8.265625 \nQ 44.046875 -1.421875 31.78125 -1.421875 \nQ 19.53125 -1.421875 13.0625 8.265625 \nQ 6.59375 17.96875 6.59375 36.375 \nQ 6.59375 54.828125 13.0625 64.515625 \nQ 19.53125 74.21875 31.78125 74.21875 \nz\n\" id=\"DejaVuSans-48\"/>\n        <path d=\"M 10.6875 12.40625 \nL 21 12.40625 \nL 21 0 \nL 10.6875 0 \nz\n\" id=\"DejaVuSans-46\"/>\n       </defs>\n       <use xlink:href=\"#DejaVuSans-48\"/>\n       <use x=\"63.623047\" xlink:href=\"#DejaVuSans-46\"/>\n       <use x=\"95.410156\" xlink:href=\"#DejaVuSans-48\"/>\n      </g>\n     </g>\n    </g>\n    <g id=\"xtick_2\">\n     <g id=\"line2d_2\">\n      <g>\n       <use style=\"stroke:#000000;stroke-width:0.8;\" x=\"105.022538\" xlink:href=\"#mcee99a4824\" y=\"227.219799\"/>\n      </g>\n     </g>\n     <g id=\"text_2\">\n      <!-- 0.2 -->\n      <g transform=\"translate(97.070975 241.818236)scale(0.1 -0.1)\">\n       <defs>\n        <path d=\"M 19.1875 8.296875 \nL 53.609375 8.296875 \nL 53.609375 0 \nL 7.328125 0 \nL 7.328125 8.296875 \nQ 12.9375 14.109375 22.625 23.890625 \nQ 32.328125 33.6875 34.8125 36.53125 \nQ 39.546875 41.84375 41.421875 45.53125 \nQ 43.3125 49.21875 43.3125 52.78125 \nQ 43.3125 58.59375 39.234375 62.25 \nQ 35.15625 65.921875 28.609375 65.921875 \nQ 23.96875 65.921875 18.8125 64.3125 \nQ 13.671875 62.703125 7.8125 59.421875 \nL 7.8125 69.390625 \nQ 13.765625 71.78125 18.9375 73 \nQ 24.125 74.21875 28.421875 74.21875 \nQ 39.75 74.21875 46.484375 68.546875 \nQ 53.21875 62.890625 53.21875 53.421875 \nQ 53.21875 48.921875 51.53125 44.890625 \nQ 49.859375 40.875 45.40625 35.40625 \nQ 44.1875 33.984375 37.640625 27.21875 \nQ 31.109375 20.453125 19.1875 8.296875 \nz\n\" id=\"DejaVuSans-50\"/>\n       </defs>\n       <use xlink:href=\"#DejaVuSans-48\"/>\n       <use x=\"63.623047\" xlink:href=\"#DejaVuSans-46\"/>\n       <use x=\"95.410156\" xlink:href=\"#DejaVuSans-50\"/>\n      </g>\n     </g>\n    </g>\n    <g id=\"xtick_3\">\n     <g id=\"line2d_3\">\n      <g>\n       <use style=\"stroke:#000000;stroke-width:0.8;\" x=\"160.315846\" xlink:href=\"#mcee99a4824\" y=\"227.219799\"/>\n      </g>\n     </g>\n     <g id=\"text_3\">\n      <!-- 0.4 -->\n      <g transform=\"translate(152.364283 241.818236)scale(0.1 -0.1)\">\n       <defs>\n        <path d=\"M 37.796875 64.3125 \nL 12.890625 25.390625 \nL 37.796875 25.390625 \nz\nM 35.203125 72.90625 \nL 47.609375 72.90625 \nL 47.609375 25.390625 \nL 58.015625 25.390625 \nL 58.015625 17.1875 \nL 47.609375 17.1875 \nL 47.609375 0 \nL 37.796875 0 \nL 37.796875 17.1875 \nL 4.890625 17.1875 \nL 4.890625 26.703125 \nz\n\" id=\"DejaVuSans-52\"/>\n       </defs>\n       <use xlink:href=\"#DejaVuSans-48\"/>\n       <use x=\"63.623047\" xlink:href=\"#DejaVuSans-46\"/>\n       <use x=\"95.410156\" xlink:href=\"#DejaVuSans-52\"/>\n      </g>\n     </g>\n    </g>\n    <g id=\"xtick_4\">\n     <g id=\"line2d_4\">\n      <g>\n       <use style=\"stroke:#000000;stroke-width:0.8;\" x=\"215.609154\" xlink:href=\"#mcee99a4824\" y=\"227.219799\"/>\n      </g>\n     </g>\n     <g id=\"text_4\">\n      <!-- 0.6 -->\n      <g transform=\"translate(207.657592 241.818236)scale(0.1 -0.1)\">\n       <defs>\n        <path d=\"M 33.015625 40.375 \nQ 26.375 40.375 22.484375 35.828125 \nQ 18.609375 31.296875 18.609375 23.390625 \nQ 18.609375 15.53125 22.484375 10.953125 \nQ 26.375 6.390625 33.015625 6.390625 \nQ 39.65625 6.390625 43.53125 10.953125 \nQ 47.40625 15.53125 47.40625 23.390625 \nQ 47.40625 31.296875 43.53125 35.828125 \nQ 39.65625 40.375 33.015625 40.375 \nz\nM 52.59375 71.296875 \nL 52.59375 62.3125 \nQ 48.875 64.0625 45.09375 64.984375 \nQ 41.3125 65.921875 37.59375 65.921875 \nQ 27.828125 65.921875 22.671875 59.328125 \nQ 17.53125 52.734375 16.796875 39.40625 \nQ 19.671875 43.65625 24.015625 45.921875 \nQ 28.375 48.1875 33.59375 48.1875 \nQ 44.578125 48.1875 50.953125 41.515625 \nQ 57.328125 34.859375 57.328125 23.390625 \nQ 57.328125 12.15625 50.6875 5.359375 \nQ 44.046875 -1.421875 33.015625 -1.421875 \nQ 20.359375 -1.421875 13.671875 8.265625 \nQ 6.984375 17.96875 6.984375 36.375 \nQ 6.984375 53.65625 15.1875 63.9375 \nQ 23.390625 74.21875 37.203125 74.21875 \nQ 40.921875 74.21875 44.703125 73.484375 \nQ 48.484375 72.75 52.59375 71.296875 \nz\n\" id=\"DejaVuSans-54\"/>\n       </defs>\n       <use xlink:href=\"#DejaVuSans-48\"/>\n       <use x=\"63.623047\" xlink:href=\"#DejaVuSans-46\"/>\n       <use x=\"95.410156\" xlink:href=\"#DejaVuSans-54\"/>\n      </g>\n     </g>\n    </g>\n    <g id=\"xtick_5\">\n     <g id=\"line2d_5\">\n      <g>\n       <use style=\"stroke:#000000;stroke-width:0.8;\" x=\"270.902462\" xlink:href=\"#mcee99a4824\" y=\"227.219799\"/>\n      </g>\n     </g>\n     <g id=\"text_5\">\n      <!-- 0.8 -->\n      <g transform=\"translate(262.9509 241.818236)scale(0.1 -0.1)\">\n       <defs>\n        <path d=\"M 31.78125 34.625 \nQ 24.75 34.625 20.71875 30.859375 \nQ 16.703125 27.09375 16.703125 20.515625 \nQ 16.703125 13.921875 20.71875 10.15625 \nQ 24.75 6.390625 31.78125 6.390625 \nQ 38.8125 6.390625 42.859375 10.171875 \nQ 46.921875 13.96875 46.921875 20.515625 \nQ 46.921875 27.09375 42.890625 30.859375 \nQ 38.875 34.625 31.78125 34.625 \nz\nM 21.921875 38.8125 \nQ 15.578125 40.375 12.03125 44.71875 \nQ 8.5 49.078125 8.5 55.328125 \nQ 8.5 64.0625 14.71875 69.140625 \nQ 20.953125 74.21875 31.78125 74.21875 \nQ 42.671875 74.21875 48.875 69.140625 \nQ 55.078125 64.0625 55.078125 55.328125 \nQ 55.078125 49.078125 51.53125 44.71875 \nQ 48 40.375 41.703125 38.8125 \nQ 48.828125 37.15625 52.796875 32.3125 \nQ 56.78125 27.484375 56.78125 20.515625 \nQ 56.78125 9.90625 50.3125 4.234375 \nQ 43.84375 -1.421875 31.78125 -1.421875 \nQ 19.734375 -1.421875 13.25 4.234375 \nQ 6.78125 9.90625 6.78125 20.515625 \nQ 6.78125 27.484375 10.78125 32.3125 \nQ 14.796875 37.15625 21.921875 38.8125 \nz\nM 18.3125 54.390625 \nQ 18.3125 48.734375 21.84375 45.5625 \nQ 25.390625 42.390625 31.78125 42.390625 \nQ 38.140625 42.390625 41.71875 45.5625 \nQ 45.3125 48.734375 45.3125 54.390625 \nQ 45.3125 60.0625 41.71875 63.234375 \nQ 38.140625 66.40625 31.78125 66.40625 \nQ 25.390625 66.40625 21.84375 63.234375 \nQ 18.3125 60.0625 18.3125 54.390625 \nz\n\" id=\"DejaVuSans-56\"/>\n       </defs>\n       <use xlink:href=\"#DejaVuSans-48\"/>\n       <use x=\"63.623047\" xlink:href=\"#DejaVuSans-46\"/>\n       <use x=\"95.410156\" xlink:href=\"#DejaVuSans-56\"/>\n      </g>\n     </g>\n    </g>\n    <g id=\"xtick_6\">\n     <g id=\"line2d_6\">\n      <g>\n       <use style=\"stroke:#000000;stroke-width:0.8;\" x=\"326.19577\" xlink:href=\"#mcee99a4824\" y=\"227.219799\"/>\n      </g>\n     </g>\n     <g id=\"text_6\">\n      <!-- 1.0 -->\n      <g transform=\"translate(318.244208 241.818236)scale(0.1 -0.1)\">\n       <defs>\n        <path d=\"M 12.40625 8.296875 \nL 28.515625 8.296875 \nL 28.515625 63.921875 \nL 10.984375 60.40625 \nL 10.984375 69.390625 \nL 28.421875 72.90625 \nL 38.28125 72.90625 \nL 38.28125 8.296875 \nL 54.390625 8.296875 \nL 54.390625 0 \nL 12.40625 0 \nz\n\" id=\"DejaVuSans-49\"/>\n       </defs>\n       <use xlink:href=\"#DejaVuSans-49\"/>\n       <use x=\"63.623047\" xlink:href=\"#DejaVuSans-46\"/>\n       <use x=\"95.410156\" xlink:href=\"#DejaVuSans-48\"/>\n      </g>\n     </g>\n    </g>\n    <g id=\"text_7\">\n     <!-- loudness -->\n     <g transform=\"translate(165.716406 255.496361)scale(0.1 -0.1)\">\n      <defs>\n       <path d=\"M 9.421875 75.984375 \nL 18.40625 75.984375 \nL 18.40625 0 \nL 9.421875 0 \nz\n\" id=\"DejaVuSans-108\"/>\n       <path d=\"M 30.609375 48.390625 \nQ 23.390625 48.390625 19.1875 42.75 \nQ 14.984375 37.109375 14.984375 27.296875 \nQ 14.984375 17.484375 19.15625 11.84375 \nQ 23.34375 6.203125 30.609375 6.203125 \nQ 37.796875 6.203125 41.984375 11.859375 \nQ 46.1875 17.53125 46.1875 27.296875 \nQ 46.1875 37.015625 41.984375 42.703125 \nQ 37.796875 48.390625 30.609375 48.390625 \nz\nM 30.609375 56 \nQ 42.328125 56 49.015625 48.375 \nQ 55.71875 40.765625 55.71875 27.296875 \nQ 55.71875 13.875 49.015625 6.21875 \nQ 42.328125 -1.421875 30.609375 -1.421875 \nQ 18.84375 -1.421875 12.171875 6.21875 \nQ 5.515625 13.875 5.515625 27.296875 \nQ 5.515625 40.765625 12.171875 48.375 \nQ 18.84375 56 30.609375 56 \nz\n\" id=\"DejaVuSans-111\"/>\n       <path d=\"M 8.5 21.578125 \nL 8.5 54.6875 \nL 17.484375 54.6875 \nL 17.484375 21.921875 \nQ 17.484375 14.15625 20.5 10.265625 \nQ 23.53125 6.390625 29.59375 6.390625 \nQ 36.859375 6.390625 41.078125 11.03125 \nQ 45.3125 15.671875 45.3125 23.6875 \nL 45.3125 54.6875 \nL 54.296875 54.6875 \nL 54.296875 0 \nL 45.3125 0 \nL 45.3125 8.40625 \nQ 42.046875 3.421875 37.71875 1 \nQ 33.40625 -1.421875 27.6875 -1.421875 \nQ 18.265625 -1.421875 13.375 4.4375 \nQ 8.5 10.296875 8.5 21.578125 \nz\nM 31.109375 56 \nz\n\" id=\"DejaVuSans-117\"/>\n       <path d=\"M 45.40625 46.390625 \nL 45.40625 75.984375 \nL 54.390625 75.984375 \nL 54.390625 0 \nL 45.40625 0 \nL 45.40625 8.203125 \nQ 42.578125 3.328125 38.25 0.953125 \nQ 33.9375 -1.421875 27.875 -1.421875 \nQ 17.96875 -1.421875 11.734375 6.484375 \nQ 5.515625 14.40625 5.515625 27.296875 \nQ 5.515625 40.1875 11.734375 48.09375 \nQ 17.96875 56 27.875 56 \nQ 33.9375 56 38.25 53.625 \nQ 42.578125 51.265625 45.40625 46.390625 \nz\nM 14.796875 27.296875 \nQ 14.796875 17.390625 18.875 11.75 \nQ 22.953125 6.109375 30.078125 6.109375 \nQ 37.203125 6.109375 41.296875 11.75 \nQ 45.40625 17.390625 45.40625 27.296875 \nQ 45.40625 37.203125 41.296875 42.84375 \nQ 37.203125 48.484375 30.078125 48.484375 \nQ 22.953125 48.484375 18.875 42.84375 \nQ 14.796875 37.203125 14.796875 27.296875 \nz\n\" id=\"DejaVuSans-100\"/>\n       <path d=\"M 54.890625 33.015625 \nL 54.890625 0 \nL 45.90625 0 \nL 45.90625 32.71875 \nQ 45.90625 40.484375 42.875 44.328125 \nQ 39.84375 48.1875 33.796875 48.1875 \nQ 26.515625 48.1875 22.3125 43.546875 \nQ 18.109375 38.921875 18.109375 30.90625 \nL 18.109375 0 \nL 9.078125 0 \nL 9.078125 54.6875 \nL 18.109375 54.6875 \nL 18.109375 46.1875 \nQ 21.34375 51.125 25.703125 53.5625 \nQ 30.078125 56 35.796875 56 \nQ 45.21875 56 50.046875 50.171875 \nQ 54.890625 44.34375 54.890625 33.015625 \nz\n\" id=\"DejaVuSans-110\"/>\n       <path d=\"M 56.203125 29.59375 \nL 56.203125 25.203125 \nL 14.890625 25.203125 \nQ 15.484375 15.921875 20.484375 11.0625 \nQ 25.484375 6.203125 34.421875 6.203125 \nQ 39.59375 6.203125 44.453125 7.46875 \nQ 49.3125 8.734375 54.109375 11.28125 \nL 54.109375 2.78125 \nQ 49.265625 0.734375 44.1875 -0.34375 \nQ 39.109375 -1.421875 33.890625 -1.421875 \nQ 20.796875 -1.421875 13.15625 6.1875 \nQ 5.515625 13.8125 5.515625 26.8125 \nQ 5.515625 40.234375 12.765625 48.109375 \nQ 20.015625 56 32.328125 56 \nQ 43.359375 56 49.78125 48.890625 \nQ 56.203125 41.796875 56.203125 29.59375 \nz\nM 47.21875 32.234375 \nQ 47.125 39.59375 43.09375 43.984375 \nQ 39.0625 48.390625 32.421875 48.390625 \nQ 24.90625 48.390625 20.390625 44.140625 \nQ 15.875 39.890625 15.1875 32.171875 \nz\n\" id=\"DejaVuSans-101\"/>\n       <path d=\"M 44.28125 53.078125 \nL 44.28125 44.578125 \nQ 40.484375 46.53125 36.375 47.5 \nQ 32.28125 48.484375 27.875 48.484375 \nQ 21.1875 48.484375 17.84375 46.4375 \nQ 14.5 44.390625 14.5 40.28125 \nQ 14.5 37.15625 16.890625 35.375 \nQ 19.28125 33.59375 26.515625 31.984375 \nL 29.59375 31.296875 \nQ 39.15625 29.25 43.1875 25.515625 \nQ 47.21875 21.78125 47.21875 15.09375 \nQ 47.21875 7.46875 41.1875 3.015625 \nQ 35.15625 -1.421875 24.609375 -1.421875 \nQ 20.21875 -1.421875 15.453125 -0.5625 \nQ 10.6875 0.296875 5.421875 2 \nL 5.421875 11.28125 \nQ 10.40625 8.6875 15.234375 7.390625 \nQ 20.0625 6.109375 24.8125 6.109375 \nQ 31.15625 6.109375 34.5625 8.28125 \nQ 37.984375 10.453125 37.984375 14.40625 \nQ 37.984375 18.0625 35.515625 20.015625 \nQ 33.0625 21.96875 24.703125 23.78125 \nL 21.578125 24.515625 \nQ 13.234375 26.265625 9.515625 29.90625 \nQ 5.8125 33.546875 5.8125 39.890625 \nQ 5.8125 47.609375 11.28125 51.796875 \nQ 16.75 56 26.8125 56 \nQ 31.78125 56 36.171875 55.265625 \nQ 40.578125 54.546875 44.28125 53.078125 \nz\n\" id=\"DejaVuSans-115\"/>\n      </defs>\n      <use xlink:href=\"#DejaVuSans-108\"/>\n      <use x=\"27.783203\" xlink:href=\"#DejaVuSans-111\"/>\n      <use x=\"88.964844\" xlink:href=\"#DejaVuSans-117\"/>\n      <use x=\"152.34375\" xlink:href=\"#DejaVuSans-100\"/>\n      <use x=\"215.820312\" xlink:href=\"#DejaVuSans-110\"/>\n      <use x=\"279.199219\" xlink:href=\"#DejaVuSans-101\"/>\n      <use x=\"340.722656\" xlink:href=\"#DejaVuSans-115\"/>\n      <use x=\"392.822266\" xlink:href=\"#DejaVuSans-115\"/>\n     </g>\n    </g>\n   </g>\n   <g id=\"matplotlib.axis_2\">\n    <g id=\"ytick_1\">\n     <g id=\"line2d_7\">\n      <defs>\n       <path d=\"M 0 0 \nL -3.5 0 \n\" id=\"md6d40a6447\" style=\"stroke:#000000;stroke-width:0.8;\"/>\n      </defs>\n      <g>\n       <use style=\"stroke:#000000;stroke-width:0.8;\" x=\"20.5625\" xlink:href=\"#md6d40a6447\" y=\"227.219799\"/>\n      </g>\n     </g>\n     <g id=\"text_8\">\n      <!-- 0 -->\n      <g transform=\"translate(7.2 231.019018)scale(0.1 -0.1)\">\n       <use xlink:href=\"#DejaVuSans-48\"/>\n      </g>\n     </g>\n    </g>\n    <g id=\"ytick_2\">\n     <g id=\"line2d_8\">\n      <g>\n       <use style=\"stroke:#000000;stroke-width:0.8;\" x=\"20.5625\" xlink:href=\"#md6d40a6447\" y=\"196.331144\"/>\n      </g>\n     </g>\n     <g id=\"text_9\">\n      <!-- 1 -->\n      <g transform=\"translate(7.2 200.130363)scale(0.1 -0.1)\">\n       <use xlink:href=\"#DejaVuSans-49\"/>\n      </g>\n     </g>\n    </g>\n    <g id=\"ytick_3\">\n     <g id=\"line2d_9\">\n      <g>\n       <use style=\"stroke:#000000;stroke-width:0.8;\" x=\"20.5625\" xlink:href=\"#md6d40a6447\" y=\"165.44249\"/>\n      </g>\n     </g>\n     <g id=\"text_10\">\n      <!-- 2 -->\n      <g transform=\"translate(7.2 169.241709)scale(0.1 -0.1)\">\n       <use xlink:href=\"#DejaVuSans-50\"/>\n      </g>\n     </g>\n    </g>\n    <g id=\"ytick_4\">\n     <g id=\"line2d_10\">\n      <g>\n       <use style=\"stroke:#000000;stroke-width:0.8;\" x=\"20.5625\" xlink:href=\"#md6d40a6447\" y=\"134.553836\"/>\n      </g>\n     </g>\n     <g id=\"text_11\">\n      <!-- 3 -->\n      <g transform=\"translate(7.2 138.353055)scale(0.1 -0.1)\">\n       <defs>\n        <path d=\"M 40.578125 39.3125 \nQ 47.65625 37.796875 51.625 33 \nQ 55.609375 28.21875 55.609375 21.1875 \nQ 55.609375 10.40625 48.1875 4.484375 \nQ 40.765625 -1.421875 27.09375 -1.421875 \nQ 22.515625 -1.421875 17.65625 -0.515625 \nQ 12.796875 0.390625 7.625 2.203125 \nL 7.625 11.71875 \nQ 11.71875 9.328125 16.59375 8.109375 \nQ 21.484375 6.890625 26.8125 6.890625 \nQ 36.078125 6.890625 40.9375 10.546875 \nQ 45.796875 14.203125 45.796875 21.1875 \nQ 45.796875 27.640625 41.28125 31.265625 \nQ 36.765625 34.90625 28.71875 34.90625 \nL 20.21875 34.90625 \nL 20.21875 43.015625 \nL 29.109375 43.015625 \nQ 36.375 43.015625 40.234375 45.921875 \nQ 44.09375 48.828125 44.09375 54.296875 \nQ 44.09375 59.90625 40.109375 62.90625 \nQ 36.140625 65.921875 28.71875 65.921875 \nQ 24.65625 65.921875 20.015625 65.03125 \nQ 15.375 64.15625 9.8125 62.3125 \nL 9.8125 71.09375 \nQ 15.4375 72.65625 20.34375 73.4375 \nQ 25.25 74.21875 29.59375 74.21875 \nQ 40.828125 74.21875 47.359375 69.109375 \nQ 53.90625 64.015625 53.90625 55.328125 \nQ 53.90625 49.265625 50.4375 45.09375 \nQ 46.96875 40.921875 40.578125 39.3125 \nz\n\" id=\"DejaVuSans-51\"/>\n       </defs>\n       <use xlink:href=\"#DejaVuSans-51\"/>\n      </g>\n     </g>\n    </g>\n    <g id=\"ytick_5\">\n     <g id=\"line2d_11\">\n      <g>\n       <use style=\"stroke:#000000;stroke-width:0.8;\" x=\"20.5625\" xlink:href=\"#md6d40a6447\" y=\"103.665182\"/>\n      </g>\n     </g>\n     <g id=\"text_12\">\n      <!-- 4 -->\n      <g transform=\"translate(7.2 107.4644)scale(0.1 -0.1)\">\n       <use xlink:href=\"#DejaVuSans-52\"/>\n      </g>\n     </g>\n    </g>\n    <g id=\"ytick_6\">\n     <g id=\"line2d_12\">\n      <g>\n       <use style=\"stroke:#000000;stroke-width:0.8;\" x=\"20.5625\" xlink:href=\"#md6d40a6447\" y=\"72.776527\"/>\n      </g>\n     </g>\n     <g id=\"text_13\">\n      <!-- 5 -->\n      <g transform=\"translate(7.2 76.575746)scale(0.1 -0.1)\">\n       <defs>\n        <path d=\"M 10.796875 72.90625 \nL 49.515625 72.90625 \nL 49.515625 64.59375 \nL 19.828125 64.59375 \nL 19.828125 46.734375 \nQ 21.96875 47.46875 24.109375 47.828125 \nQ 26.265625 48.1875 28.421875 48.1875 \nQ 40.625 48.1875 47.75 41.5 \nQ 54.890625 34.8125 54.890625 23.390625 \nQ 54.890625 11.625 47.5625 5.09375 \nQ 40.234375 -1.421875 26.90625 -1.421875 \nQ 22.3125 -1.421875 17.546875 -0.640625 \nQ 12.796875 0.140625 7.71875 1.703125 \nL 7.71875 11.625 \nQ 12.109375 9.234375 16.796875 8.0625 \nQ 21.484375 6.890625 26.703125 6.890625 \nQ 35.15625 6.890625 40.078125 11.328125 \nQ 45.015625 15.765625 45.015625 23.390625 \nQ 45.015625 31 40.078125 35.4375 \nQ 35.15625 39.890625 26.703125 39.890625 \nQ 22.75 39.890625 18.8125 39.015625 \nQ 14.890625 38.140625 10.796875 36.28125 \nz\n\" id=\"DejaVuSans-53\"/>\n       </defs>\n       <use xlink:href=\"#DejaVuSans-53\"/>\n      </g>\n     </g>\n    </g>\n    <g id=\"ytick_7\">\n     <g id=\"line2d_13\">\n      <g>\n       <use style=\"stroke:#000000;stroke-width:0.8;\" x=\"20.5625\" xlink:href=\"#md6d40a6447\" y=\"41.887873\"/>\n      </g>\n     </g>\n     <g id=\"text_14\">\n      <!-- 6 -->\n      <g transform=\"translate(7.2 45.687092)scale(0.1 -0.1)\">\n       <use xlink:href=\"#DejaVuSans-54\"/>\n      </g>\n     </g>\n    </g>\n    <g id=\"ytick_8\">\n     <g id=\"line2d_14\">\n      <g>\n       <use style=\"stroke:#000000;stroke-width:0.8;\" x=\"20.5625\" xlink:href=\"#md6d40a6447\" y=\"10.999219\"/>\n      </g>\n     </g>\n     <g id=\"text_15\">\n      <!-- 7 -->\n      <g transform=\"translate(7.2 14.798437)scale(0.1 -0.1)\">\n       <defs>\n        <path d=\"M 8.203125 72.90625 \nL 55.078125 72.90625 \nL 55.078125 68.703125 \nL 28.609375 0 \nL 18.3125 0 \nL 43.21875 64.59375 \nL 8.203125 64.59375 \nz\n\" id=\"DejaVuSans-55\"/>\n       </defs>\n       <use xlink:href=\"#DejaVuSans-55\"/>\n      </g>\n     </g>\n    </g>\n   </g>\n   <g id=\"line2d_15\">\n    <path clip-path=\"url(#p3ebc3417a8)\" d=\"M 35.780682 227.21436 \nL 38.855062 227.177395 \nL 41.929442 226.997767 \nL 45.003822 226.426521 \nL 48.078202 225.236772 \nL 51.152583 223.61381 \nL 54.226963 222.170061 \nL 57.301343 221.34831 \nL 60.375723 221.044557 \nL 63.450103 220.853265 \nL 66.524483 220.406773 \nL 69.598864 219.499716 \nL 72.673244 218.13014 \nL 75.747624 216.506219 \nL 78.822004 214.945395 \nL 81.896384 213.743634 \nL 84.970764 213.035864 \nL 88.045145 212.681221 \nL 91.119525 212.4139 \nL 94.193905 212.091355 \nL 97.268285 211.695762 \nL 100.342665 211.206901 \nL 103.417045 210.604336 \nL 106.491426 209.951217 \nL 109.565806 209.320315 \nL 112.640186 208.678596 \nL 115.714566 207.947335 \nL 118.788946 207.075719 \nL 121.863326 206.031688 \nL 124.937707 204.836331 \nL 128.012087 203.623461 \nL 131.086467 202.53827 \nL 134.160847 201.513409 \nL 137.235227 200.280044 \nL 140.309607 198.671203 \nL 143.383988 196.780848 \nL 146.458368 194.81606 \nL 149.532748 192.93588 \nL 152.607128 191.177983 \nL 155.681508 189.459688 \nL 158.755888 187.692397 \nL 161.830269 185.84484 \nL 164.904649 183.924081 \nL 167.979029 181.945506 \nL 171.053409 179.911769 \nL 174.127789 177.897007 \nL 177.202169 176.02324 \nL 180.27655 174.259354 \nL 183.35093 172.494684 \nL 186.42531 170.78282 \nL 189.49969 169.274938 \nL 192.57407 168.084932 \nL 195.64845 167.306136 \nL 198.722831 166.914879 \nL 201.797211 166.711483 \nL 204.871591 166.54041 \nL 207.945971 166.408897 \nL 211.020351 166.372904 \nL 214.094731 166.465776 \nL 217.169112 166.730058 \nL 220.243492 167.21466 \nL 223.317872 167.846896 \nL 226.392252 168.462425 \nL 229.466632 169.066034 \nL 232.541012 169.87469 \nL 235.615393 171.020554 \nL 238.689773 172.402171 \nL 241.764153 173.997925 \nL 244.838533 175.98592 \nL 247.912913 178.320508 \nL 250.987293 180.660046 \nL 254.061674 182.80041 \nL 257.136054 184.806017 \nL 260.210434 186.811865 \nL 263.284814 188.923852 \nL 266.359194 191.260705 \nL 269.433574 193.940296 \nL 272.507955 196.865785 \nL 275.582335 199.691941 \nL 278.656715 202.226657 \nL 281.731095 204.61483 \nL 284.805475 207.034458 \nL 287.879855 209.466841 \nL 290.954236 211.786707 \nL 294.028616 213.946335 \nL 297.102996 215.97051 \nL 300.177376 217.836578 \nL 303.251756 219.503954 \nL 306.326136 220.990403 \nL 309.400517 222.3383 \nL 312.474897 223.547943 \nL 315.549277 224.595129 \nL 318.623657 225.479027 \nL 321.698037 226.196296 \nL 324.772417 226.714164 \nL 327.846798 227.019296 \nL 330.921178 227.158194 \nL 333.995558 227.205564 \nL 337.069938 227.217394 \nL 340.144318 227.219509 \n\" style=\"fill:none;stroke:#1f77b4;stroke-linecap:square;stroke-width:1.5;\"/>\n   </g>\n   <g id=\"line2d_16\">\n    <path clip-path=\"url(#p3ebc3417a8)\" d=\"M 42.253193 227.219734 \nL 45.196815 227.218675 \nL 48.140437 227.215005 \nL 51.08406 227.214732 \nL 54.027682 227.218472 \nL 56.971304 227.219713 \nL 59.914927 227.219797 \nL 62.858549 227.219797 \nL 65.802172 227.219653 \nL 68.745794 227.216717 \nL 71.689416 227.201907 \nL 74.633039 227.187125 \nL 77.576661 227.191171 \nL 80.520283 227.19125 \nL 83.463906 227.175703 \nL 86.407528 227.150334 \nL 89.351151 227.125312 \nL 92.294773 227.116712 \nL 95.238395 227.10071 \nL 98.182018 227.046248 \nL 101.12564 226.969529 \nL 104.069262 226.926924 \nL 107.012885 226.905289 \nL 109.956507 226.844292 \nL 112.90013 226.722015 \nL 115.843752 226.580198 \nL 118.787374 226.532121 \nL 121.730997 226.488488 \nL 124.674619 226.359314 \nL 127.618241 226.190742 \nL 130.561864 226.045928 \nL 133.505486 225.905632 \nL 136.449109 225.790576 \nL 139.392731 225.635013 \nL 142.336353 225.3963 \nL 145.279976 225.033009 \nL 148.223598 224.53732 \nL 151.16722 224.160481 \nL 154.110843 223.808703 \nL 157.054465 223.302442 \nL 159.998087 222.724864 \nL 162.94171 222.241181 \nL 165.885332 221.640427 \nL 168.828955 220.908691 \nL 171.772577 220.2509 \nL 174.716199 219.486392 \nL 177.659822 218.875215 \nL 180.603444 218.425231 \nL 183.547066 217.792898 \nL 186.490689 216.816737 \nL 189.434311 215.575304 \nL 192.377934 214.057365 \nL 195.321556 212.876239 \nL 198.265178 212.118487 \nL 201.208801 211.378985 \nL 204.152423 210.210839 \nL 207.096045 208.738106 \nL 210.039668 207.416465 \nL 212.98329 206.073515 \nL 215.926913 204.567267 \nL 218.870535 202.721386 \nL 221.814157 200.331234 \nL 224.75778 197.748875 \nL 227.701402 195.330983 \nL 230.645024 192.793898 \nL 233.588647 189.370601 \nL 236.532269 184.74551 \nL 239.475891 179.224962 \nL 242.419514 173.674638 \nL 245.363136 167.941425 \nL 248.306759 161.06127 \nL 251.250381 152.973038 \nL 254.194003 143.953559 \nL 257.137626 133.409638 \nL 260.081248 120.344932 \nL 263.02487 105.618715 \nL 265.968493 88.853937 \nL 268.912115 70.411019 \nL 271.855738 51.764053 \nL 274.79936 35.65852 \nL 277.742982 24.774517 \nL 280.686605 23.424355 \nL 283.630227 38.425697 \nL 286.573849 69.345142 \nL 289.517472 108.574397 \nL 292.461094 148.823619 \nL 295.404717 183.146418 \nL 298.348339 205.393743 \nL 301.291961 217.041533 \nL 304.235584 222.778136 \nL 307.179206 225.420582 \nL 310.122828 226.508953 \nL 313.066451 226.936131 \nL 316.010073 227.119127 \nL 318.953696 227.195225 \nL 321.897318 227.215478 \nL 324.84094 227.214601 \nL 327.784563 227.215003 \nL 330.728185 227.218675 \nL 333.671807 227.219734 \n\" style=\"fill:none;stroke:#ff7f0e;stroke-linecap:square;stroke-width:1.5;\"/>\n   </g>\n   <g id=\"patch_103\">\n    <path d=\"M 20.5625 227.219799 \nL 20.5625 9.779799 \n\" style=\"fill:none;stroke:#000000;stroke-linecap:square;stroke-linejoin:miter;stroke-width:0.8;\"/>\n   </g>\n   <g id=\"patch_104\">\n    <path d=\"M 355.3625 227.219799 \nL 355.3625 9.779799 \n\" style=\"fill:none;stroke:#000000;stroke-linecap:square;stroke-linejoin:miter;stroke-width:0.8;\"/>\n   </g>\n   <g id=\"patch_105\">\n    <path d=\"M 20.5625 227.219799 \nL 355.3625 227.219799 \n\" style=\"fill:none;stroke:#000000;stroke-linecap:square;stroke-linejoin:miter;stroke-width:0.8;\"/>\n   </g>\n   <g id=\"patch_106\">\n    <path d=\"M 20.5625 9.779799 \nL 355.3625 9.779799 \n\" style=\"fill:none;stroke:#000000;stroke-linecap:square;stroke-linejoin:miter;stroke-width:0.8;\"/>\n   </g>\n  </g>\n </g>\n <defs>\n  <clipPath id=\"p3ebc3417a8\">\n   <rect height=\"217.44\" width=\"334.8\" x=\"20.5625\" y=\"9.779799\"/>\n  </clipPath>\n </defs>\n</svg>\n",
      "image/png": "[encoded data removed]"
     },
     "metadata": {
      "needs_background": "light"
     }
    }
   ],
   "source": [
    "import seaborn as sns\n",
    "import matplotlib.pyplot as plt \n",
    "\n",
    "sns.distplot(df['danceability'])\n",
    "# sns.distplot(df['instrumentalness'])\n",
    "sns.distplot(df['loudness'])\n",
    "# sns.distplot(df['speechiness'])\n",
    "# sns.distplot(df['valence'])"
   ]
  },
  {
   "cell_type": "code",
   "execution_count": null,
   "metadata": {},
   "outputs": [],
   "source": [
    "conn = sqlite3.connect('spotitry_songs.db')\n",
    "    curs = conn.cursor()\n",
    "    sql = \"INSERT INTO spotitry_songs (id, name, energy, liveness, danceability, instrumentalness, loudness, speechiness, valence, tempo) VALUES (%s, %s, %s, %s, %s, %s, %s, %s, %s, %s)\"\n",
    "    val = (song_id, name, energy, liveness, danceability, instrumentalness, loudness, speechiness, valence, tempo)\n",
    "    curs.execute(sql % val)"
   ]
  }
 ]
}