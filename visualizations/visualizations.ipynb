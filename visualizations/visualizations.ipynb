{
 "metadata": {
  "language_info": {
   "codemirror_mode": {
    "name": "ipython",
    "version": 3
   },
   "file_extension": ".py",
   "mimetype": "text/x-python",
   "name": "python",
   "nbconvert_exporter": "python",
   "pygments_lexer": "ipython3",
   "version": 3
  },
  "orig_nbformat": 2,
  "kernelspec": {
   "name": "python_defaultSpec_1595957720479",
   "display_name": "Python 3.8.3 64-bit ('U4-build': conda)"
  }
 },
 "nbformat": 4,
 "nbformat_minor": 2,
 "cells": [
  {
   "cell_type": "markdown",
   "metadata": {},
   "source": [
    "## Data Cleaning ##"
   ]
  },
  {
   "cell_type": "code",
   "execution_count": 9,
   "metadata": {},
   "outputs": [],
   "source": [
    "import pandas as pd \n",
    "import numpy as np \n",
    "\n",
    "# preprocessing for data normalization\n",
    "from sklearn import preprocessing"
   ]
  },
  {
   "cell_type": "code",
   "execution_count": 1,
   "metadata": {},
   "outputs": [],
   "source": [
    "# importing sample outputs from predicto() in NN.ipynb\n",
    "\n",
    "samples = ['6ScgNyiMGRJcuQl6fHE32t',\n",
    "           '4hpQCCUn1D2KJ0hRIvviNz',\n",
    "           '1oXRum87ShmIRW8GgETPjd',\n",
    "           '12pBDYcRz2KJXTnhFste8v',\n",
    "           '7cGpisHH8TCwcPI1Pxd0IM',\n",
    "           '3Kb4dMQn8cAXthan2osI0l',\n",
    "           '2ggqfj97qyiORmXoVFzP5j',\n",
    "           '2ggqfj97qyiORmXoVFzP5j',\n",
    "           '3Mt3L75pk83KGc0c4VJzLM',\n",
    "           '3oDk8PFjkiqwEn1m03pnkm',\n",
    "           '27fUxjCxoOG7u2kxKAjCJA',\n",
    "           '63L3A0z2A5DRix83DnHCDX',\n",
    "           '7hlljw8YiOutMUrFekNIA0',\n",
    "           '3uZIfWx5ridUBQevmgHDUt']"
   ]
  },
  {
   "cell_type": "code",
   "execution_count": 18,
   "metadata": {},
   "outputs": [
    {
     "output_type": "execute_result",
     "data": {
      "text/plain": "   Unnamed: 0  genre        artist_name                        track_name  \\\n0           0  Movie     Henri Salvador       C'est beau de faire un Show   \n1           1  Movie  Martin & les fées  Perdu d'avance (par Gad Elmaleh)   \n2           2  Movie    Joseph Williams    Don't Let Me Be Lonely Tonight   \n3           3  Movie     Henri Salvador    Dis-moi Monsieur Gordon Cooper   \n4           4  Movie       Fabien Nataf                         Ouverture   \n\n                 track_id  popularity  acousticness  danceability  \\\n0  0BRjO6ga9RKCKjfDqeFgWV           0         0.611         0.389   \n1  0BjC1NfoEOOusryehmNudP           1         0.246         0.590   \n2  0CoSDzoNIKCRs124s9uTVy           3         0.952         0.663   \n3  0Gc6TVm52BwZD07Ki6tIvf           0         0.703         0.240   \n4  0IuslXpMROHdEPvSl1fTQK           4         0.950         0.331   \n\n   duration_ms  energy  instrumentalness key  liveness  loudness   mode  \\\n0        99373   0.910             0.000  C#    0.3460    -1.828  Major   \n1       137373   0.737             0.000  F#    0.1510    -5.559  Minor   \n2       170267   0.131             0.000   C    0.1030   -13.879  Minor   \n3       152427   0.326             0.000  C#    0.0985   -12.178  Major   \n4        82625   0.225             0.123   F    0.2020   -21.150  Major   \n\n   speechiness    tempo time_signature  valence  \n0       0.0525  166.969            4/4    0.814  \n1       0.0868  174.003            4/4    0.816  \n2       0.0362   99.488            5/4    0.368  \n3       0.0395  171.758            4/4    0.227  \n4       0.0456  140.576            4/4    0.390  ",
      "text/html": "<div>\n<style scoped>\n    .dataframe tbody tr th:only-of-type {\n        vertical-align: middle;\n    }\n\n    .dataframe tbody tr th {\n        vertical-align: top;\n    }\n\n    .dataframe thead th {\n        text-align: right;\n    }\n</style>\n<table border=\"1\" class=\"dataframe\">\n  <thead>\n    <tr style=\"text-align: right;\">\n      <th></th>\n      <th>Unnamed: 0</th>\n      <th>genre</th>\n      <th>artist_name</th>\n      <th>track_name</th>\n      <th>track_id</th>\n      <th>popularity</th>\n      <th>acousticness</th>\n      <th>danceability</th>\n      <th>duration_ms</th>\n      <th>energy</th>\n      <th>instrumentalness</th>\n      <th>key</th>\n      <th>liveness</th>\n      <th>loudness</th>\n      <th>mode</th>\n      <th>speechiness</th>\n      <th>tempo</th>\n      <th>time_signature</th>\n      <th>valence</th>\n    </tr>\n  </thead>\n  <tbody>\n    <tr>\n      <th>0</th>\n      <td>0</td>\n      <td>Movie</td>\n      <td>Henri Salvador</td>\n      <td>C'est beau de faire un Show</td>\n      <td>0BRjO6ga9RKCKjfDqeFgWV</td>\n      <td>0</td>\n      <td>0.611</td>\n      <td>0.389</td>\n      <td>99373</td>\n      <td>0.910</td>\n      <td>0.000</td>\n      <td>C#</td>\n      <td>0.3460</td>\n      <td>-1.828</td>\n      <td>Major</td>\n      <td>0.0525</td>\n      <td>166.969</td>\n      <td>4/4</td>\n      <td>0.814</td>\n    </tr>\n    <tr>\n      <th>1</th>\n      <td>1</td>\n      <td>Movie</td>\n      <td>Martin &amp; les fées</td>\n      <td>Perdu d'avance (par Gad Elmaleh)</td>\n      <td>0BjC1NfoEOOusryehmNudP</td>\n      <td>1</td>\n      <td>0.246</td>\n      <td>0.590</td>\n      <td>137373</td>\n      <td>0.737</td>\n      <td>0.000</td>\n      <td>F#</td>\n      <td>0.1510</td>\n      <td>-5.559</td>\n      <td>Minor</td>\n      <td>0.0868</td>\n      <td>174.003</td>\n      <td>4/4</td>\n      <td>0.816</td>\n    </tr>\n    <tr>\n      <th>2</th>\n      <td>2</td>\n      <td>Movie</td>\n      <td>Joseph Williams</td>\n      <td>Don't Let Me Be Lonely Tonight</td>\n      <td>0CoSDzoNIKCRs124s9uTVy</td>\n      <td>3</td>\n      <td>0.952</td>\n      <td>0.663</td>\n      <td>170267</td>\n      <td>0.131</td>\n      <td>0.000</td>\n      <td>C</td>\n      <td>0.1030</td>\n      <td>-13.879</td>\n      <td>Minor</td>\n      <td>0.0362</td>\n      <td>99.488</td>\n      <td>5/4</td>\n      <td>0.368</td>\n    </tr>\n    <tr>\n      <th>3</th>\n      <td>3</td>\n      <td>Movie</td>\n      <td>Henri Salvador</td>\n      <td>Dis-moi Monsieur Gordon Cooper</td>\n      <td>0Gc6TVm52BwZD07Ki6tIvf</td>\n      <td>0</td>\n      <td>0.703</td>\n      <td>0.240</td>\n      <td>152427</td>\n      <td>0.326</td>\n      <td>0.000</td>\n      <td>C#</td>\n      <td>0.0985</td>\n      <td>-12.178</td>\n      <td>Major</td>\n      <td>0.0395</td>\n      <td>171.758</td>\n      <td>4/4</td>\n      <td>0.227</td>\n    </tr>\n    <tr>\n      <th>4</th>\n      <td>4</td>\n      <td>Movie</td>\n      <td>Fabien Nataf</td>\n      <td>Ouverture</td>\n      <td>0IuslXpMROHdEPvSl1fTQK</td>\n      <td>4</td>\n      <td>0.950</td>\n      <td>0.331</td>\n      <td>82625</td>\n      <td>0.225</td>\n      <td>0.123</td>\n      <td>F</td>\n      <td>0.2020</td>\n      <td>-21.150</td>\n      <td>Major</td>\n      <td>0.0456</td>\n      <td>140.576</td>\n      <td>4/4</td>\n      <td>0.390</td>\n    </tr>\n  </tbody>\n</table>\n</div>"
     },
     "metadata": {},
     "execution_count": 18
    }
   ],
   "source": [
    "# path of our song dataset\n",
    "PATH = '../data/SpotifyFeatures.csv'\n",
    "\n",
    "df = pd.read_csv(PATH)\n",
    "df.head()"
   ]
  },
  {
   "cell_type": "code",
   "execution_count": 19,
   "metadata": {},
   "outputs": [],
   "source": [
    "# wanna keep Danceability, Instrumentalness, Loudness, Speechiness, Valence\n",
    "# drop all other columns (maybe preserve artist name/track name etc.)\n",
    "\n",
    "cols = [\n",
    "    'Unnamed: 0', 'genre', 'popularity', 'duration_ms',\n",
    "    'key', 'mode', 'tempo', 'time_signature', 'acousticness',\n",
    "    'energy', 'liveness'\n",
    "]\n",
    "\n",
    "df = df.drop(cols, axis=1)"
   ]
  },
  {
   "cell_type": "code",
   "execution_count": 20,
   "metadata": {},
   "outputs": [
    {
     "output_type": "execute_result",
     "data": {
      "text/plain": "         artist_name                        track_name  \\\n0     Henri Salvador       C'est beau de faire un Show   \n1  Martin & les fées  Perdu d'avance (par Gad Elmaleh)   \n2    Joseph Williams    Don't Let Me Be Lonely Tonight   \n3     Henri Salvador    Dis-moi Monsieur Gordon Cooper   \n4       Fabien Nataf                         Ouverture   \n\n                 track_id  danceability  instrumentalness  loudness  \\\n0  0BRjO6ga9RKCKjfDqeFgWV         0.389             0.000    -1.828   \n1  0BjC1NfoEOOusryehmNudP         0.590             0.000    -5.559   \n2  0CoSDzoNIKCRs124s9uTVy         0.663             0.000   -13.879   \n3  0Gc6TVm52BwZD07Ki6tIvf         0.240             0.000   -12.178   \n4  0IuslXpMROHdEPvSl1fTQK         0.331             0.123   -21.150   \n\n   speechiness  valence  \n0       0.0525    0.814  \n1       0.0868    0.816  \n2       0.0362    0.368  \n3       0.0395    0.227  \n4       0.0456    0.390  ",
      "text/html": "<div>\n<style scoped>\n    .dataframe tbody tr th:only-of-type {\n        vertical-align: middle;\n    }\n\n    .dataframe tbody tr th {\n        vertical-align: top;\n    }\n\n    .dataframe thead th {\n        text-align: right;\n    }\n</style>\n<table border=\"1\" class=\"dataframe\">\n  <thead>\n    <tr style=\"text-align: right;\">\n      <th></th>\n      <th>artist_name</th>\n      <th>track_name</th>\n      <th>track_id</th>\n      <th>danceability</th>\n      <th>instrumentalness</th>\n      <th>loudness</th>\n      <th>speechiness</th>\n      <th>valence</th>\n    </tr>\n  </thead>\n  <tbody>\n    <tr>\n      <th>0</th>\n      <td>Henri Salvador</td>\n      <td>C'est beau de faire un Show</td>\n      <td>0BRjO6ga9RKCKjfDqeFgWV</td>\n      <td>0.389</td>\n      <td>0.000</td>\n      <td>-1.828</td>\n      <td>0.0525</td>\n      <td>0.814</td>\n    </tr>\n    <tr>\n      <th>1</th>\n      <td>Martin &amp; les fées</td>\n      <td>Perdu d'avance (par Gad Elmaleh)</td>\n      <td>0BjC1NfoEOOusryehmNudP</td>\n      <td>0.590</td>\n      <td>0.000</td>\n      <td>-5.559</td>\n      <td>0.0868</td>\n      <td>0.816</td>\n    </tr>\n    <tr>\n      <th>2</th>\n      <td>Joseph Williams</td>\n      <td>Don't Let Me Be Lonely Tonight</td>\n      <td>0CoSDzoNIKCRs124s9uTVy</td>\n      <td>0.663</td>\n      <td>0.000</td>\n      <td>-13.879</td>\n      <td>0.0362</td>\n      <td>0.368</td>\n    </tr>\n    <tr>\n      <th>3</th>\n      <td>Henri Salvador</td>\n      <td>Dis-moi Monsieur Gordon Cooper</td>\n      <td>0Gc6TVm52BwZD07Ki6tIvf</td>\n      <td>0.240</td>\n      <td>0.000</td>\n      <td>-12.178</td>\n      <td>0.0395</td>\n      <td>0.227</td>\n    </tr>\n    <tr>\n      <th>4</th>\n      <td>Fabien Nataf</td>\n      <td>Ouverture</td>\n      <td>0IuslXpMROHdEPvSl1fTQK</td>\n      <td>0.331</td>\n      <td>0.123</td>\n      <td>-21.150</td>\n      <td>0.0456</td>\n      <td>0.390</td>\n    </tr>\n  </tbody>\n</table>\n</div>"
     },
     "metadata": {},
     "execution_count": 20
    }
   ],
   "source": [
    "df.head()"
   ]
  },
  {
   "cell_type": "markdown",
   "metadata": {},
   "source": [
    "## Data Normalization ##"
   ]
  },
  {
   "cell_type": "code",
   "execution_count": 37,
   "metadata": {},
   "outputs": [
    {
     "output_type": "execute_result",
     "data": {
      "text/plain": "   danceability  instrumentalness  loudness  speechiness  valence\n0         0.389             0.000    -1.828       0.0525    0.814\n1         0.590             0.000    -5.559       0.0868    0.816\n2         0.663             0.000   -13.879       0.0362    0.368\n3         0.240             0.000   -12.178       0.0395    0.227\n4         0.331             0.123   -21.150       0.0456    0.390",
      "text/html": "<div>\n<style scoped>\n    .dataframe tbody tr th:only-of-type {\n        vertical-align: middle;\n    }\n\n    .dataframe tbody tr th {\n        vertical-align: top;\n    }\n\n    .dataframe thead th {\n        text-align: right;\n    }\n</style>\n<table border=\"1\" class=\"dataframe\">\n  <thead>\n    <tr style=\"text-align: right;\">\n      <th></th>\n      <th>danceability</th>\n      <th>instrumentalness</th>\n      <th>loudness</th>\n      <th>speechiness</th>\n      <th>valence</th>\n    </tr>\n  </thead>\n  <tbody>\n    <tr>\n      <th>0</th>\n      <td>0.389</td>\n      <td>0.000</td>\n      <td>-1.828</td>\n      <td>0.0525</td>\n      <td>0.814</td>\n    </tr>\n    <tr>\n      <th>1</th>\n      <td>0.590</td>\n      <td>0.000</td>\n      <td>-5.559</td>\n      <td>0.0868</td>\n      <td>0.816</td>\n    </tr>\n    <tr>\n      <th>2</th>\n      <td>0.663</td>\n      <td>0.000</td>\n      <td>-13.879</td>\n      <td>0.0362</td>\n      <td>0.368</td>\n    </tr>\n    <tr>\n      <th>3</th>\n      <td>0.240</td>\n      <td>0.000</td>\n      <td>-12.178</td>\n      <td>0.0395</td>\n      <td>0.227</td>\n    </tr>\n    <tr>\n      <th>4</th>\n      <td>0.331</td>\n      <td>0.123</td>\n      <td>-21.150</td>\n      <td>0.0456</td>\n      <td>0.390</td>\n    </tr>\n  </tbody>\n</table>\n</div>"
     },
     "metadata": {},
     "execution_count": 37
    }
   ],
   "source": [
    "# our aim here is to make all the data normalized (between 0 and 1)\n",
    "\n",
    "# let's make a dataframe with just the data to be normalized\n",
    "slice_df = df.loc[:, 'danceability':'valence']\n",
    "slice_df.head()"
   ]
  },
  {
   "cell_type": "code",
   "execution_count": 38,
   "metadata": {},
   "outputs": [],
   "source": [
    "import pandas as pd\n",
    "from sklearn import preprocessing\n",
    "\n",
    "x = slice_df.values #returns a numpy array\n",
    "min_max_scaler = preprocessing.MinMaxScaler()\n",
    "x_scaled = min_max_scaler.fit_transform(x)\n",
    "norm_df = pd.DataFrame(x_scaled)"
   ]
  },
  {
   "cell_type": "code",
   "execution_count": 40,
   "metadata": {},
   "outputs": [
    {
     "output_type": "execute_result",
     "data": {
      "text/plain": "          0         1         2         3      4\n0  0.356292  0.000000  0.900856  0.032070  0.814\n1  0.571934  0.000000  0.834469  0.068374  0.816\n2  0.650252  0.000000  0.686429  0.014818  0.368\n3  0.196438  0.000000  0.716695  0.018311  0.227\n4  0.294067  0.123123  0.557054  0.024767  0.390",
      "text/html": "<div>\n<style scoped>\n    .dataframe tbody tr th:only-of-type {\n        vertical-align: middle;\n    }\n\n    .dataframe tbody tr th {\n        vertical-align: top;\n    }\n\n    .dataframe thead th {\n        text-align: right;\n    }\n</style>\n<table border=\"1\" class=\"dataframe\">\n  <thead>\n    <tr style=\"text-align: right;\">\n      <th></th>\n      <th>0</th>\n      <th>1</th>\n      <th>2</th>\n      <th>3</th>\n      <th>4</th>\n    </tr>\n  </thead>\n  <tbody>\n    <tr>\n      <th>0</th>\n      <td>0.356292</td>\n      <td>0.000000</td>\n      <td>0.900856</td>\n      <td>0.032070</td>\n      <td>0.814</td>\n    </tr>\n    <tr>\n      <th>1</th>\n      <td>0.571934</td>\n      <td>0.000000</td>\n      <td>0.834469</td>\n      <td>0.068374</td>\n      <td>0.816</td>\n    </tr>\n    <tr>\n      <th>2</th>\n      <td>0.650252</td>\n      <td>0.000000</td>\n      <td>0.686429</td>\n      <td>0.014818</td>\n      <td>0.368</td>\n    </tr>\n    <tr>\n      <th>3</th>\n      <td>0.196438</td>\n      <td>0.000000</td>\n      <td>0.716695</td>\n      <td>0.018311</td>\n      <td>0.227</td>\n    </tr>\n    <tr>\n      <th>4</th>\n      <td>0.294067</td>\n      <td>0.123123</td>\n      <td>0.557054</td>\n      <td>0.024767</td>\n      <td>0.390</td>\n    </tr>\n  </tbody>\n</table>\n</div>"
     },
     "metadata": {},
     "execution_count": 40
    }
   ],
   "source": [
    "norm_df.head()"
   ]
  },
  {
   "cell_type": "code",
   "execution_count": 43,
   "metadata": {},
   "outputs": [
    {
     "output_type": "execute_result",
     "data": {
      "text/plain": "   danceability  instrumentalness  loudness  speechiness  valence\n0      0.356292          0.000000  0.900856     0.032070    0.814\n1      0.571934          0.000000  0.834469     0.068374    0.816\n2      0.650252          0.000000  0.686429     0.014818    0.368\n3      0.196438          0.000000  0.716695     0.018311    0.227\n4      0.294067          0.123123  0.557054     0.024767    0.390",
      "text/html": "<div>\n<style scoped>\n    .dataframe tbody tr th:only-of-type {\n        vertical-align: middle;\n    }\n\n    .dataframe tbody tr th {\n        vertical-align: top;\n    }\n\n    .dataframe thead th {\n        text-align: right;\n    }\n</style>\n<table border=\"1\" class=\"dataframe\">\n  <thead>\n    <tr style=\"text-align: right;\">\n      <th></th>\n      <th>danceability</th>\n      <th>instrumentalness</th>\n      <th>loudness</th>\n      <th>speechiness</th>\n      <th>valence</th>\n    </tr>\n  </thead>\n  <tbody>\n    <tr>\n      <th>0</th>\n      <td>0.356292</td>\n      <td>0.000000</td>\n      <td>0.900856</td>\n      <td>0.032070</td>\n      <td>0.814</td>\n    </tr>\n    <tr>\n      <th>1</th>\n      <td>0.571934</td>\n      <td>0.000000</td>\n      <td>0.834469</td>\n      <td>0.068374</td>\n      <td>0.816</td>\n    </tr>\n    <tr>\n      <th>2</th>\n      <td>0.650252</td>\n      <td>0.000000</td>\n      <td>0.686429</td>\n      <td>0.014818</td>\n      <td>0.368</td>\n    </tr>\n    <tr>\n      <th>3</th>\n      <td>0.196438</td>\n      <td>0.000000</td>\n      <td>0.716695</td>\n      <td>0.018311</td>\n      <td>0.227</td>\n    </tr>\n    <tr>\n      <th>4</th>\n      <td>0.294067</td>\n      <td>0.123123</td>\n      <td>0.557054</td>\n      <td>0.024767</td>\n      <td>0.390</td>\n    </tr>\n  </tbody>\n</table>\n</div>"
     },
     "metadata": {},
     "execution_count": 43
    }
   ],
   "source": [
    "# columns got renamed, let's fix that\n",
    "# Danceability, Instrumentalness, Loudness, Speechiness, Valence\n",
    "norm_df.columns = ['danceability', 'instrumentalness', 'loudness', 'speechiness', 'valence']\n",
    "norm_df.head()"
   ]
  },
  {
   "cell_type": "code",
   "execution_count": 44,
   "metadata": {},
   "outputs": [
    {
     "output_type": "execute_result",
     "data": {
      "text/plain": "count    232725.000000\nmean          0.104324\nstd           0.196357\nmin           0.000000\n25%           0.015347\n50%           0.029530\n75%           0.087638\nmax           1.000000\nName: speechiness, dtype: float64"
     },
     "metadata": {},
     "execution_count": 44
    }
   ],
   "source": [
    "# speechiness looks really low, let's see if it's actually between 0 and 1\n",
    "\n",
    "norm_df['speechiness'].describe() \n",
    "\n",
    "# guess so... but it's definitely skewed. oh well."
   ]
  },
  {
   "cell_type": "code",
   "execution_count": 51,
   "metadata": {},
   "outputs": [
    {
     "output_type": "execute_result",
     "data": {
      "text/plain": "                     artist_name                        track_name  \\\n0                 Henri Salvador       C'est beau de faire un Show   \n1              Martin & les fées  Perdu d'avance (par Gad Elmaleh)   \n2                Joseph Williams    Don't Let Me Be Lonely Tonight   \n3                 Henri Salvador    Dis-moi Monsieur Gordon Cooper   \n4                   Fabien Nataf                         Ouverture   \n...                          ...                               ...   \n232720                     Slave                      Son Of Slide   \n232721  Jr Thomas & The Volcanos                      Burning Fire   \n232722              Muddy Waters    (I'm Your) Hoochie Coochie Man   \n232723                   R.LUM.R                     With My Words   \n232724            Mint Condition    You Don't Have To Hurt No More   \n\n                      track_id  danceability  instrumentalness  loudness  \\\n0       0BRjO6ga9RKCKjfDqeFgWV      0.356292          0.000000  0.900856   \n1       0BjC1NfoEOOusryehmNudP      0.571934          0.000000  0.834469   \n2       0CoSDzoNIKCRs124s9uTVy      0.650252          0.000000  0.686429   \n3       0Gc6TVm52BwZD07Ki6tIvf      0.196438          0.000000  0.716695   \n4       0IuslXpMROHdEPvSl1fTQK      0.294067          0.123123  0.557054   \n...                        ...           ...               ...       ...   \n232720  2XGLdVl7lGeq8ksM6Al7jT      0.676000          0.544545  0.744311   \n232721  1qWZdkBl4UVPj9lK6HuuFM      0.781139          0.000881  0.809825   \n232722  2ziWXUmQLrXTiYjCg2fZ2t      0.493617          0.000000  0.786018   \n232723  6EFsue2YbIG4Qkq8Zr9Rir      0.738226          0.000000  0.806391   \n232724  34XO9RwPMKjbvRry54QzWn      0.752173          0.000049  0.814025   \n\n        speechiness  valence  \n0          0.032070    0.814  \n1          0.068374    0.816  \n2          0.014818    0.368  \n3          0.018311    0.227  \n4          0.024767    0.390  \n...             ...      ...  \n232720     0.009949    0.962  \n232721     0.012172    0.969  \n232722     0.133150    0.813  \n232723     0.131033    0.489  \n232724     0.006880    0.479  \n\n[232725 rows x 8 columns]",
      "text/html": "<div>\n<style scoped>\n    .dataframe tbody tr th:only-of-type {\n        vertical-align: middle;\n    }\n\n    .dataframe tbody tr th {\n        vertical-align: top;\n    }\n\n    .dataframe thead th {\n        text-align: right;\n    }\n</style>\n<table border=\"1\" class=\"dataframe\">\n  <thead>\n    <tr style=\"text-align: right;\">\n      <th></th>\n      <th>artist_name</th>\n      <th>track_name</th>\n      <th>track_id</th>\n      <th>danceability</th>\n      <th>instrumentalness</th>\n      <th>loudness</th>\n      <th>speechiness</th>\n      <th>valence</th>\n    </tr>\n  </thead>\n  <tbody>\n    <tr>\n      <th>0</th>\n      <td>Henri Salvador</td>\n      <td>C'est beau de faire un Show</td>\n      <td>0BRjO6ga9RKCKjfDqeFgWV</td>\n      <td>0.356292</td>\n      <td>0.000000</td>\n      <td>0.900856</td>\n      <td>0.032070</td>\n      <td>0.814</td>\n    </tr>\n    <tr>\n      <th>1</th>\n      <td>Martin &amp; les fées</td>\n      <td>Perdu d'avance (par Gad Elmaleh)</td>\n      <td>0BjC1NfoEOOusryehmNudP</td>\n      <td>0.571934</td>\n      <td>0.000000</td>\n      <td>0.834469</td>\n      <td>0.068374</td>\n      <td>0.816</td>\n    </tr>\n    <tr>\n      <th>2</th>\n      <td>Joseph Williams</td>\n      <td>Don't Let Me Be Lonely Tonight</td>\n      <td>0CoSDzoNIKCRs124s9uTVy</td>\n      <td>0.650252</td>\n      <td>0.000000</td>\n      <td>0.686429</td>\n      <td>0.014818</td>\n      <td>0.368</td>\n    </tr>\n    <tr>\n      <th>3</th>\n      <td>Henri Salvador</td>\n      <td>Dis-moi Monsieur Gordon Cooper</td>\n      <td>0Gc6TVm52BwZD07Ki6tIvf</td>\n      <td>0.196438</td>\n      <td>0.000000</td>\n      <td>0.716695</td>\n      <td>0.018311</td>\n      <td>0.227</td>\n    </tr>\n    <tr>\n      <th>4</th>\n      <td>Fabien Nataf</td>\n      <td>Ouverture</td>\n      <td>0IuslXpMROHdEPvSl1fTQK</td>\n      <td>0.294067</td>\n      <td>0.123123</td>\n      <td>0.557054</td>\n      <td>0.024767</td>\n      <td>0.390</td>\n    </tr>\n    <tr>\n      <th>...</th>\n      <td>...</td>\n      <td>...</td>\n      <td>...</td>\n      <td>...</td>\n      <td>...</td>\n      <td>...</td>\n      <td>...</td>\n      <td>...</td>\n    </tr>\n    <tr>\n      <th>232720</th>\n      <td>Slave</td>\n      <td>Son Of Slide</td>\n      <td>2XGLdVl7lGeq8ksM6Al7jT</td>\n      <td>0.676000</td>\n      <td>0.544545</td>\n      <td>0.744311</td>\n      <td>0.009949</td>\n      <td>0.962</td>\n    </tr>\n    <tr>\n      <th>232721</th>\n      <td>Jr Thomas &amp; The Volcanos</td>\n      <td>Burning Fire</td>\n      <td>1qWZdkBl4UVPj9lK6HuuFM</td>\n      <td>0.781139</td>\n      <td>0.000881</td>\n      <td>0.809825</td>\n      <td>0.012172</td>\n      <td>0.969</td>\n    </tr>\n    <tr>\n      <th>232722</th>\n      <td>Muddy Waters</td>\n      <td>(I'm Your) Hoochie Coochie Man</td>\n      <td>2ziWXUmQLrXTiYjCg2fZ2t</td>\n      <td>0.493617</td>\n      <td>0.000000</td>\n      <td>0.786018</td>\n      <td>0.133150</td>\n      <td>0.813</td>\n    </tr>\n    <tr>\n      <th>232723</th>\n      <td>R.LUM.R</td>\n      <td>With My Words</td>\n      <td>6EFsue2YbIG4Qkq8Zr9Rir</td>\n      <td>0.738226</td>\n      <td>0.000000</td>\n      <td>0.806391</td>\n      <td>0.131033</td>\n      <td>0.489</td>\n    </tr>\n    <tr>\n      <th>232724</th>\n      <td>Mint Condition</td>\n      <td>You Don't Have To Hurt No More</td>\n      <td>34XO9RwPMKjbvRry54QzWn</td>\n      <td>0.752173</td>\n      <td>0.000049</td>\n      <td>0.814025</td>\n      <td>0.006880</td>\n      <td>0.479</td>\n    </tr>\n  </tbody>\n</table>\n<p>232725 rows × 8 columns</p>\n</div>"
     },
     "metadata": {},
     "execution_count": 51
    }
   ],
   "source": [
    "df = df.loc[:, 'artist_name':'track_id']\n",
    "df.join(norm_df)"
   ]
  },
  {
   "cell_type": "markdown",
   "metadata": {},
   "source": [
    "## Radar Plot Experimentation ##"
   ]
  },
  {
   "cell_type": "code",
   "execution_count": 6,
   "metadata": {},
   "outputs": [],
   "source": [
    "# imports required for plotting\n",
    "\n",
    "import matplotlib.pyplot as plt\n",
    "from matplotlib.patches import Circle, RegularPolygon\n",
    "from matplotlib.path import Path\n",
    "from matplotlib.projections.polar import PolarAxes\n",
    "from matplotlib.projections import register_projection\n",
    "from matplotlib.spines import Spine\n",
    "from matplotlib.transforms import Affine2D"
   ]
  },
  {
   "cell_type": "code",
   "execution_count": null,
   "metadata": {},
   "outputs": [],
   "source": []
  }
 ]
}