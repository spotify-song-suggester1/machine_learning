{
 "metadata": {
  "language_info": {
   "codemirror_mode": {
    "name": "ipython",
    "version": 3
   },
   "file_extension": ".py",
   "mimetype": "text/x-python",
   "name": "python",
   "nbconvert_exporter": "python",
   "pygments_lexer": "ipython3",
   "version": 3
  },
  "orig_nbformat": 2,
  "kernelspec": {
   "name": "python_defaultSpec_1595961560023",
   "display_name": "Python 3.8.3 64-bit ('U4-build': conda)"
  }
 },
 "nbformat": 4,
 "nbformat_minor": 2,
 "cells": [
  {
   "cell_type": "markdown",
   "metadata": {},
   "source": [
    "## Data Cleaning ##"
   ]
  },
  {
   "cell_type": "code",
   "execution_count": 1,
   "metadata": {},
   "outputs": [],
   "source": [
    "import pandas as pd \n",
    "import numpy as np \n",
    "\n",
    "# preprocessing for data normalization\n",
    "from sklearn import preprocessing"
   ]
  },
  {
   "cell_type": "code",
   "execution_count": 2,
   "metadata": {},
   "outputs": [],
   "source": [
    "# importing sample outputs from predicto() in NN.ipynb\n",
    "\n",
    "samples = ['6ScgNyiMGRJcuQl6fHE32t',\n",
    "           '4hpQCCUn1D2KJ0hRIvviNz',\n",
    "           '1oXRum87ShmIRW8GgETPjd',\n",
    "           '12pBDYcRz2KJXTnhFste8v',\n",
    "           '7cGpisHH8TCwcPI1Pxd0IM',\n",
    "           '3Kb4dMQn8cAXthan2osI0l',\n",
    "           '2ggqfj97qyiORmXoVFzP5j',\n",
    "           '2ggqfj97qyiORmXoVFzP5j',\n",
    "           '3Mt3L75pk83KGc0c4VJzLM',\n",
    "           '3oDk8PFjkiqwEn1m03pnkm',\n",
    "           '27fUxjCxoOG7u2kxKAjCJA',\n",
    "           '63L3A0z2A5DRix83DnHCDX',\n",
    "           '7hlljw8YiOutMUrFekNIA0',\n",
    "           '3uZIfWx5ridUBQevmgHDUt']"
   ]
  },
  {
   "cell_type": "code",
   "execution_count": 3,
   "metadata": {},
   "outputs": [
    {
     "output_type": "execute_result",
     "data": {
      "text/plain": "   Unnamed: 0  genre        artist_name                        track_name  \\\n0           0  Movie     Henri Salvador       C'est beau de faire un Show   \n1           1  Movie  Martin & les fées  Perdu d'avance (par Gad Elmaleh)   \n2           2  Movie    Joseph Williams    Don't Let Me Be Lonely Tonight   \n3           3  Movie     Henri Salvador    Dis-moi Monsieur Gordon Cooper   \n4           4  Movie       Fabien Nataf                         Ouverture   \n\n                 track_id  popularity  acousticness  danceability  \\\n0  0BRjO6ga9RKCKjfDqeFgWV           0         0.611         0.389   \n1  0BjC1NfoEOOusryehmNudP           1         0.246         0.590   \n2  0CoSDzoNIKCRs124s9uTVy           3         0.952         0.663   \n3  0Gc6TVm52BwZD07Ki6tIvf           0         0.703         0.240   \n4  0IuslXpMROHdEPvSl1fTQK           4         0.950         0.331   \n\n   duration_ms  energy  instrumentalness key  liveness  loudness   mode  \\\n0        99373   0.910             0.000  C#    0.3460    -1.828  Major   \n1       137373   0.737             0.000  F#    0.1510    -5.559  Minor   \n2       170267   0.131             0.000   C    0.1030   -13.879  Minor   \n3       152427   0.326             0.000  C#    0.0985   -12.178  Major   \n4        82625   0.225             0.123   F    0.2020   -21.150  Major   \n\n   speechiness    tempo time_signature  valence  \n0       0.0525  166.969            4/4    0.814  \n1       0.0868  174.003            4/4    0.816  \n2       0.0362   99.488            5/4    0.368  \n3       0.0395  171.758            4/4    0.227  \n4       0.0456  140.576            4/4    0.390  ",
      "text/html": "<div>\n<style scoped>\n    .dataframe tbody tr th:only-of-type {\n        vertical-align: middle;\n    }\n\n    .dataframe tbody tr th {\n        vertical-align: top;\n    }\n\n    .dataframe thead th {\n        text-align: right;\n    }\n</style>\n<table border=\"1\" class=\"dataframe\">\n  <thead>\n    <tr style=\"text-align: right;\">\n      <th></th>\n      <th>Unnamed: 0</th>\n      <th>genre</th>\n      <th>artist_name</th>\n      <th>track_name</th>\n      <th>track_id</th>\n      <th>popularity</th>\n      <th>acousticness</th>\n      <th>danceability</th>\n      <th>duration_ms</th>\n      <th>energy</th>\n      <th>instrumentalness</th>\n      <th>key</th>\n      <th>liveness</th>\n      <th>loudness</th>\n      <th>mode</th>\n      <th>speechiness</th>\n      <th>tempo</th>\n      <th>time_signature</th>\n      <th>valence</th>\n    </tr>\n  </thead>\n  <tbody>\n    <tr>\n      <th>0</th>\n      <td>0</td>\n      <td>Movie</td>\n      <td>Henri Salvador</td>\n      <td>C'est beau de faire un Show</td>\n      <td>0BRjO6ga9RKCKjfDqeFgWV</td>\n      <td>0</td>\n      <td>0.611</td>\n      <td>0.389</td>\n      <td>99373</td>\n      <td>0.910</td>\n      <td>0.000</td>\n      <td>C#</td>\n      <td>0.3460</td>\n      <td>-1.828</td>\n      <td>Major</td>\n      <td>0.0525</td>\n      <td>166.969</td>\n      <td>4/4</td>\n      <td>0.814</td>\n    </tr>\n    <tr>\n      <th>1</th>\n      <td>1</td>\n      <td>Movie</td>\n      <td>Martin &amp; les fées</td>\n      <td>Perdu d'avance (par Gad Elmaleh)</td>\n      <td>0BjC1NfoEOOusryehmNudP</td>\n      <td>1</td>\n      <td>0.246</td>\n      <td>0.590</td>\n      <td>137373</td>\n      <td>0.737</td>\n      <td>0.000</td>\n      <td>F#</td>\n      <td>0.1510</td>\n      <td>-5.559</td>\n      <td>Minor</td>\n      <td>0.0868</td>\n      <td>174.003</td>\n      <td>4/4</td>\n      <td>0.816</td>\n    </tr>\n    <tr>\n      <th>2</th>\n      <td>2</td>\n      <td>Movie</td>\n      <td>Joseph Williams</td>\n      <td>Don't Let Me Be Lonely Tonight</td>\n      <td>0CoSDzoNIKCRs124s9uTVy</td>\n      <td>3</td>\n      <td>0.952</td>\n      <td>0.663</td>\n      <td>170267</td>\n      <td>0.131</td>\n      <td>0.000</td>\n      <td>C</td>\n      <td>0.1030</td>\n      <td>-13.879</td>\n      <td>Minor</td>\n      <td>0.0362</td>\n      <td>99.488</td>\n      <td>5/4</td>\n      <td>0.368</td>\n    </tr>\n    <tr>\n      <th>3</th>\n      <td>3</td>\n      <td>Movie</td>\n      <td>Henri Salvador</td>\n      <td>Dis-moi Monsieur Gordon Cooper</td>\n      <td>0Gc6TVm52BwZD07Ki6tIvf</td>\n      <td>0</td>\n      <td>0.703</td>\n      <td>0.240</td>\n      <td>152427</td>\n      <td>0.326</td>\n      <td>0.000</td>\n      <td>C#</td>\n      <td>0.0985</td>\n      <td>-12.178</td>\n      <td>Major</td>\n      <td>0.0395</td>\n      <td>171.758</td>\n      <td>4/4</td>\n      <td>0.227</td>\n    </tr>\n    <tr>\n      <th>4</th>\n      <td>4</td>\n      <td>Movie</td>\n      <td>Fabien Nataf</td>\n      <td>Ouverture</td>\n      <td>0IuslXpMROHdEPvSl1fTQK</td>\n      <td>4</td>\n      <td>0.950</td>\n      <td>0.331</td>\n      <td>82625</td>\n      <td>0.225</td>\n      <td>0.123</td>\n      <td>F</td>\n      <td>0.2020</td>\n      <td>-21.150</td>\n      <td>Major</td>\n      <td>0.0456</td>\n      <td>140.576</td>\n      <td>4/4</td>\n      <td>0.390</td>\n    </tr>\n  </tbody>\n</table>\n</div>"
     },
     "metadata": {},
     "execution_count": 3
    }
   ],
   "source": [
    "# path of our song dataset\n",
    "PATH = '../data/SpotifyFeatures.csv'\n",
    "\n",
    "df = pd.read_csv(PATH)\n",
    "df.head()"
   ]
  },
  {
   "cell_type": "code",
   "execution_count": 4,
   "metadata": {},
   "outputs": [],
   "source": [
    "# wanna keep Danceability, Instrumentalness, Loudness, Speechiness, Valence\n",
    "# drop all other columns (maybe preserve artist name/track name etc.)\n",
    "\n",
    "cols = [\n",
    "    'Unnamed: 0', 'genre', 'popularity', 'duration_ms',\n",
    "    'key', 'mode', 'tempo', 'time_signature', 'acousticness',\n",
    "    'energy', 'liveness'\n",
    "]\n",
    "\n",
    "df = df.drop(cols, axis=1)"
   ]
  },
  {
   "cell_type": "code",
   "execution_count": 5,
   "metadata": {},
   "outputs": [
    {
     "output_type": "execute_result",
     "data": {
      "text/plain": "         artist_name                        track_name  \\\n0     Henri Salvador       C'est beau de faire un Show   \n1  Martin & les fées  Perdu d'avance (par Gad Elmaleh)   \n2    Joseph Williams    Don't Let Me Be Lonely Tonight   \n3     Henri Salvador    Dis-moi Monsieur Gordon Cooper   \n4       Fabien Nataf                         Ouverture   \n\n                 track_id  danceability  instrumentalness  loudness  \\\n0  0BRjO6ga9RKCKjfDqeFgWV         0.389             0.000    -1.828   \n1  0BjC1NfoEOOusryehmNudP         0.590             0.000    -5.559   \n2  0CoSDzoNIKCRs124s9uTVy         0.663             0.000   -13.879   \n3  0Gc6TVm52BwZD07Ki6tIvf         0.240             0.000   -12.178   \n4  0IuslXpMROHdEPvSl1fTQK         0.331             0.123   -21.150   \n\n   speechiness  valence  \n0       0.0525    0.814  \n1       0.0868    0.816  \n2       0.0362    0.368  \n3       0.0395    0.227  \n4       0.0456    0.390  ",
      "text/html": "<div>\n<style scoped>\n    .dataframe tbody tr th:only-of-type {\n        vertical-align: middle;\n    }\n\n    .dataframe tbody tr th {\n        vertical-align: top;\n    }\n\n    .dataframe thead th {\n        text-align: right;\n    }\n</style>\n<table border=\"1\" class=\"dataframe\">\n  <thead>\n    <tr style=\"text-align: right;\">\n      <th></th>\n      <th>artist_name</th>\n      <th>track_name</th>\n      <th>track_id</th>\n      <th>danceability</th>\n      <th>instrumentalness</th>\n      <th>loudness</th>\n      <th>speechiness</th>\n      <th>valence</th>\n    </tr>\n  </thead>\n  <tbody>\n    <tr>\n      <th>0</th>\n      <td>Henri Salvador</td>\n      <td>C'est beau de faire un Show</td>\n      <td>0BRjO6ga9RKCKjfDqeFgWV</td>\n      <td>0.389</td>\n      <td>0.000</td>\n      <td>-1.828</td>\n      <td>0.0525</td>\n      <td>0.814</td>\n    </tr>\n    <tr>\n      <th>1</th>\n      <td>Martin &amp; les fées</td>\n      <td>Perdu d'avance (par Gad Elmaleh)</td>\n      <td>0BjC1NfoEOOusryehmNudP</td>\n      <td>0.590</td>\n      <td>0.000</td>\n      <td>-5.559</td>\n      <td>0.0868</td>\n      <td>0.816</td>\n    </tr>\n    <tr>\n      <th>2</th>\n      <td>Joseph Williams</td>\n      <td>Don't Let Me Be Lonely Tonight</td>\n      <td>0CoSDzoNIKCRs124s9uTVy</td>\n      <td>0.663</td>\n      <td>0.000</td>\n      <td>-13.879</td>\n      <td>0.0362</td>\n      <td>0.368</td>\n    </tr>\n    <tr>\n      <th>3</th>\n      <td>Henri Salvador</td>\n      <td>Dis-moi Monsieur Gordon Cooper</td>\n      <td>0Gc6TVm52BwZD07Ki6tIvf</td>\n      <td>0.240</td>\n      <td>0.000</td>\n      <td>-12.178</td>\n      <td>0.0395</td>\n      <td>0.227</td>\n    </tr>\n    <tr>\n      <th>4</th>\n      <td>Fabien Nataf</td>\n      <td>Ouverture</td>\n      <td>0IuslXpMROHdEPvSl1fTQK</td>\n      <td>0.331</td>\n      <td>0.123</td>\n      <td>-21.150</td>\n      <td>0.0456</td>\n      <td>0.390</td>\n    </tr>\n  </tbody>\n</table>\n</div>"
     },
     "metadata": {},
     "execution_count": 5
    }
   ],
   "source": [
    "df.head()"
   ]
  },
  {
   "cell_type": "markdown",
   "metadata": {},
   "source": [
    "## Data Normalization ##"
   ]
  },
  {
   "cell_type": "code",
   "execution_count": 6,
   "metadata": {},
   "outputs": [
    {
     "output_type": "execute_result",
     "data": {
      "text/plain": "   danceability  instrumentalness  loudness  speechiness  valence\n0         0.389             0.000    -1.828       0.0525    0.814\n1         0.590             0.000    -5.559       0.0868    0.816\n2         0.663             0.000   -13.879       0.0362    0.368\n3         0.240             0.000   -12.178       0.0395    0.227\n4         0.331             0.123   -21.150       0.0456    0.390",
      "text/html": "<div>\n<style scoped>\n    .dataframe tbody tr th:only-of-type {\n        vertical-align: middle;\n    }\n\n    .dataframe tbody tr th {\n        vertical-align: top;\n    }\n\n    .dataframe thead th {\n        text-align: right;\n    }\n</style>\n<table border=\"1\" class=\"dataframe\">\n  <thead>\n    <tr style=\"text-align: right;\">\n      <th></th>\n      <th>danceability</th>\n      <th>instrumentalness</th>\n      <th>loudness</th>\n      <th>speechiness</th>\n      <th>valence</th>\n    </tr>\n  </thead>\n  <tbody>\n    <tr>\n      <th>0</th>\n      <td>0.389</td>\n      <td>0.000</td>\n      <td>-1.828</td>\n      <td>0.0525</td>\n      <td>0.814</td>\n    </tr>\n    <tr>\n      <th>1</th>\n      <td>0.590</td>\n      <td>0.000</td>\n      <td>-5.559</td>\n      <td>0.0868</td>\n      <td>0.816</td>\n    </tr>\n    <tr>\n      <th>2</th>\n      <td>0.663</td>\n      <td>0.000</td>\n      <td>-13.879</td>\n      <td>0.0362</td>\n      <td>0.368</td>\n    </tr>\n    <tr>\n      <th>3</th>\n      <td>0.240</td>\n      <td>0.000</td>\n      <td>-12.178</td>\n      <td>0.0395</td>\n      <td>0.227</td>\n    </tr>\n    <tr>\n      <th>4</th>\n      <td>0.331</td>\n      <td>0.123</td>\n      <td>-21.150</td>\n      <td>0.0456</td>\n      <td>0.390</td>\n    </tr>\n  </tbody>\n</table>\n</div>"
     },
     "metadata": {},
     "execution_count": 6
    }
   ],
   "source": [
    "# our aim here is to make all the data normalized (between 0 and 1)\n",
    "\n",
    "# let's make a dataframe with just the data to be normalized\n",
    "slice_df = df.loc[:, 'danceability':'valence']\n",
    "slice_df.head()"
   ]
  },
  {
   "cell_type": "code",
   "execution_count": 7,
   "metadata": {},
   "outputs": [],
   "source": [
    "import pandas as pd\n",
    "from sklearn import preprocessing\n",
    "\n",
    "x = slice_df.values #returns a numpy array\n",
    "min_max_scaler = preprocessing.MinMaxScaler()\n",
    "x_scaled = min_max_scaler.fit_transform(x)\n",
    "norm_df = pd.DataFrame(x_scaled)"
   ]
  },
  {
   "cell_type": "code",
   "execution_count": 8,
   "metadata": {},
   "outputs": [
    {
     "output_type": "execute_result",
     "data": {
      "text/plain": "          0         1         2         3      4\n0  0.356292  0.000000  0.900856  0.032070  0.814\n1  0.571934  0.000000  0.834469  0.068374  0.816\n2  0.650252  0.000000  0.686429  0.014818  0.368\n3  0.196438  0.000000  0.716695  0.018311  0.227\n4  0.294067  0.123123  0.557054  0.024767  0.390",
      "text/html": "<div>\n<style scoped>\n    .dataframe tbody tr th:only-of-type {\n        vertical-align: middle;\n    }\n\n    .dataframe tbody tr th {\n        vertical-align: top;\n    }\n\n    .dataframe thead th {\n        text-align: right;\n    }\n</style>\n<table border=\"1\" class=\"dataframe\">\n  <thead>\n    <tr style=\"text-align: right;\">\n      <th></th>\n      <th>0</th>\n      <th>1</th>\n      <th>2</th>\n      <th>3</th>\n      <th>4</th>\n    </tr>\n  </thead>\n  <tbody>\n    <tr>\n      <th>0</th>\n      <td>0.356292</td>\n      <td>0.000000</td>\n      <td>0.900856</td>\n      <td>0.032070</td>\n      <td>0.814</td>\n    </tr>\n    <tr>\n      <th>1</th>\n      <td>0.571934</td>\n      <td>0.000000</td>\n      <td>0.834469</td>\n      <td>0.068374</td>\n      <td>0.816</td>\n    </tr>\n    <tr>\n      <th>2</th>\n      <td>0.650252</td>\n      <td>0.000000</td>\n      <td>0.686429</td>\n      <td>0.014818</td>\n      <td>0.368</td>\n    </tr>\n    <tr>\n      <th>3</th>\n      <td>0.196438</td>\n      <td>0.000000</td>\n      <td>0.716695</td>\n      <td>0.018311</td>\n      <td>0.227</td>\n    </tr>\n    <tr>\n      <th>4</th>\n      <td>0.294067</td>\n      <td>0.123123</td>\n      <td>0.557054</td>\n      <td>0.024767</td>\n      <td>0.390</td>\n    </tr>\n  </tbody>\n</table>\n</div>"
     },
     "metadata": {},
     "execution_count": 8
    }
   ],
   "source": [
    "norm_df.head()"
   ]
  },
  {
   "cell_type": "code",
   "execution_count": 9,
   "metadata": {},
   "outputs": [
    {
     "output_type": "execute_result",
     "data": {
      "text/plain": "   danceability  instrumentalness  loudness  speechiness  valence\n0      0.356292          0.000000  0.900856     0.032070    0.814\n1      0.571934          0.000000  0.834469     0.068374    0.816\n2      0.650252          0.000000  0.686429     0.014818    0.368\n3      0.196438          0.000000  0.716695     0.018311    0.227\n4      0.294067          0.123123  0.557054     0.024767    0.390",
      "text/html": "<div>\n<style scoped>\n    .dataframe tbody tr th:only-of-type {\n        vertical-align: middle;\n    }\n\n    .dataframe tbody tr th {\n        vertical-align: top;\n    }\n\n    .dataframe thead th {\n        text-align: right;\n    }\n</style>\n<table border=\"1\" class=\"dataframe\">\n  <thead>\n    <tr style=\"text-align: right;\">\n      <th></th>\n      <th>danceability</th>\n      <th>instrumentalness</th>\n      <th>loudness</th>\n      <th>speechiness</th>\n      <th>valence</th>\n    </tr>\n  </thead>\n  <tbody>\n    <tr>\n      <th>0</th>\n      <td>0.356292</td>\n      <td>0.000000</td>\n      <td>0.900856</td>\n      <td>0.032070</td>\n      <td>0.814</td>\n    </tr>\n    <tr>\n      <th>1</th>\n      <td>0.571934</td>\n      <td>0.000000</td>\n      <td>0.834469</td>\n      <td>0.068374</td>\n      <td>0.816</td>\n    </tr>\n    <tr>\n      <th>2</th>\n      <td>0.650252</td>\n      <td>0.000000</td>\n      <td>0.686429</td>\n      <td>0.014818</td>\n      <td>0.368</td>\n    </tr>\n    <tr>\n      <th>3</th>\n      <td>0.196438</td>\n      <td>0.000000</td>\n      <td>0.716695</td>\n      <td>0.018311</td>\n      <td>0.227</td>\n    </tr>\n    <tr>\n      <th>4</th>\n      <td>0.294067</td>\n      <td>0.123123</td>\n      <td>0.557054</td>\n      <td>0.024767</td>\n      <td>0.390</td>\n    </tr>\n  </tbody>\n</table>\n</div>"
     },
     "metadata": {},
     "execution_count": 9
    }
   ],
   "source": [
    "# columns got renamed, let's fix that\n",
    "# Danceability, Instrumentalness, Loudness, Speechiness, Valence\n",
    "norm_df.columns = ['danceability', 'instrumentalness', 'loudness', 'speechiness', 'valence']\n",
    "norm_df.head()"
   ]
  },
  {
   "cell_type": "code",
   "execution_count": 10,
   "metadata": {},
   "outputs": [
    {
     "output_type": "execute_result",
     "data": {
      "text/plain": "count    232725.000000\nmean          0.104324\nstd           0.196357\nmin           0.000000\n25%           0.015347\n50%           0.029530\n75%           0.087638\nmax           1.000000\nName: speechiness, dtype: float64"
     },
     "metadata": {},
     "execution_count": 10
    }
   ],
   "source": [
    "# speechiness looks really low, let's see if it's actually between 0 and 1\n",
    "\n",
    "norm_df['speechiness'].describe() \n",
    "\n",
    "# guess so... but it's definitely skewed. oh well."
   ]
  },
  {
   "cell_type": "code",
   "execution_count": 13,
   "metadata": {},
   "outputs": [],
   "source": [
    "df = df.loc[:, 'artist_name':'track_id']\n",
    "df = df.join(norm_df)"
   ]
  },
  {
   "cell_type": "code",
   "execution_count": 14,
   "metadata": {},
   "outputs": [
    {
     "output_type": "execute_result",
     "data": {
      "text/plain": "         artist_name                        track_name  \\\n0     Henri Salvador       C'est beau de faire un Show   \n1  Martin & les fées  Perdu d'avance (par Gad Elmaleh)   \n2    Joseph Williams    Don't Let Me Be Lonely Tonight   \n3     Henri Salvador    Dis-moi Monsieur Gordon Cooper   \n4       Fabien Nataf                         Ouverture   \n\n                 track_id  danceability  instrumentalness  loudness  \\\n0  0BRjO6ga9RKCKjfDqeFgWV      0.356292          0.000000  0.900856   \n1  0BjC1NfoEOOusryehmNudP      0.571934          0.000000  0.834469   \n2  0CoSDzoNIKCRs124s9uTVy      0.650252          0.000000  0.686429   \n3  0Gc6TVm52BwZD07Ki6tIvf      0.196438          0.000000  0.716695   \n4  0IuslXpMROHdEPvSl1fTQK      0.294067          0.123123  0.557054   \n\n   speechiness  valence  \n0     0.032070    0.814  \n1     0.068374    0.816  \n2     0.014818    0.368  \n3     0.018311    0.227  \n4     0.024767    0.390  ",
      "text/html": "<div>\n<style scoped>\n    .dataframe tbody tr th:only-of-type {\n        vertical-align: middle;\n    }\n\n    .dataframe tbody tr th {\n        vertical-align: top;\n    }\n\n    .dataframe thead th {\n        text-align: right;\n    }\n</style>\n<table border=\"1\" class=\"dataframe\">\n  <thead>\n    <tr style=\"text-align: right;\">\n      <th></th>\n      <th>artist_name</th>\n      <th>track_name</th>\n      <th>track_id</th>\n      <th>danceability</th>\n      <th>instrumentalness</th>\n      <th>loudness</th>\n      <th>speechiness</th>\n      <th>valence</th>\n    </tr>\n  </thead>\n  <tbody>\n    <tr>\n      <th>0</th>\n      <td>Henri Salvador</td>\n      <td>C'est beau de faire un Show</td>\n      <td>0BRjO6ga9RKCKjfDqeFgWV</td>\n      <td>0.356292</td>\n      <td>0.000000</td>\n      <td>0.900856</td>\n      <td>0.032070</td>\n      <td>0.814</td>\n    </tr>\n    <tr>\n      <th>1</th>\n      <td>Martin &amp; les fées</td>\n      <td>Perdu d'avance (par Gad Elmaleh)</td>\n      <td>0BjC1NfoEOOusryehmNudP</td>\n      <td>0.571934</td>\n      <td>0.000000</td>\n      <td>0.834469</td>\n      <td>0.068374</td>\n      <td>0.816</td>\n    </tr>\n    <tr>\n      <th>2</th>\n      <td>Joseph Williams</td>\n      <td>Don't Let Me Be Lonely Tonight</td>\n      <td>0CoSDzoNIKCRs124s9uTVy</td>\n      <td>0.650252</td>\n      <td>0.000000</td>\n      <td>0.686429</td>\n      <td>0.014818</td>\n      <td>0.368</td>\n    </tr>\n    <tr>\n      <th>3</th>\n      <td>Henri Salvador</td>\n      <td>Dis-moi Monsieur Gordon Cooper</td>\n      <td>0Gc6TVm52BwZD07Ki6tIvf</td>\n      <td>0.196438</td>\n      <td>0.000000</td>\n      <td>0.716695</td>\n      <td>0.018311</td>\n      <td>0.227</td>\n    </tr>\n    <tr>\n      <th>4</th>\n      <td>Fabien Nataf</td>\n      <td>Ouverture</td>\n      <td>0IuslXpMROHdEPvSl1fTQK</td>\n      <td>0.294067</td>\n      <td>0.123123</td>\n      <td>0.557054</td>\n      <td>0.024767</td>\n      <td>0.390</td>\n    </tr>\n  </tbody>\n</table>\n</div>"
     },
     "metadata": {},
     "execution_count": 14
    }
   ],
   "source": [
    "df.head()"
   ]
  },
  {
   "cell_type": "markdown",
   "metadata": {},
   "source": [
    "## Radar Plot Experimentation ##"
   ]
  },
  {
   "cell_type": "code",
   "execution_count": 23,
   "metadata": {},
   "outputs": [
    {
     "output_type": "display_data",
     "data": {
      "application/vnd.plotly.v1+json": {
       "config": {
        "plotlyServerURL": "https://plot.ly"
       },
       "data": [
        {
         "fill": "toself",
         "name": "Egress & Access",
         "r": [
          0.356292,
          0.900856,
          0.814
         ],
         "theta": [
          "danceability",
          "loudness",
          "valence"
         ],
         "type": "scatterpolar"
        }
       ],
       "layout": {
        "polar": {
         "radialaxis": {
          "range": [
           0,
           1
          ],
          "visible": true
         }
        },
        "showlegend": true,
        "template": {
         "data": {
          "bar": [
           {
            "error_x": {
             "color": "#2a3f5f"
            },
            "error_y": {
             "color": "#2a3f5f"
            },
            "marker": {
             "line": {
              "color": "#E5ECF6",
              "width": 0.5
             }
            },
            "type": "bar"
           }
          ],
          "barpolar": [
           {
            "marker": {
             "line": {
              "color": "#E5ECF6",
              "width": 0.5
             }
            },
            "type": "barpolar"
           }
          ],
          "carpet": [
           {
            "aaxis": {
             "endlinecolor": "#2a3f5f",
             "gridcolor": "white",
             "linecolor": "white",
             "minorgridcolor": "white",
             "startlinecolor": "#2a3f5f"
            },
            "baxis": {
             "endlinecolor": "#2a3f5f",
             "gridcolor": "white",
             "linecolor": "white",
             "minorgridcolor": "white",
             "startlinecolor": "#2a3f5f"
            },
            "type": "carpet"
           }
          ],
          "choropleth": [
           {
            "colorbar": {
             "outlinewidth": 0,
             "ticks": ""
            },
            "type": "choropleth"
           }
          ],
          "contour": [
           {
            "colorbar": {
             "outlinewidth": 0,
             "ticks": ""
            },
            "colorscale": [
             [
              0,
              "#0d0887"
             ],
             [
              0.1111111111111111,
              "#46039f"
             ],
             [
              0.2222222222222222,
              "#7201a8"
             ],
             [
              0.3333333333333333,
              "#9c179e"
             ],
             [
              0.4444444444444444,
              "#bd3786"
             ],
             [
              0.5555555555555556,
              "#d8576b"
             ],
             [
              0.6666666666666666,
              "#ed7953"
             ],
             [
              0.7777777777777778,
              "#fb9f3a"
             ],
             [
              0.8888888888888888,
              "#fdca26"
             ],
             [
              1,
              "#f0f921"
             ]
            ],
            "type": "contour"
           }
          ],
          "contourcarpet": [
           {
            "colorbar": {
             "outlinewidth": 0,
             "ticks": ""
            },
            "type": "contourcarpet"
           }
          ],
          "heatmap": [
           {
            "colorbar": {
             "outlinewidth": 0,
             "ticks": ""
            },
            "colorscale": [
             [
              0,
              "#0d0887"
             ],
             [
              0.1111111111111111,
              "#46039f"
             ],
             [
              0.2222222222222222,
              "#7201a8"
             ],
             [
              0.3333333333333333,
              "#9c179e"
             ],
             [
              0.4444444444444444,
              "#bd3786"
             ],
             [
              0.5555555555555556,
              "#d8576b"
             ],
             [
              0.6666666666666666,
              "#ed7953"
             ],
             [
              0.7777777777777778,
              "#fb9f3a"
             ],
             [
              0.8888888888888888,
              "#fdca26"
             ],
             [
              1,
              "#f0f921"
             ]
            ],
            "type": "heatmap"
           }
          ],
          "heatmapgl": [
           {
            "colorbar": {
             "outlinewidth": 0,
             "ticks": ""
            },
            "colorscale": [
             [
              0,
              "#0d0887"
             ],
             [
              0.1111111111111111,
              "#46039f"
             ],
             [
              0.2222222222222222,
              "#7201a8"
             ],
             [
              0.3333333333333333,
              "#9c179e"
             ],
             [
              0.4444444444444444,
              "#bd3786"
             ],
             [
              0.5555555555555556,
              "#d8576b"
             ],
             [
              0.6666666666666666,
              "#ed7953"
             ],
             [
              0.7777777777777778,
              "#fb9f3a"
             ],
             [
              0.8888888888888888,
              "#fdca26"
             ],
             [
              1,
              "#f0f921"
             ]
            ],
            "type": "heatmapgl"
           }
          ],
          "histogram": [
           {
            "marker": {
             "colorbar": {
              "outlinewidth": 0,
              "ticks": ""
             }
            },
            "type": "histogram"
           }
          ],
          "histogram2d": [
           {
            "colorbar": {
             "outlinewidth": 0,
             "ticks": ""
            },
            "colorscale": [
             [
              0,
              "#0d0887"
             ],
             [
              0.1111111111111111,
              "#46039f"
             ],
             [
              0.2222222222222222,
              "#7201a8"
             ],
             [
              0.3333333333333333,
              "#9c179e"
             ],
             [
              0.4444444444444444,
              "#bd3786"
             ],
             [
              0.5555555555555556,
              "#d8576b"
             ],
             [
              0.6666666666666666,
              "#ed7953"
             ],
             [
              0.7777777777777778,
              "#fb9f3a"
             ],
             [
              0.8888888888888888,
              "#fdca26"
             ],
             [
              1,
              "#f0f921"
             ]
            ],
            "type": "histogram2d"
           }
          ],
          "histogram2dcontour": [
           {
            "colorbar": {
             "outlinewidth": 0,
             "ticks": ""
            },
            "colorscale": [
             [
              0,
              "#0d0887"
             ],
             [
              0.1111111111111111,
              "#46039f"
             ],
             [
              0.2222222222222222,
              "#7201a8"
             ],
             [
              0.3333333333333333,
              "#9c179e"
             ],
             [
              0.4444444444444444,
              "#bd3786"
             ],
             [
              0.5555555555555556,
              "#d8576b"
             ],
             [
              0.6666666666666666,
              "#ed7953"
             ],
             [
              0.7777777777777778,
              "#fb9f3a"
             ],
             [
              0.8888888888888888,
              "#fdca26"
             ],
             [
              1,
              "#f0f921"
             ]
            ],
            "type": "histogram2dcontour"
           }
          ],
          "mesh3d": [
           {
            "colorbar": {
             "outlinewidth": 0,
             "ticks": ""
            },
            "type": "mesh3d"
           }
          ],
          "parcoords": [
           {
            "line": {
             "colorbar": {
              "outlinewidth": 0,
              "ticks": ""
             }
            },
            "type": "parcoords"
           }
          ],
          "pie": [
           {
            "automargin": true,
            "type": "pie"
           }
          ],
          "scatter": [
           {
            "marker": {
             "colorbar": {
              "outlinewidth": 0,
              "ticks": ""
             }
            },
            "type": "scatter"
           }
          ],
          "scatter3d": [
           {
            "line": {
             "colorbar": {
              "outlinewidth": 0,
              "ticks": ""
             }
            },
            "marker": {
             "colorbar": {
              "outlinewidth": 0,
              "ticks": ""
             }
            },
            "type": "scatter3d"
           }
          ],
          "scattercarpet": [
           {
            "marker": {
             "colorbar": {
              "outlinewidth": 0,
              "ticks": ""
             }
            },
            "type": "scattercarpet"
           }
          ],
          "scattergeo": [
           {
            "marker": {
             "colorbar": {
              "outlinewidth": 0,
              "ticks": ""
             }
            },
            "type": "scattergeo"
           }
          ],
          "scattergl": [
           {
            "marker": {
             "colorbar": {
              "outlinewidth": 0,
              "ticks": ""
             }
            },
            "type": "scattergl"
           }
          ],
          "scattermapbox": [
           {
            "marker": {
             "colorbar": {
              "outlinewidth": 0,
              "ticks": ""
             }
            },
            "type": "scattermapbox"
           }
          ],
          "scatterpolar": [
           {
            "marker": {
             "colorbar": {
              "outlinewidth": 0,
              "ticks": ""
             }
            },
            "type": "scatterpolar"
           }
          ],
          "scatterpolargl": [
           {
            "marker": {
             "colorbar": {
              "outlinewidth": 0,
              "ticks": ""
             }
            },
            "type": "scatterpolargl"
           }
          ],
          "scatterternary": [
           {
            "marker": {
             "colorbar": {
              "outlinewidth": 0,
              "ticks": ""
             }
            },
            "type": "scatterternary"
           }
          ],
          "surface": [
           {
            "colorbar": {
             "outlinewidth": 0,
             "ticks": ""
            },
            "colorscale": [
             [
              0,
              "#0d0887"
             ],
             [
              0.1111111111111111,
              "#46039f"
             ],
             [
              0.2222222222222222,
              "#7201a8"
             ],
             [
              0.3333333333333333,
              "#9c179e"
             ],
             [
              0.4444444444444444,
              "#bd3786"
             ],
             [
              0.5555555555555556,
              "#d8576b"
             ],
             [
              0.6666666666666666,
              "#ed7953"
             ],
             [
              0.7777777777777778,
              "#fb9f3a"
             ],
             [
              0.8888888888888888,
              "#fdca26"
             ],
             [
              1,
              "#f0f921"
             ]
            ],
            "type": "surface"
           }
          ],
          "table": [
           {
            "cells": {
             "fill": {
              "color": "#EBF0F8"
             },
             "line": {
              "color": "white"
             }
            },
            "header": {
             "fill": {
              "color": "#C8D4E3"
             },
             "line": {
              "color": "white"
             }
            },
            "type": "table"
           }
          ]
         },
         "layout": {
          "annotationdefaults": {
           "arrowcolor": "#2a3f5f",
           "arrowhead": 0,
           "arrowwidth": 1
          },
          "coloraxis": {
           "colorbar": {
            "outlinewidth": 0,
            "ticks": ""
           }
          },
          "colorscale": {
           "diverging": [
            [
             0,
             "#8e0152"
            ],
            [
             0.1,
             "#c51b7d"
            ],
            [
             0.2,
             "#de77ae"
            ],
            [
             0.3,
             "#f1b6da"
            ],
            [
             0.4,
             "#fde0ef"
            ],
            [
             0.5,
             "#f7f7f7"
            ],
            [
             0.6,
             "#e6f5d0"
            ],
            [
             0.7,
             "#b8e186"
            ],
            [
             0.8,
             "#7fbc41"
            ],
            [
             0.9,
             "#4d9221"
            ],
            [
             1,
             "#276419"
            ]
           ],
           "sequential": [
            [
             0,
             "#0d0887"
            ],
            [
             0.1111111111111111,
             "#46039f"
            ],
            [
             0.2222222222222222,
             "#7201a8"
            ],
            [
             0.3333333333333333,
             "#9c179e"
            ],
            [
             0.4444444444444444,
             "#bd3786"
            ],
            [
             0.5555555555555556,
             "#d8576b"
            ],
            [
             0.6666666666666666,
             "#ed7953"
            ],
            [
             0.7777777777777778,
             "#fb9f3a"
            ],
            [
             0.8888888888888888,
             "#fdca26"
            ],
            [
             1,
             "#f0f921"
            ]
           ],
           "sequentialminus": [
            [
             0,
             "#0d0887"
            ],
            [
             0.1111111111111111,
             "#46039f"
            ],
            [
             0.2222222222222222,
             "#7201a8"
            ],
            [
             0.3333333333333333,
             "#9c179e"
            ],
            [
             0.4444444444444444,
             "#bd3786"
            ],
            [
             0.5555555555555556,
             "#d8576b"
            ],
            [
             0.6666666666666666,
             "#ed7953"
            ],
            [
             0.7777777777777778,
             "#fb9f3a"
            ],
            [
             0.8888888888888888,
             "#fdca26"
            ],
            [
             1,
             "#f0f921"
            ]
           ]
          },
          "colorway": [
           "#636efa",
           "#EF553B",
           "#00cc96",
           "#ab63fa",
           "#FFA15A",
           "#19d3f3",
           "#FF6692",
           "#B6E880",
           "#FF97FF",
           "#FECB52"
          ],
          "font": {
           "color": "#2a3f5f"
          },
          "geo": {
           "bgcolor": "white",
           "lakecolor": "white",
           "landcolor": "#E5ECF6",
           "showlakes": true,
           "showland": true,
           "subunitcolor": "white"
          },
          "hoverlabel": {
           "align": "left"
          },
          "hovermode": "closest",
          "mapbox": {
           "style": "light"
          },
          "paper_bgcolor": "white",
          "plot_bgcolor": "#E5ECF6",
          "polar": {
           "angularaxis": {
            "gridcolor": "white",
            "linecolor": "white",
            "ticks": ""
           },
           "bgcolor": "#E5ECF6",
           "radialaxis": {
            "gridcolor": "white",
            "linecolor": "white",
            "ticks": ""
           }
          },
          "scene": {
           "xaxis": {
            "backgroundcolor": "#E5ECF6",
            "gridcolor": "white",
            "gridwidth": 2,
            "linecolor": "white",
            "showbackground": true,
            "ticks": "",
            "zerolinecolor": "white"
           },
           "yaxis": {
            "backgroundcolor": "#E5ECF6",
            "gridcolor": "white",
            "gridwidth": 2,
            "linecolor": "white",
            "showbackground": true,
            "ticks": "",
            "zerolinecolor": "white"
           },
           "zaxis": {
            "backgroundcolor": "#E5ECF6",
            "gridcolor": "white",
            "gridwidth": 2,
            "linecolor": "white",
            "showbackground": true,
            "ticks": "",
            "zerolinecolor": "white"
           }
          },
          "shapedefaults": {
           "line": {
            "color": "#2a3f5f"
           }
          },
          "ternary": {
           "aaxis": {
            "gridcolor": "white",
            "linecolor": "white",
            "ticks": ""
           },
           "baxis": {
            "gridcolor": "white",
            "linecolor": "white",
            "ticks": ""
           },
           "bgcolor": "#E5ECF6",
           "caxis": {
            "gridcolor": "white",
            "linecolor": "white",
            "ticks": ""
           }
          },
          "title": {
           "x": 0.05
          },
          "xaxis": {
           "automargin": true,
           "gridcolor": "white",
           "linecolor": "white",
           "ticks": "",
           "title": {
            "standoff": 15
           },
           "zerolinecolor": "white",
           "zerolinewidth": 2
          },
          "yaxis": {
           "automargin": true,
           "gridcolor": "white",
           "linecolor": "white",
           "ticks": "",
           "title": {
            "standoff": 15
           },
           "zerolinecolor": "white",
           "zerolinewidth": 2
          }
         }
        }
       }
      }
     },
     "metadata": {}
    }
   ],
   "source": [
    "import plotly.graph_objects as go\n",
    "import numpy as np\n",
    "\n",
    "aa = np.array([0.356292])\n",
    "cc = np.array([0.900856])\n",
    "ee = np.array([0.814000])\n",
    "\n",
    "categories = ['danceability', 'loudness', 'valence']\n",
    "\n",
    "fig = go.Figure()\n",
    "\n",
    "fig.add_trace(go.Scatterpolar(\n",
    "      r=[aa[0], cc[0], ee[0]],\n",
    "      theta=categories,\n",
    "      fill='toself',\n",
    "      name='Egress & Access'\n",
    "))\n",
    "\n",
    "fig.update_layout(\n",
    "  polar=dict(\n",
    "    radialaxis=dict(\n",
    "      visible=True,\n",
    "      range=[0, 1]\n",
    "    )),\n",
    "      showlegend=True\n",
    ")\n",
    "\n",
    "fig.show()"
   ]
  },
  {
   "cell_type": "code",
   "execution_count": null,
   "metadata": {},
   "outputs": [],
   "source": []
  }
 ]
}