{
  "nbformat": 4,
  "nbformat_minor": 0,
  "metadata": {
    "colab": {
      "name": "Unit4 Model.ipynb",
      "provenance": [],
      "collapsed_sections": []
    },
    "kernelspec": {
      "name": "python3",
      "display_name": "Python 3"
    }
  },
  "cells": [
    {
      "cell_type": "code",
      "metadata": {
        "id": "PELPxIae8GpU",
        "colab_type": "code",
        "colab": {}
      },
      "source": [
        "%%capture\n",
        "\n",
        "!pip install minisom\n",
        "!pip install spotipy"
      ],
      "execution_count": 3,
      "outputs": []
    },
    {
      "cell_type": "code",
      "metadata": {
        "id": "2rm-8B-n7noQ",
        "colab_type": "code",
        "colab": {
          "base_uri": "https://localhost:8080/",
          "height": 71
        },
        "outputId": "ddb64bce-347d-41b9-918a-24f9b6b12e60"
      },
      "source": [
        "import pandas as pd\n",
        "import numpy as np\n",
        "from sklearn.preprocessing import MinMaxScaler\n",
        "from minisom import MiniSom\n",
        "import matplotlib.pyplot as plt\n",
        "from sklearn.cluster import KMeans\n",
        "from sklearn.decomposition import PCA\n",
        "import seaborn as sns\n",
        "import pickle\n",
        "from sklearn.manifold import TSNE\n",
        "from sklearn.model_selection import train_test_split\n",
        "from tensorflow.keras.utils import to_categorical\n",
        "import tensorflow as tf\n",
        "from tensorflow.keras.models import Sequential, model_from_json\n",
        "from tensorflow.keras.layers import Input, Dense, Activation\n",
        "from spotipy.oauth2 import SpotifyClientCredentials\n",
        "import spotipy\n",
        "import json"
      ],
      "execution_count": 4,
      "outputs": [
        {
          "output_type": "stream",
          "text": [
            "/usr/local/lib/python3.6/dist-packages/statsmodels/tools/_testing.py:19: FutureWarning: pandas.util.testing is deprecated. Use the functions in the public API at pandas.testing instead.\n",
            "  import pandas.util.testing as tm\n"
          ],
          "name": "stderr"
        }
      ]
    },
    {
      "cell_type": "code",
      "metadata": {
        "id": "nAYNcRVm6FvM",
        "colab_type": "code",
        "colab": {}
      },
      "source": [
        "#data loaded from repo\n",
        "songs = pd.read_csv('https://raw.githubusercontent.com/spotify-song-suggester1/machine_learning/master/data/SpotifyFeatures.csv?token=APCSMRNWVE65U7D6AUVOLY27D4DIO')"
      ],
      "execution_count": 37,
      "outputs": []
    },
    {
      "cell_type": "code",
      "metadata": {
        "id": "h0FHwcmK6Gus",
        "colab_type": "code",
        "colab": {
          "base_uri": "https://localhost:8080/",
          "height": 422
        },
        "outputId": "7e0062f2-ac9a-45f6-8f15-8baa2217c10e"
      },
      "source": [
        "songs.head()"
      ],
      "execution_count": 25,
      "outputs": [
        {
          "output_type": "execute_result",
          "data": {
            "text/html": [
              "<div>\n",
              "<style scoped>\n",
              "    .dataframe tbody tr th:only-of-type {\n",
              "        vertical-align: middle;\n",
              "    }\n",
              "\n",
              "    .dataframe tbody tr th {\n",
              "        vertical-align: top;\n",
              "    }\n",
              "\n",
              "    .dataframe thead th {\n",
              "        text-align: right;\n",
              "    }\n",
              "</style>\n",
              "<table border=\"1\" class=\"dataframe\">\n",
              "  <thead>\n",
              "    <tr style=\"text-align: right;\">\n",
              "      <th></th>\n",
              "      <th>Unnamed: 0</th>\n",
              "      <th>genre</th>\n",
              "      <th>artist_name</th>\n",
              "      <th>track_name</th>\n",
              "      <th>track_id</th>\n",
              "      <th>popularity</th>\n",
              "      <th>acousticness</th>\n",
              "      <th>danceability</th>\n",
              "      <th>duration_ms</th>\n",
              "      <th>energy</th>\n",
              "      <th>instrumentalness</th>\n",
              "      <th>key</th>\n",
              "      <th>liveness</th>\n",
              "      <th>loudness</th>\n",
              "      <th>mode</th>\n",
              "      <th>speechiness</th>\n",
              "      <th>tempo</th>\n",
              "      <th>time_signature</th>\n",
              "      <th>valence</th>\n",
              "    </tr>\n",
              "  </thead>\n",
              "  <tbody>\n",
              "    <tr>\n",
              "      <th>0</th>\n",
              "      <td>0</td>\n",
              "      <td>Movie</td>\n",
              "      <td>Henri Salvador</td>\n",
              "      <td>C'est beau de faire un Show</td>\n",
              "      <td>0BRjO6ga9RKCKjfDqeFgWV</td>\n",
              "      <td>0</td>\n",
              "      <td>0.611</td>\n",
              "      <td>0.389</td>\n",
              "      <td>99373</td>\n",
              "      <td>0.910</td>\n",
              "      <td>0.000</td>\n",
              "      <td>C#</td>\n",
              "      <td>0.3460</td>\n",
              "      <td>-1.828</td>\n",
              "      <td>Major</td>\n",
              "      <td>0.0525</td>\n",
              "      <td>166.969</td>\n",
              "      <td>4/4</td>\n",
              "      <td>0.814</td>\n",
              "    </tr>\n",
              "    <tr>\n",
              "      <th>1</th>\n",
              "      <td>1</td>\n",
              "      <td>Movie</td>\n",
              "      <td>Martin &amp; les fées</td>\n",
              "      <td>Perdu d'avance (par Gad Elmaleh)</td>\n",
              "      <td>0BjC1NfoEOOusryehmNudP</td>\n",
              "      <td>1</td>\n",
              "      <td>0.246</td>\n",
              "      <td>0.590</td>\n",
              "      <td>137373</td>\n",
              "      <td>0.737</td>\n",
              "      <td>0.000</td>\n",
              "      <td>F#</td>\n",
              "      <td>0.1510</td>\n",
              "      <td>-5.559</td>\n",
              "      <td>Minor</td>\n",
              "      <td>0.0868</td>\n",
              "      <td>174.003</td>\n",
              "      <td>4/4</td>\n",
              "      <td>0.816</td>\n",
              "    </tr>\n",
              "    <tr>\n",
              "      <th>2</th>\n",
              "      <td>2</td>\n",
              "      <td>Movie</td>\n",
              "      <td>Joseph Williams</td>\n",
              "      <td>Don't Let Me Be Lonely Tonight</td>\n",
              "      <td>0CoSDzoNIKCRs124s9uTVy</td>\n",
              "      <td>3</td>\n",
              "      <td>0.952</td>\n",
              "      <td>0.663</td>\n",
              "      <td>170267</td>\n",
              "      <td>0.131</td>\n",
              "      <td>0.000</td>\n",
              "      <td>C</td>\n",
              "      <td>0.1030</td>\n",
              "      <td>-13.879</td>\n",
              "      <td>Minor</td>\n",
              "      <td>0.0362</td>\n",
              "      <td>99.488</td>\n",
              "      <td>5/4</td>\n",
              "      <td>0.368</td>\n",
              "    </tr>\n",
              "    <tr>\n",
              "      <th>3</th>\n",
              "      <td>3</td>\n",
              "      <td>Movie</td>\n",
              "      <td>Henri Salvador</td>\n",
              "      <td>Dis-moi Monsieur Gordon Cooper</td>\n",
              "      <td>0Gc6TVm52BwZD07Ki6tIvf</td>\n",
              "      <td>0</td>\n",
              "      <td>0.703</td>\n",
              "      <td>0.240</td>\n",
              "      <td>152427</td>\n",
              "      <td>0.326</td>\n",
              "      <td>0.000</td>\n",
              "      <td>C#</td>\n",
              "      <td>0.0985</td>\n",
              "      <td>-12.178</td>\n",
              "      <td>Major</td>\n",
              "      <td>0.0395</td>\n",
              "      <td>171.758</td>\n",
              "      <td>4/4</td>\n",
              "      <td>0.227</td>\n",
              "    </tr>\n",
              "    <tr>\n",
              "      <th>4</th>\n",
              "      <td>4</td>\n",
              "      <td>Movie</td>\n",
              "      <td>Fabien Nataf</td>\n",
              "      <td>Ouverture</td>\n",
              "      <td>0IuslXpMROHdEPvSl1fTQK</td>\n",
              "      <td>4</td>\n",
              "      <td>0.950</td>\n",
              "      <td>0.331</td>\n",
              "      <td>82625</td>\n",
              "      <td>0.225</td>\n",
              "      <td>0.123</td>\n",
              "      <td>F</td>\n",
              "      <td>0.2020</td>\n",
              "      <td>-21.150</td>\n",
              "      <td>Major</td>\n",
              "      <td>0.0456</td>\n",
              "      <td>140.576</td>\n",
              "      <td>4/4</td>\n",
              "      <td>0.390</td>\n",
              "    </tr>\n",
              "  </tbody>\n",
              "</table>\n",
              "</div>"
            ],
            "text/plain": [
              "   Unnamed: 0  genre        artist_name  ...    tempo time_signature  valence\n",
              "0           0  Movie     Henri Salvador  ...  166.969            4/4    0.814\n",
              "1           1  Movie  Martin & les fées  ...  174.003            4/4    0.816\n",
              "2           2  Movie    Joseph Williams  ...   99.488            5/4    0.368\n",
              "3           3  Movie     Henri Salvador  ...  171.758            4/4    0.227\n",
              "4           4  Movie       Fabien Nataf  ...  140.576            4/4    0.390\n",
              "\n",
              "[5 rows x 19 columns]"
            ]
          },
          "metadata": {
            "tags": []
          },
          "execution_count": 25
        }
      ]
    },
    {
      "cell_type": "code",
      "metadata": {
        "id": "vCjNK99j8Np-",
        "colab_type": "code",
        "colab": {
          "base_uri": "https://localhost:8080/",
          "height": 221
        },
        "outputId": "202d4782-3af1-45cd-c4c0-8ec0ac9ee837"
      },
      "source": [
        "songs['popularity'].value_counts()"
      ],
      "execution_count": 13,
      "outputs": [
        {
          "output_type": "execute_result",
          "data": {
            "text/plain": [
              "0      6312\n",
              "50     5415\n",
              "53     5414\n",
              "51     5401\n",
              "52     5342\n",
              "       ... \n",
              "96        8\n",
              "94        7\n",
              "99        4\n",
              "98        3\n",
              "100       2\n",
              "Name: popularity, Length: 101, dtype: int64"
            ]
          },
          "metadata": {
            "tags": []
          },
          "execution_count": 13
        }
      ]
    },
    {
      "cell_type": "code",
      "metadata": {
        "id": "m8BXInZt9PZj",
        "colab_type": "code",
        "colab": {
          "base_uri": "https://localhost:8080/",
          "height": 34
        },
        "outputId": "9da6f4e8-c906-4c10-c609-44798b0f0c27"
      },
      "source": [
        "songs.shape"
      ],
      "execution_count": 16,
      "outputs": [
        {
          "output_type": "execute_result",
          "data": {
            "text/plain": [
              "(232725, 19)"
            ]
          },
          "metadata": {
            "tags": []
          },
          "execution_count": 16
        }
      ]
    },
    {
      "cell_type": "code",
      "metadata": {
        "id": "72U3HbzN7brQ",
        "colab_type": "code",
        "colab": {
          "base_uri": "https://localhost:8080/",
          "height": 214
        },
        "outputId": "93dcf35c-f2a7-4082-bc73-50cc3dd6ef38"
      },
      "source": [
        "#Loading and preparing the data\n",
        "\n",
        "#cleaning songs df\n",
        "\n",
        "songs = songs.drop(labels=['track_id', 'track_name', 'time_signature', 'artist_name', 'key'], axis=1)\n",
        "\n"
      ],
      "execution_count": 38,
      "outputs": [
        {
          "output_type": "error",
          "ename": "NameError",
          "evalue": "ignored",
          "traceback": [
            "\u001b[0;31m---------------------------------------------------------------------------\u001b[0m",
            "\u001b[0;31mNameError\u001b[0m                                 Traceback (most recent call last)",
            "\u001b[0;32m<ipython-input-38-88b6eec31599>\u001b[0m in \u001b[0;36m<module>\u001b[0;34m()\u001b[0m\n\u001b[1;32m      9\u001b[0m \u001b[0;31m# cols = ['song_name', 'artist_name', 'danceability', 'energy', 'loudness', 'speechiness', 'acousticness', 'instrumentalness', 'liveness', 'valence', 'tempo', 'time_signature']\u001b[0m\u001b[0;34m\u001b[0m\u001b[0;34m\u001b[0m\u001b[0;34m\u001b[0m\u001b[0m\n\u001b[1;32m     10\u001b[0m \u001b[0;31m# songs = songs[cols]\u001b[0m\u001b[0;34m\u001b[0m\u001b[0;34m\u001b[0m\u001b[0;34m\u001b[0m\u001b[0m\n\u001b[0;32m---> 11\u001b[0;31m \u001b[0msong\u001b[0m\u001b[0;34m.\u001b[0m\u001b[0mhead\u001b[0m\u001b[0;34m(\u001b[0m\u001b[0;34m)\u001b[0m\u001b[0;34m\u001b[0m\u001b[0;34m\u001b[0m\u001b[0m\n\u001b[0m",
            "\u001b[0;31mNameError\u001b[0m: name 'song' is not defined"
          ]
        }
      ]
    },
    {
      "cell_type": "code",
      "metadata": {
        "id": "OAedp7C4MTyq",
        "colab_type": "code",
        "colab": {
          "base_uri": "https://localhost:8080/",
          "height": 197
        },
        "outputId": "dd0b9621-fdf9-4d15-d4b3-259b9117af36"
      },
      "source": [
        "songs.head()"
      ],
      "execution_count": 39,
      "outputs": [
        {
          "output_type": "execute_result",
          "data": {
            "text/html": [
              "<div>\n",
              "<style scoped>\n",
              "    .dataframe tbody tr th:only-of-type {\n",
              "        vertical-align: middle;\n",
              "    }\n",
              "\n",
              "    .dataframe tbody tr th {\n",
              "        vertical-align: top;\n",
              "    }\n",
              "\n",
              "    .dataframe thead th {\n",
              "        text-align: right;\n",
              "    }\n",
              "</style>\n",
              "<table border=\"1\" class=\"dataframe\">\n",
              "  <thead>\n",
              "    <tr style=\"text-align: right;\">\n",
              "      <th></th>\n",
              "      <th>Unnamed: 0</th>\n",
              "      <th>genre</th>\n",
              "      <th>popularity</th>\n",
              "      <th>acousticness</th>\n",
              "      <th>danceability</th>\n",
              "      <th>duration_ms</th>\n",
              "      <th>energy</th>\n",
              "      <th>instrumentalness</th>\n",
              "      <th>liveness</th>\n",
              "      <th>loudness</th>\n",
              "      <th>mode</th>\n",
              "      <th>speechiness</th>\n",
              "      <th>tempo</th>\n",
              "      <th>valence</th>\n",
              "    </tr>\n",
              "  </thead>\n",
              "  <tbody>\n",
              "    <tr>\n",
              "      <th>0</th>\n",
              "      <td>0</td>\n",
              "      <td>Movie</td>\n",
              "      <td>0</td>\n",
              "      <td>0.611</td>\n",
              "      <td>0.389</td>\n",
              "      <td>99373</td>\n",
              "      <td>0.910</td>\n",
              "      <td>0.000</td>\n",
              "      <td>0.3460</td>\n",
              "      <td>-1.828</td>\n",
              "      <td>Major</td>\n",
              "      <td>0.0525</td>\n",
              "      <td>166.969</td>\n",
              "      <td>0.814</td>\n",
              "    </tr>\n",
              "    <tr>\n",
              "      <th>1</th>\n",
              "      <td>1</td>\n",
              "      <td>Movie</td>\n",
              "      <td>1</td>\n",
              "      <td>0.246</td>\n",
              "      <td>0.590</td>\n",
              "      <td>137373</td>\n",
              "      <td>0.737</td>\n",
              "      <td>0.000</td>\n",
              "      <td>0.1510</td>\n",
              "      <td>-5.559</td>\n",
              "      <td>Minor</td>\n",
              "      <td>0.0868</td>\n",
              "      <td>174.003</td>\n",
              "      <td>0.816</td>\n",
              "    </tr>\n",
              "    <tr>\n",
              "      <th>2</th>\n",
              "      <td>2</td>\n",
              "      <td>Movie</td>\n",
              "      <td>3</td>\n",
              "      <td>0.952</td>\n",
              "      <td>0.663</td>\n",
              "      <td>170267</td>\n",
              "      <td>0.131</td>\n",
              "      <td>0.000</td>\n",
              "      <td>0.1030</td>\n",
              "      <td>-13.879</td>\n",
              "      <td>Minor</td>\n",
              "      <td>0.0362</td>\n",
              "      <td>99.488</td>\n",
              "      <td>0.368</td>\n",
              "    </tr>\n",
              "    <tr>\n",
              "      <th>3</th>\n",
              "      <td>3</td>\n",
              "      <td>Movie</td>\n",
              "      <td>0</td>\n",
              "      <td>0.703</td>\n",
              "      <td>0.240</td>\n",
              "      <td>152427</td>\n",
              "      <td>0.326</td>\n",
              "      <td>0.000</td>\n",
              "      <td>0.0985</td>\n",
              "      <td>-12.178</td>\n",
              "      <td>Major</td>\n",
              "      <td>0.0395</td>\n",
              "      <td>171.758</td>\n",
              "      <td>0.227</td>\n",
              "    </tr>\n",
              "    <tr>\n",
              "      <th>4</th>\n",
              "      <td>4</td>\n",
              "      <td>Movie</td>\n",
              "      <td>4</td>\n",
              "      <td>0.950</td>\n",
              "      <td>0.331</td>\n",
              "      <td>82625</td>\n",
              "      <td>0.225</td>\n",
              "      <td>0.123</td>\n",
              "      <td>0.2020</td>\n",
              "      <td>-21.150</td>\n",
              "      <td>Major</td>\n",
              "      <td>0.0456</td>\n",
              "      <td>140.576</td>\n",
              "      <td>0.390</td>\n",
              "    </tr>\n",
              "  </tbody>\n",
              "</table>\n",
              "</div>"
            ],
            "text/plain": [
              "   Unnamed: 0  genre  popularity  ...  speechiness    tempo  valence\n",
              "0           0  Movie           0  ...       0.0525  166.969    0.814\n",
              "1           1  Movie           1  ...       0.0868  174.003    0.816\n",
              "2           2  Movie           3  ...       0.0362   99.488    0.368\n",
              "3           3  Movie           0  ...       0.0395  171.758    0.227\n",
              "4           4  Movie           4  ...       0.0456  140.576    0.390\n",
              "\n",
              "[5 rows x 14 columns]"
            ]
          },
          "metadata": {
            "tags": []
          },
          "execution_count": 39
        }
      ]
    },
    {
      "cell_type": "code",
      "metadata": {
        "id": "4GAEBJecK4VT",
        "colab_type": "code",
        "colab": {
          "base_uri": "https://localhost:8080/",
          "height": 375
        },
        "outputId": "2cdb5377-ad32-4559-c007-26e44699e97c"
      },
      "source": [
        "#creating a scaled features df from the song df\n",
        "\n",
        "features = songs.drop(labels=['popularity', 'genre', 'mode'], axis=1)\n",
        "scaler = MinMaxScaler()\n",
        "features_scaled = scaler.fit_transform(features)\n",
        "\n",
        "# implementing kmeans\n",
        "np.random.seed(42)\n",
        "kmeans = KMeans(n_clusters=7)\n",
        "kmeans.fit(features_scaled)\n",
        "\n",
        "#cluster predictions for each song\n",
        "y_kmeans = kmeans.predict(features_scaled)\n",
        "\n",
        "#adding song kmean group label to song df \n",
        "songs['label'] = y_kmeans\n",
        "songs = songs.sample(frac=1)\n",
        "\n",
        "#train test split\n",
        "X_train, X_test, y_train, y_test = train_test_split(features_scaled, y_kmeans, test_size=0.2)\n",
        "\n",
        "y_train_binary = to_categorical(y_train)\n",
        "y_test_binary = to_categorical(y_test)\n",
        "\n",
        "# #neural network\n",
        "model = Sequential([\n",
        "    Input(shape=(X_train.shape[1])),\n",
        "    Dense(128, activation='relu'),\n",
        "    Dense(64, activation='relu'),\n",
        "    Dense(32, activation='relu'),\n",
        "    Dense(7, activation='softmax')\n",
        "])\n",
        "\n",
        "inputs = Input(shape=(10,))\n",
        "\n",
        "model.compile('nadam', 'categorical_crossentropy', metrics=['accuracy'])\n",
        "\n",
        "model.fit(X_train, y_train_binary, epochs=10, batch_size=16, validation_split=.2)"
      ],
      "execution_count": 45,
      "outputs": [
        {
          "output_type": "stream",
          "text": [
            "Epoch 1/10\n",
            "9309/9309 [==============================] - 18s 2ms/step - loss: 0.1028 - accuracy: 0.9607 - val_loss: 0.0497 - val_accuracy: 0.9823\n",
            "Epoch 2/10\n",
            "9309/9309 [==============================] - 17s 2ms/step - loss: 0.0564 - accuracy: 0.9760 - val_loss: 0.0401 - val_accuracy: 0.9827\n",
            "Epoch 3/10\n",
            "9309/9309 [==============================] - 18s 2ms/step - loss: 0.0496 - accuracy: 0.9792 - val_loss: 0.0609 - val_accuracy: 0.9741\n",
            "Epoch 4/10\n",
            "9309/9309 [==============================] - 18s 2ms/step - loss: 0.0472 - accuracy: 0.9803 - val_loss: 0.0434 - val_accuracy: 0.9828\n",
            "Epoch 5/10\n",
            "9309/9309 [==============================] - 18s 2ms/step - loss: 0.0434 - accuracy: 0.9816 - val_loss: 0.0332 - val_accuracy: 0.9860\n",
            "Epoch 6/10\n",
            "9309/9309 [==============================] - 18s 2ms/step - loss: 0.0411 - accuracy: 0.9826 - val_loss: 0.0374 - val_accuracy: 0.9850\n",
            "Epoch 7/10\n",
            "9309/9309 [==============================] - 17s 2ms/step - loss: 0.0389 - accuracy: 0.9838 - val_loss: 0.0457 - val_accuracy: 0.9812\n",
            "Epoch 8/10\n",
            "9309/9309 [==============================] - 18s 2ms/step - loss: 0.0382 - accuracy: 0.9839 - val_loss: 0.0388 - val_accuracy: 0.9839\n",
            "Epoch 9/10\n",
            "9309/9309 [==============================] - 18s 2ms/step - loss: 0.0359 - accuracy: 0.9847 - val_loss: 0.0289 - val_accuracy: 0.9889\n",
            "Epoch 10/10\n",
            "9309/9309 [==============================] - 18s 2ms/step - loss: 0.0345 - accuracy: 0.9858 - val_loss: 0.0518 - val_accuracy: 0.9777\n"
          ],
          "name": "stdout"
        },
        {
          "output_type": "execute_result",
          "data": {
            "text/plain": [
              "<tensorflow.python.keras.callbacks.History at 0x7fd0b6e18908>"
            ]
          },
          "metadata": {
            "tags": []
          },
          "execution_count": 45
        }
      ]
    },
    {
      "cell_type": "code",
      "metadata": {
        "id": "LWpGLAPeAviT",
        "colab_type": "code",
        "colab": {
          "base_uri": "https://localhost:8080/",
          "height": 459
        },
        "outputId": "4a973b62-1063-4857-f546-e614a6ea250c"
      },
      "source": [
        "songs"
      ],
      "execution_count": 46,
      "outputs": [
        {
          "output_type": "execute_result",
          "data": {
            "text/html": [
              "<div>\n",
              "<style scoped>\n",
              "    .dataframe tbody tr th:only-of-type {\n",
              "        vertical-align: middle;\n",
              "    }\n",
              "\n",
              "    .dataframe tbody tr th {\n",
              "        vertical-align: top;\n",
              "    }\n",
              "\n",
              "    .dataframe thead th {\n",
              "        text-align: right;\n",
              "    }\n",
              "</style>\n",
              "<table border=\"1\" class=\"dataframe\">\n",
              "  <thead>\n",
              "    <tr style=\"text-align: right;\">\n",
              "      <th></th>\n",
              "      <th>Unnamed: 0</th>\n",
              "      <th>genre</th>\n",
              "      <th>popularity</th>\n",
              "      <th>acousticness</th>\n",
              "      <th>danceability</th>\n",
              "      <th>duration_ms</th>\n",
              "      <th>energy</th>\n",
              "      <th>instrumentalness</th>\n",
              "      <th>liveness</th>\n",
              "      <th>loudness</th>\n",
              "      <th>mode</th>\n",
              "      <th>speechiness</th>\n",
              "      <th>tempo</th>\n",
              "      <th>valence</th>\n",
              "      <th>label</th>\n",
              "    </tr>\n",
              "  </thead>\n",
              "  <tbody>\n",
              "    <tr>\n",
              "      <th>10186</th>\n",
              "      <td>10186</td>\n",
              "      <td>Alternative</td>\n",
              "      <td>49</td>\n",
              "      <td>0.41300</td>\n",
              "      <td>0.612</td>\n",
              "      <td>217120</td>\n",
              "      <td>0.6590</td>\n",
              "      <td>0.402000</td>\n",
              "      <td>0.1100</td>\n",
              "      <td>-9.714</td>\n",
              "      <td>Minor</td>\n",
              "      <td>0.0476</td>\n",
              "      <td>144.904</td>\n",
              "      <td>0.2540</td>\n",
              "      <td>5</td>\n",
              "    </tr>\n",
              "    <tr>\n",
              "      <th>106805</th>\n",
              "      <td>106805</td>\n",
              "      <td>Opera</td>\n",
              "      <td>10</td>\n",
              "      <td>0.95600</td>\n",
              "      <td>0.145</td>\n",
              "      <td>416173</td>\n",
              "      <td>0.0463</td>\n",
              "      <td>0.812000</td>\n",
              "      <td>0.1030</td>\n",
              "      <td>-24.106</td>\n",
              "      <td>Minor</td>\n",
              "      <td>0.0471</td>\n",
              "      <td>97.374</td>\n",
              "      <td>0.0397</td>\n",
              "      <td>2</td>\n",
              "    </tr>\n",
              "    <tr>\n",
              "      <th>101600</th>\n",
              "      <td>101600</td>\n",
              "      <td>Children’s Music</td>\n",
              "      <td>44</td>\n",
              "      <td>0.02910</td>\n",
              "      <td>0.554</td>\n",
              "      <td>299890</td>\n",
              "      <td>0.5230</td>\n",
              "      <td>0.000029</td>\n",
              "      <td>0.1310</td>\n",
              "      <td>-7.431</td>\n",
              "      <td>Minor</td>\n",
              "      <td>0.0368</td>\n",
              "      <td>89.925</td>\n",
              "      <td>0.1040</td>\n",
              "      <td>4</td>\n",
              "    </tr>\n",
              "    <tr>\n",
              "      <th>161485</th>\n",
              "      <td>161485</td>\n",
              "      <td>Reggaeton</td>\n",
              "      <td>35</td>\n",
              "      <td>0.20100</td>\n",
              "      <td>0.811</td>\n",
              "      <td>239427</td>\n",
              "      <td>0.8070</td>\n",
              "      <td>0.007680</td>\n",
              "      <td>0.1990</td>\n",
              "      <td>-5.766</td>\n",
              "      <td>Minor</td>\n",
              "      <td>0.0436</td>\n",
              "      <td>120.009</td>\n",
              "      <td>0.8880</td>\n",
              "      <td>6</td>\n",
              "    </tr>\n",
              "    <tr>\n",
              "      <th>68357</th>\n",
              "      <td>68357</td>\n",
              "      <td>Hip-Hop</td>\n",
              "      <td>62</td>\n",
              "      <td>0.25500</td>\n",
              "      <td>0.441</td>\n",
              "      <td>434960</td>\n",
              "      <td>0.4030</td>\n",
              "      <td>0.000013</td>\n",
              "      <td>0.1300</td>\n",
              "      <td>-11.180</td>\n",
              "      <td>Minor</td>\n",
              "      <td>0.1470</td>\n",
              "      <td>139.920</td>\n",
              "      <td>0.1580</td>\n",
              "      <td>5</td>\n",
              "    </tr>\n",
              "    <tr>\n",
              "      <th>...</th>\n",
              "      <td>...</td>\n",
              "      <td>...</td>\n",
              "      <td>...</td>\n",
              "      <td>...</td>\n",
              "      <td>...</td>\n",
              "      <td>...</td>\n",
              "      <td>...</td>\n",
              "      <td>...</td>\n",
              "      <td>...</td>\n",
              "      <td>...</td>\n",
              "      <td>...</td>\n",
              "      <td>...</td>\n",
              "      <td>...</td>\n",
              "      <td>...</td>\n",
              "      <td>...</td>\n",
              "    </tr>\n",
              "    <tr>\n",
              "      <th>126324</th>\n",
              "      <td>126324</td>\n",
              "      <td>Classical</td>\n",
              "      <td>36</td>\n",
              "      <td>0.97700</td>\n",
              "      <td>0.079</td>\n",
              "      <td>312200</td>\n",
              "      <td>0.0406</td>\n",
              "      <td>0.911000</td>\n",
              "      <td>0.1090</td>\n",
              "      <td>-24.441</td>\n",
              "      <td>Minor</td>\n",
              "      <td>0.0441</td>\n",
              "      <td>174.490</td>\n",
              "      <td>0.0351</td>\n",
              "      <td>2</td>\n",
              "    </tr>\n",
              "    <tr>\n",
              "      <th>112727</th>\n",
              "      <td>112727</td>\n",
              "      <td>Pop</td>\n",
              "      <td>65</td>\n",
              "      <td>0.00448</td>\n",
              "      <td>0.447</td>\n",
              "      <td>162720</td>\n",
              "      <td>0.9670</td>\n",
              "      <td>0.000000</td>\n",
              "      <td>0.4870</td>\n",
              "      <td>-2.706</td>\n",
              "      <td>Major</td>\n",
              "      <td>0.0793</td>\n",
              "      <td>179.991</td>\n",
              "      <td>0.6060</td>\n",
              "      <td>5</td>\n",
              "    </tr>\n",
              "    <tr>\n",
              "      <th>87498</th>\n",
              "      <td>87498</td>\n",
              "      <td>Rap</td>\n",
              "      <td>77</td>\n",
              "      <td>0.51100</td>\n",
              "      <td>0.732</td>\n",
              "      <td>221933</td>\n",
              "      <td>0.7240</td>\n",
              "      <td>0.000000</td>\n",
              "      <td>0.0491</td>\n",
              "      <td>-2.104</td>\n",
              "      <td>Major</td>\n",
              "      <td>0.1010</td>\n",
              "      <td>140.130</td>\n",
              "      <td>0.8080</td>\n",
              "      <td>6</td>\n",
              "    </tr>\n",
              "    <tr>\n",
              "      <th>168266</th>\n",
              "      <td>168266</td>\n",
              "      <td>Comedy</td>\n",
              "      <td>32</td>\n",
              "      <td>0.81300</td>\n",
              "      <td>0.457</td>\n",
              "      <td>398715</td>\n",
              "      <td>0.9790</td>\n",
              "      <td>0.000000</td>\n",
              "      <td>0.7410</td>\n",
              "      <td>-6.785</td>\n",
              "      <td>Major</td>\n",
              "      <td>0.9350</td>\n",
              "      <td>91.190</td>\n",
              "      <td>0.1340</td>\n",
              "      <td>3</td>\n",
              "    </tr>\n",
              "    <tr>\n",
              "      <th>213458</th>\n",
              "      <td>213458</td>\n",
              "      <td>Country</td>\n",
              "      <td>58</td>\n",
              "      <td>0.02660</td>\n",
              "      <td>0.633</td>\n",
              "      <td>181594</td>\n",
              "      <td>0.7820</td>\n",
              "      <td>0.000000</td>\n",
              "      <td>0.1390</td>\n",
              "      <td>-4.311</td>\n",
              "      <td>Major</td>\n",
              "      <td>0.0345</td>\n",
              "      <td>127.991</td>\n",
              "      <td>0.5420</td>\n",
              "      <td>4</td>\n",
              "    </tr>\n",
              "  </tbody>\n",
              "</table>\n",
              "<p>232725 rows × 15 columns</p>\n",
              "</div>"
            ],
            "text/plain": [
              "        Unnamed: 0             genre  popularity  ...    tempo  valence  label\n",
              "10186        10186       Alternative          49  ...  144.904   0.2540      5\n",
              "106805      106805             Opera          10  ...   97.374   0.0397      2\n",
              "101600      101600  Children’s Music          44  ...   89.925   0.1040      4\n",
              "161485      161485         Reggaeton          35  ...  120.009   0.8880      6\n",
              "68357        68357           Hip-Hop          62  ...  139.920   0.1580      5\n",
              "...            ...               ...         ...  ...      ...      ...    ...\n",
              "126324      126324         Classical          36  ...  174.490   0.0351      2\n",
              "112727      112727               Pop          65  ...  179.991   0.6060      5\n",
              "87498        87498               Rap          77  ...  140.130   0.8080      6\n",
              "168266      168266            Comedy          32  ...   91.190   0.1340      3\n",
              "213458      213458           Country          58  ...  127.991   0.5420      4\n",
              "\n",
              "[232725 rows x 15 columns]"
            ]
          },
          "metadata": {
            "tags": []
          },
          "execution_count": 46
        }
      ]
    },
    {
      "cell_type": "code",
      "metadata": {
        "id": "ey8p7YfpSgdt",
        "colab_type": "code",
        "colab": {}
      },
      "source": [
        "songs"
      ],
      "execution_count": 23,
      "outputs": []
    },
    {
      "cell_type": "code",
      "metadata": {
        "id": "KlXOl9Vf7g0Q",
        "colab_type": "code",
        "colab": {
          "base_uri": "https://localhost:8080/",
          "height": 153
        },
        "outputId": "cfdbd2c9-96a0-4e1d-a42d-addaf567ccaf"
      },
      "source": [
        "songs['label'] = y_kmeans\n",
        "\n",
        "songs = songs.sample(frac=1)\n",
        "songs['label'].value_counts()"
      ],
      "execution_count": 47,
      "outputs": [
        {
          "output_type": "execute_result",
          "data": {
            "text/plain": [
              "5    60104\n",
              "6    46581\n",
              "1    41384\n",
              "4    37024\n",
              "2    23402\n",
              "0    14298\n",
              "3     9932\n",
              "Name: label, dtype: int64"
            ]
          },
          "metadata": {
            "tags": []
          },
          "execution_count": 47
        }
      ]
    },
    {
      "cell_type": "code",
      "metadata": {
        "id": "Qv4IYvc582e0",
        "colab_type": "code",
        "colab": {
          "base_uri": "https://localhost:8080/",
          "height": 51
        },
        "outputId": "e523e789-5773-4180-9156-d4cb12c04698"
      },
      "source": [
        "model.evaluate(X_test, y_test_binary)"
      ],
      "execution_count": 48,
      "outputs": [
        {
          "output_type": "stream",
          "text": [
            "1455/1455 [==============================] - 2s 1ms/step - loss: 0.0510 - accuracy: 0.9777\n"
          ],
          "name": "stdout"
        },
        {
          "output_type": "execute_result",
          "data": {
            "text/plain": [
              "[0.05100386589765549, 0.9776560068130493]"
            ]
          },
          "metadata": {
            "tags": []
          },
          "execution_count": 48
        }
      ]
    },
    {
      "cell_type": "code",
      "metadata": {
        "id": "YqZGYk0e9E1e",
        "colab_type": "code",
        "colab": {}
      },
      "source": [
        "# Predicting from API\n",
        "# credentials\n",
        "\n",
        "client_credentials_manager = SpotifyClientCredentials(client_id = '18bf732ea7ab485e91a45dfe7b75d5ec', client_secret = '61d0f5271ab34e7aa519f1bebd81d3c9')\n",
        "sp = spotipy.Spotify(client_credentials_manager=client_credentials_manager)"
      ],
      "execution_count": 49,
      "outputs": []
    },
    {
      "cell_type": "code",
      "metadata": {
        "id": "7HNvwqZW9I3X",
        "colab_type": "code",
        "colab": {
          "base_uri": "https://localhost:8080/",
          "height": 68
        },
        "outputId": "7e4997f3-fe9a-4a3b-bceb-be46f7a369cd"
      },
      "source": [
        "# pulling a track from a playlist\n",
        "\n",
        "playlist = sp.playlist('open.spotify.com/playlist/2YRe7HRKNRvXdJBp9nXFza')\n",
        "\n",
        "track_info = dict(song=playlist['tracks']['items'][12]['track']['name'], \n",
        "                  artist=playlist['tracks']['items'][12]['track']['album']['artists'][0]['name'],\n",
        "                  uri=playlist['tracks']['items'][12]['track']['uri'])\n",
        "\n",
        "track_info"
      ],
      "execution_count": 50,
      "outputs": [
        {
          "output_type": "execute_result",
          "data": {
            "text/plain": [
              "{'artist': 'Billie Eilish',\n",
              " 'song': 'bad guy',\n",
              " 'uri': 'spotify:track:2Fxmhks0bxGSBdJ92vM42m'}"
            ]
          },
          "metadata": {
            "tags": []
          },
          "execution_count": 50
        }
      ]
    },
    {
      "cell_type": "code",
      "metadata": {
        "id": "if9ePvFU6XdG",
        "colab_type": "code",
        "colab": {
          "base_uri": "https://localhost:8080/",
          "height": 324
        },
        "outputId": "054735b5-20e5-48c8-f868-b410502ed8ed"
      },
      "source": [
        "test_track_uri = sp.track('spotify:track:6v3KW9xbzN5yKLt9YKDYA2')\n",
        "test_track_features = sp.audio_features('spotify:track:6v3KW9xbzN5yKLt9YKDYA2')\n",
        "test_track_features"
      ],
      "execution_count": 51,
      "outputs": [
        {
          "output_type": "execute_result",
          "data": {
            "text/plain": [
              "[{'acousticness': 0.0392,\n",
              "  'analysis_url': 'https://api.spotify.com/v1/audio-analysis/6v3KW9xbzN5yKLt9YKDYA2',\n",
              "  'danceability': 0.759,\n",
              "  'duration_ms': 190800,\n",
              "  'energy': 0.548,\n",
              "  'id': '6v3KW9xbzN5yKLt9YKDYA2',\n",
              "  'instrumentalness': 0,\n",
              "  'key': 9,\n",
              "  'liveness': 0.0828,\n",
              "  'loudness': -6.049,\n",
              "  'mode': 0,\n",
              "  'speechiness': 0.029,\n",
              "  'tempo': 116.967,\n",
              "  'time_signature': 4,\n",
              "  'track_href': 'https://api.spotify.com/v1/tracks/6v3KW9xbzN5yKLt9YKDYA2',\n",
              "  'type': 'audio_features',\n",
              "  'uri': 'spotify:track:6v3KW9xbzN5yKLt9YKDYA2',\n",
              "  'valence': 0.749}]"
            ]
          },
          "metadata": {
            "tags": []
          },
          "execution_count": 51
        }
      ]
    },
    {
      "cell_type": "code",
      "metadata": {
        "id": "ianeqbty9Ksc",
        "colab_type": "code",
        "colab": {
          "base_uri": "https://localhost:8080/",
          "height": 324
        },
        "outputId": "f4c52c46-df4a-445c-fe54-8e7d1c567bd8"
      },
      "source": [
        "# pulling audio features for selected track\n",
        "\n",
        "track_features = sp.audio_features(track_info['uri'])\n",
        "\n",
        "track_features"
      ],
      "execution_count": 52,
      "outputs": [
        {
          "output_type": "execute_result",
          "data": {
            "text/plain": [
              "[{'acousticness': 0.328,\n",
              "  'analysis_url': 'https://api.spotify.com/v1/audio-analysis/2Fxmhks0bxGSBdJ92vM42m',\n",
              "  'danceability': 0.701,\n",
              "  'duration_ms': 194088,\n",
              "  'energy': 0.425,\n",
              "  'id': '2Fxmhks0bxGSBdJ92vM42m',\n",
              "  'instrumentalness': 0.13,\n",
              "  'key': 7,\n",
              "  'liveness': 0.1,\n",
              "  'loudness': -10.965,\n",
              "  'mode': 1,\n",
              "  'speechiness': 0.375,\n",
              "  'tempo': 135.128,\n",
              "  'time_signature': 4,\n",
              "  'track_href': 'https://api.spotify.com/v1/tracks/2Fxmhks0bxGSBdJ92vM42m',\n",
              "  'type': 'audio_features',\n",
              "  'uri': 'spotify:track:2Fxmhks0bxGSBdJ92vM42m',\n",
              "  'valence': 0.562}]"
            ]
          },
          "metadata": {
            "tags": []
          },
          "execution_count": 52
        }
      ]
    },
    {
      "cell_type": "code",
      "metadata": {
        "id": "-flcWsMv9ODe",
        "colab_type": "code",
        "colab": {
          "base_uri": "https://localhost:8080/",
          "height": 350
        },
        "outputId": "e6865ba9-0501-4f57-ff94-0e038100b0e8"
      },
      "source": [
        "# trimming to only relevant features, need to drop unnamed\n",
        "\n",
        "track = [track_features[0][i] for i in features]\n",
        "\n",
        "track"
      ],
      "execution_count": 53,
      "outputs": [
        {
          "output_type": "error",
          "ename": "KeyError",
          "evalue": "ignored",
          "traceback": [
            "\u001b[0;31m---------------------------------------------------------------------------\u001b[0m",
            "\u001b[0;31mKeyError\u001b[0m                                  Traceback (most recent call last)",
            "\u001b[0;32m<ipython-input-53-1995ad57f85d>\u001b[0m in \u001b[0;36m<module>\u001b[0;34m()\u001b[0m\n\u001b[1;32m      1\u001b[0m \u001b[0;31m# trimming to only relevant features\u001b[0m\u001b[0;34m\u001b[0m\u001b[0;34m\u001b[0m\u001b[0;34m\u001b[0m\u001b[0m\n\u001b[1;32m      2\u001b[0m \u001b[0;34m\u001b[0m\u001b[0m\n\u001b[0;32m----> 3\u001b[0;31m \u001b[0mtrack\u001b[0m \u001b[0;34m=\u001b[0m \u001b[0;34m[\u001b[0m\u001b[0mtrack_features\u001b[0m\u001b[0;34m[\u001b[0m\u001b[0;36m0\u001b[0m\u001b[0;34m]\u001b[0m\u001b[0;34m[\u001b[0m\u001b[0mi\u001b[0m\u001b[0;34m]\u001b[0m \u001b[0;32mfor\u001b[0m \u001b[0mi\u001b[0m \u001b[0;32min\u001b[0m \u001b[0mfeatures\u001b[0m\u001b[0;34m]\u001b[0m\u001b[0;34m\u001b[0m\u001b[0;34m\u001b[0m\u001b[0m\n\u001b[0m\u001b[1;32m      4\u001b[0m \u001b[0;34m\u001b[0m\u001b[0m\n\u001b[1;32m      5\u001b[0m \u001b[0mtrack\u001b[0m\u001b[0;34m\u001b[0m\u001b[0;34m\u001b[0m\u001b[0m\n",
            "\u001b[0;32m<ipython-input-53-1995ad57f85d>\u001b[0m in \u001b[0;36m<listcomp>\u001b[0;34m(.0)\u001b[0m\n\u001b[1;32m      1\u001b[0m \u001b[0;31m# trimming to only relevant features\u001b[0m\u001b[0;34m\u001b[0m\u001b[0;34m\u001b[0m\u001b[0;34m\u001b[0m\u001b[0m\n\u001b[1;32m      2\u001b[0m \u001b[0;34m\u001b[0m\u001b[0m\n\u001b[0;32m----> 3\u001b[0;31m \u001b[0mtrack\u001b[0m \u001b[0;34m=\u001b[0m \u001b[0;34m[\u001b[0m\u001b[0mtrack_features\u001b[0m\u001b[0;34m[\u001b[0m\u001b[0;36m0\u001b[0m\u001b[0;34m]\u001b[0m\u001b[0;34m[\u001b[0m\u001b[0mi\u001b[0m\u001b[0;34m]\u001b[0m \u001b[0;32mfor\u001b[0m \u001b[0mi\u001b[0m \u001b[0;32min\u001b[0m \u001b[0mfeatures\u001b[0m\u001b[0;34m]\u001b[0m\u001b[0;34m\u001b[0m\u001b[0;34m\u001b[0m\u001b[0m\n\u001b[0m\u001b[1;32m      4\u001b[0m \u001b[0;34m\u001b[0m\u001b[0m\n\u001b[1;32m      5\u001b[0m \u001b[0mtrack\u001b[0m\u001b[0;34m\u001b[0m\u001b[0;34m\u001b[0m\u001b[0m\n",
            "\u001b[0;31mKeyError\u001b[0m: 'Unnamed: 0'"
          ]
        }
      ]
    },
    {
      "cell_type": "code",
      "metadata": {
        "id": "x05JM_vysjww",
        "colab_type": "code",
        "colab": {
          "base_uri": "https://localhost:8080/",
          "height": 34
        },
        "outputId": "85fd6d9e-3250-4433-95b6-4b398d316461"
      },
      "source": [
        ""
      ],
      "execution_count": null,
      "outputs": [
        {
          "output_type": "execute_result",
          "data": {
            "text/plain": [
              "[0.759, 0.548, -6.049, 0.029, 0.0392, 0, 0.0828, 0.749, 116.967, 4]"
            ]
          },
          "metadata": {
            "tags": []
          },
          "execution_count": 13
        }
      ]
    },
    {
      "cell_type": "code",
      "metadata": {
        "id": "DKxAMP-TsMrL",
        "colab_type": "code",
        "colab": {}
      },
      "source": [
        ""
      ],
      "execution_count": null,
      "outputs": []
    }
  ]
}