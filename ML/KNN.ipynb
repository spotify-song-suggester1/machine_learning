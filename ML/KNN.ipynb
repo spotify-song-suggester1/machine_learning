{
 "metadata": {
  "language_info": {
   "codemirror_mode": {
    "name": "ipython",
    "version": 3
   },
   "file_extension": ".py",
   "mimetype": "text/x-python",
   "name": "python",
   "nbconvert_exporter": "python",
   "pygments_lexer": "ipython3",
   "version": "3.8.3-final"
  },
  "orig_nbformat": 2,
  "kernelspec": {
   "name": "python_defaultSpec_1595922725065",
   "display_name": "Python 3.8.3 64-bit ('U4-build': conda)"
  }
 },
 "nbformat": 4,
 "nbformat_minor": 2,
 "cells": [
  {
   "cell_type": "markdown",
   "metadata": {},
   "source": [
    "## Imports and Initial Settings ##"
   ]
  },
  {
   "cell_type": "code",
   "execution_count": 1,
   "metadata": {},
   "outputs": [],
   "source": [
    "# standard python imports\n",
    "\n",
    "import numpy as np \n",
    "import pandas as pd \n"
   ]
  },
  {
   "cell_type": "code",
   "execution_count": 2,
   "metadata": {
    "tags": []
   },
   "outputs": [],
   "source": [
    "# imports for plotting and visualizations\n",
    "\n",
    "import seaborn as sns\n",
    "sns.set_style('whitegrid') # set global seaborn style for readability\n",
    "\n",
    "from matplotlib import pyplot as plt \n",
    "%matplotlib inline \n",
    "# set matplotlib backend"
   ]
  },
  {
   "cell_type": "code",
   "execution_count": 3,
   "metadata": {},
   "outputs": [],
   "source": [
    "# imports for predictions and models\n",
    "from sklearn.linear_model import LogisticRegression\n",
    "from sklearn.ensemble import RandomForestClassifier\n",
    "from sklearn.neighbors import NearestNeighbors\n",
    "from sklearn.tree import DecisionTreeClassifier\n",
    "from sklearn.svm import SVC, LinearSVC\n",
    "from xgboost import XGBClassifier\n",
    "from sklearn.feature_selection import SelectKBest\n",
    "from sklearn.neighbors import KNeighborsClassifier as knn\n",
    "\n",
    "from sklearn.metrics import make_scorer, accuracy_score, roc_auc_score\n",
    "from sklearn.model_selection import GridSearchCV\n",
    "from sklearn.model_selection import train_test_split"
   ]
  },
  {
   "cell_type": "code",
   "execution_count": 3,
   "metadata": {},
   "outputs": [],
   "source": [
    "import warnings\n",
    "warnings.simplefilter('ignore')"
   ]
  },
  {
   "cell_type": "markdown",
   "metadata": {},
   "source": [
    "## Load and View Dataset ##"
   ]
  },
  {
   "cell_type": "code",
   "execution_count": 4,
   "metadata": {},
   "outputs": [
    {
     "output_type": "execute_result",
     "data": {
      "text/plain": "   Unnamed: 0  genre        artist_name                        track_name  \\\n0           0  Movie     Henri Salvador       C'est beau de faire un Show   \n1           1  Movie  Martin & les fées  Perdu d'avance (par Gad Elmaleh)   \n2           2  Movie    Joseph Williams    Don't Let Me Be Lonely Tonight   \n3           3  Movie     Henri Salvador    Dis-moi Monsieur Gordon Cooper   \n4           4  Movie       Fabien Nataf                         Ouverture   \n\n                 track_id  popularity  acousticness  danceability  \\\n0  0BRjO6ga9RKCKjfDqeFgWV           0         0.611         0.389   \n1  0BjC1NfoEOOusryehmNudP           1         0.246         0.590   \n2  0CoSDzoNIKCRs124s9uTVy           3         0.952         0.663   \n3  0Gc6TVm52BwZD07Ki6tIvf           0         0.703         0.240   \n4  0IuslXpMROHdEPvSl1fTQK           4         0.950         0.331   \n\n   duration_ms  energy  instrumentalness key  liveness  loudness   mode  \\\n0        99373   0.910             0.000  C#    0.3460    -1.828  Major   \n1       137373   0.737             0.000  F#    0.1510    -5.559  Minor   \n2       170267   0.131             0.000   C    0.1030   -13.879  Minor   \n3       152427   0.326             0.000  C#    0.0985   -12.178  Major   \n4        82625   0.225             0.123   F    0.2020   -21.150  Major   \n\n   speechiness    tempo time_signature  valence  \n0       0.0525  166.969            4/4    0.814  \n1       0.0868  174.003            4/4    0.816  \n2       0.0362   99.488            5/4    0.368  \n3       0.0395  171.758            4/4    0.227  \n4       0.0456  140.576            4/4    0.390  ",
      "text/html": "<div>\n<style scoped>\n    .dataframe tbody tr th:only-of-type {\n        vertical-align: middle;\n    }\n\n    .dataframe tbody tr th {\n        vertical-align: top;\n    }\n\n    .dataframe thead th {\n        text-align: right;\n    }\n</style>\n<table border=\"1\" class=\"dataframe\">\n  <thead>\n    <tr style=\"text-align: right;\">\n      <th></th>\n      <th>Unnamed: 0</th>\n      <th>genre</th>\n      <th>artist_name</th>\n      <th>track_name</th>\n      <th>track_id</th>\n      <th>popularity</th>\n      <th>acousticness</th>\n      <th>danceability</th>\n      <th>duration_ms</th>\n      <th>energy</th>\n      <th>instrumentalness</th>\n      <th>key</th>\n      <th>liveness</th>\n      <th>loudness</th>\n      <th>mode</th>\n      <th>speechiness</th>\n      <th>tempo</th>\n      <th>time_signature</th>\n      <th>valence</th>\n    </tr>\n  </thead>\n  <tbody>\n    <tr>\n      <th>0</th>\n      <td>0</td>\n      <td>Movie</td>\n      <td>Henri Salvador</td>\n      <td>C'est beau de faire un Show</td>\n      <td>0BRjO6ga9RKCKjfDqeFgWV</td>\n      <td>0</td>\n      <td>0.611</td>\n      <td>0.389</td>\n      <td>99373</td>\n      <td>0.910</td>\n      <td>0.000</td>\n      <td>C#</td>\n      <td>0.3460</td>\n      <td>-1.828</td>\n      <td>Major</td>\n      <td>0.0525</td>\n      <td>166.969</td>\n      <td>4/4</td>\n      <td>0.814</td>\n    </tr>\n    <tr>\n      <th>1</th>\n      <td>1</td>\n      <td>Movie</td>\n      <td>Martin &amp; les fées</td>\n      <td>Perdu d'avance (par Gad Elmaleh)</td>\n      <td>0BjC1NfoEOOusryehmNudP</td>\n      <td>1</td>\n      <td>0.246</td>\n      <td>0.590</td>\n      <td>137373</td>\n      <td>0.737</td>\n      <td>0.000</td>\n      <td>F#</td>\n      <td>0.1510</td>\n      <td>-5.559</td>\n      <td>Minor</td>\n      <td>0.0868</td>\n      <td>174.003</td>\n      <td>4/4</td>\n      <td>0.816</td>\n    </tr>\n    <tr>\n      <th>2</th>\n      <td>2</td>\n      <td>Movie</td>\n      <td>Joseph Williams</td>\n      <td>Don't Let Me Be Lonely Tonight</td>\n      <td>0CoSDzoNIKCRs124s9uTVy</td>\n      <td>3</td>\n      <td>0.952</td>\n      <td>0.663</td>\n      <td>170267</td>\n      <td>0.131</td>\n      <td>0.000</td>\n      <td>C</td>\n      <td>0.1030</td>\n      <td>-13.879</td>\n      <td>Minor</td>\n      <td>0.0362</td>\n      <td>99.488</td>\n      <td>5/4</td>\n      <td>0.368</td>\n    </tr>\n    <tr>\n      <th>3</th>\n      <td>3</td>\n      <td>Movie</td>\n      <td>Henri Salvador</td>\n      <td>Dis-moi Monsieur Gordon Cooper</td>\n      <td>0Gc6TVm52BwZD07Ki6tIvf</td>\n      <td>0</td>\n      <td>0.703</td>\n      <td>0.240</td>\n      <td>152427</td>\n      <td>0.326</td>\n      <td>0.000</td>\n      <td>C#</td>\n      <td>0.0985</td>\n      <td>-12.178</td>\n      <td>Major</td>\n      <td>0.0395</td>\n      <td>171.758</td>\n      <td>4/4</td>\n      <td>0.227</td>\n    </tr>\n    <tr>\n      <th>4</th>\n      <td>4</td>\n      <td>Movie</td>\n      <td>Fabien Nataf</td>\n      <td>Ouverture</td>\n      <td>0IuslXpMROHdEPvSl1fTQK</td>\n      <td>4</td>\n      <td>0.950</td>\n      <td>0.331</td>\n      <td>82625</td>\n      <td>0.225</td>\n      <td>0.123</td>\n      <td>F</td>\n      <td>0.2020</td>\n      <td>-21.150</td>\n      <td>Major</td>\n      <td>0.0456</td>\n      <td>140.576</td>\n      <td>4/4</td>\n      <td>0.390</td>\n    </tr>\n  </tbody>\n</table>\n</div>"
     },
     "metadata": {},
     "execution_count": 4
    }
   ],
   "source": [
    "# Dataframe path\n",
    "PATH = '../data/SpotifyFeatures.csv'\n",
    "\n",
    "# load from PATH\n",
    "df = pd.read_csv(PATH)\n",
    "df.head()"
   ]
  },
  {
   "cell_type": "code",
   "execution_count": 6,
   "metadata": {},
   "outputs": [
    {
     "output_type": "execute_result",
     "data": {
      "text/plain": "          Unnamed: 0     popularity   acousticness   danceability  \\\ncount  232725.000000  232725.000000  232725.000000  232725.000000   \nmean   116362.000000      41.127502       0.368560       0.554364   \nstd     67182.065036      18.189948       0.354768       0.185608   \nmin         0.000000       0.000000       0.000000       0.056900   \n25%     58181.000000      29.000000       0.037600       0.435000   \n50%    116362.000000      43.000000       0.232000       0.571000   \n75%    174543.000000      55.000000       0.722000       0.692000   \nmax    232724.000000     100.000000       0.996000       0.989000   \n\n        duration_ms         energy  instrumentalness       liveness  \\\ncount  2.327250e+05  232725.000000     232725.000000  232725.000000   \nmean   2.351223e+05       0.570958          0.148301       0.215009   \nstd    1.189359e+05       0.263456          0.302768       0.198273   \nmin    1.538700e+04       0.000020          0.000000       0.009670   \n25%    1.828570e+05       0.385000          0.000000       0.097400   \n50%    2.204270e+05       0.605000          0.000044       0.128000   \n75%    2.657680e+05       0.787000          0.035800       0.264000   \nmax    5.552917e+06       0.999000          0.999000       1.000000   \n\n            loudness    speechiness          tempo        valence  \ncount  232725.000000  232725.000000  232725.000000  232725.000000  \nmean       -9.569885       0.120765     117.666585       0.454917  \nstd         5.998204       0.185518      30.898907       0.260065  \nmin       -52.457000       0.022200      30.379000       0.000000  \n25%       -11.771000       0.036700      92.959000       0.237000  \n50%        -7.762000       0.050100     115.778000       0.444000  \n75%        -5.501000       0.105000     139.054000       0.660000  \nmax         3.744000       0.967000     242.903000       1.000000  ",
      "text/html": "<div>\n<style scoped>\n    .dataframe tbody tr th:only-of-type {\n        vertical-align: middle;\n    }\n\n    .dataframe tbody tr th {\n        vertical-align: top;\n    }\n\n    .dataframe thead th {\n        text-align: right;\n    }\n</style>\n<table border=\"1\" class=\"dataframe\">\n  <thead>\n    <tr style=\"text-align: right;\">\n      <th></th>\n      <th>Unnamed: 0</th>\n      <th>popularity</th>\n      <th>acousticness</th>\n      <th>danceability</th>\n      <th>duration_ms</th>\n      <th>energy</th>\n      <th>instrumentalness</th>\n      <th>liveness</th>\n      <th>loudness</th>\n      <th>speechiness</th>\n      <th>tempo</th>\n      <th>valence</th>\n    </tr>\n  </thead>\n  <tbody>\n    <tr>\n      <th>count</th>\n      <td>232725.000000</td>\n      <td>232725.000000</td>\n      <td>232725.000000</td>\n      <td>232725.000000</td>\n      <td>2.327250e+05</td>\n      <td>232725.000000</td>\n      <td>232725.000000</td>\n      <td>232725.000000</td>\n      <td>232725.000000</td>\n      <td>232725.000000</td>\n      <td>232725.000000</td>\n      <td>232725.000000</td>\n    </tr>\n    <tr>\n      <th>mean</th>\n      <td>116362.000000</td>\n      <td>41.127502</td>\n      <td>0.368560</td>\n      <td>0.554364</td>\n      <td>2.351223e+05</td>\n      <td>0.570958</td>\n      <td>0.148301</td>\n      <td>0.215009</td>\n      <td>-9.569885</td>\n      <td>0.120765</td>\n      <td>117.666585</td>\n      <td>0.454917</td>\n    </tr>\n    <tr>\n      <th>std</th>\n      <td>67182.065036</td>\n      <td>18.189948</td>\n      <td>0.354768</td>\n      <td>0.185608</td>\n      <td>1.189359e+05</td>\n      <td>0.263456</td>\n      <td>0.302768</td>\n      <td>0.198273</td>\n      <td>5.998204</td>\n      <td>0.185518</td>\n      <td>30.898907</td>\n      <td>0.260065</td>\n    </tr>\n    <tr>\n      <th>min</th>\n      <td>0.000000</td>\n      <td>0.000000</td>\n      <td>0.000000</td>\n      <td>0.056900</td>\n      <td>1.538700e+04</td>\n      <td>0.000020</td>\n      <td>0.000000</td>\n      <td>0.009670</td>\n      <td>-52.457000</td>\n      <td>0.022200</td>\n      <td>30.379000</td>\n      <td>0.000000</td>\n    </tr>\n    <tr>\n      <th>25%</th>\n      <td>58181.000000</td>\n      <td>29.000000</td>\n      <td>0.037600</td>\n      <td>0.435000</td>\n      <td>1.828570e+05</td>\n      <td>0.385000</td>\n      <td>0.000000</td>\n      <td>0.097400</td>\n      <td>-11.771000</td>\n      <td>0.036700</td>\n      <td>92.959000</td>\n      <td>0.237000</td>\n    </tr>\n    <tr>\n      <th>50%</th>\n      <td>116362.000000</td>\n      <td>43.000000</td>\n      <td>0.232000</td>\n      <td>0.571000</td>\n      <td>2.204270e+05</td>\n      <td>0.605000</td>\n      <td>0.000044</td>\n      <td>0.128000</td>\n      <td>-7.762000</td>\n      <td>0.050100</td>\n      <td>115.778000</td>\n      <td>0.444000</td>\n    </tr>\n    <tr>\n      <th>75%</th>\n      <td>174543.000000</td>\n      <td>55.000000</td>\n      <td>0.722000</td>\n      <td>0.692000</td>\n      <td>2.657680e+05</td>\n      <td>0.787000</td>\n      <td>0.035800</td>\n      <td>0.264000</td>\n      <td>-5.501000</td>\n      <td>0.105000</td>\n      <td>139.054000</td>\n      <td>0.660000</td>\n    </tr>\n    <tr>\n      <th>max</th>\n      <td>232724.000000</td>\n      <td>100.000000</td>\n      <td>0.996000</td>\n      <td>0.989000</td>\n      <td>5.552917e+06</td>\n      <td>0.999000</td>\n      <td>0.999000</td>\n      <td>1.000000</td>\n      <td>3.744000</td>\n      <td>0.967000</td>\n      <td>242.903000</td>\n      <td>1.000000</td>\n    </tr>\n  </tbody>\n</table>\n</div>"
     },
     "metadata": {},
     "execution_count": 6
    }
   ],
   "source": [
    "# let's get a better look\n",
    "\n",
    "df.describe()"
   ]
  },
  {
   "cell_type": "code",
   "execution_count": 5,
   "metadata": {
    "tags": []
   },
   "outputs": [
    {
     "output_type": "stream",
     "name": "stdout",
     "text": "Index(['Unnamed: 0', 'genre', 'artist_name', 'track_name', 'track_id',\n       'popularity', 'acousticness', 'danceability', 'duration_ms', 'energy',\n       'instrumentalness', 'key', 'liveness', 'loudness', 'mode',\n       'speechiness', 'tempo', 'time_signature', 'valence'],\n      dtype='object')\n"
    }
   ],
   "source": [
    "# df keys\n",
    "\n",
    "print(df.keys())"
   ]
  },
  {
   "cell_type": "code",
   "execution_count": 8,
   "metadata": {},
   "outputs": [],
   "source": [
    "# getting rid of that dumb \"Unnamed: 0\" column\n",
    "\n",
    "# df = df.drop(\"Unnamed: 0\", axis=1)"
   ]
  },
  {
   "cell_type": "code",
   "execution_count": 9,
   "metadata": {
    "tags": []
   },
   "outputs": [
    {
     "output_type": "stream",
     "name": "stdout",
     "text": "Index(['Unnamed: 0', 'genre', 'artist_name', 'track_name', 'track_id',\n       'popularity', 'acousticness', 'danceability', 'duration_ms', 'energy',\n       'instrumentalness', 'key', 'liveness', 'loudness', 'mode',\n       'speechiness', 'tempo', 'time_signature', 'valence'],\n      dtype='object')\n"
    }
   ],
   "source": [
    "# keys\n",
    "\n",
    "print(df.keys())"
   ]
  },
  {
   "cell_type": "code",
   "execution_count": 10,
   "metadata": {},
   "outputs": [
    {
     "output_type": "execute_result",
     "data": {
      "text/plain": "Unnamed: 0          0\ngenre               0\nartist_name         0\ntrack_name          0\ntrack_id            0\npopularity          0\nacousticness        0\ndanceability        0\nduration_ms         0\nenergy              0\ninstrumentalness    0\nkey                 0\nliveness            0\nloudness            0\nmode                0\nspeechiness         0\ntempo               0\ntime_signature      0\nvalence             0\ndtype: int64"
     },
     "metadata": {},
     "execution_count": 10
    }
   ],
   "source": [
    "# finger's crossed for no NaN values\n",
    "\n",
    "pd.isnull(df).sum()"
   ]
  },
  {
   "cell_type": "code",
   "execution_count": 11,
   "metadata": {},
   "outputs": [],
   "source": [
    "# gonna split train/test here, instead of down below:\n",
    "\n",
    "train, test = train_test_split(df, test_size=0.2, random_state=42)"
   ]
  },
  {
   "cell_type": "code",
   "execution_count": 12,
   "metadata": {
    "tags": []
   },
   "outputs": [
    {
     "output_type": "stream",
     "name": "stdout",
     "text": "(186180, 19)\n(46545, 19)\n"
    }
   ],
   "source": [
    "print(train.shape)\n",
    "print(test.shape)"
   ]
  },
  {
   "cell_type": "markdown",
   "metadata": {},
   "source": [
    "## Exploratory Plotting ##"
   ]
  },
  {
   "cell_type": "markdown",
   "metadata": {},
   "source": [
    "## Feature Engineering ##"
   ]
  },
  {
   "cell_type": "code",
   "execution_count": 13,
   "metadata": {},
   "outputs": [],
   "source": [
    "# select features to ignore/keep\n",
    "\n",
    "# Index(['genre', 'artist_name', 'track_name', 'track_id', 'popularity',\n",
    "#        'acousticness', 'danceability', 'duration_ms', 'energy',\n",
    "#        'instrumentalness', 'key', 'liveness', 'loudness', 'mode',\n",
    "#        'speechiness', 'tempo', 'time_signature', 'valence'],\n",
    "#       dtype='object')\n",
    "\n",
    "ignore = ([\n",
    "    'genre', 'popularity', 'duration_ms', \n",
    "    'key', 'liveness', 'mode', 'tempo', 'time_signature', \n",
    "    'energy', 'acousticness'\n",
    "])\n",
    "\n",
    "features = ([\n",
    "    'danceability', 'instrumentalness', \n",
    "    'loudness', 'speechiness', 'valence',\n",
    "    'energy', 'acousticness'\n",
    "])\n",
    "\n",
    "# took out: 'energy', 'acousticness'\n",
    "\n",
    "clean_train = train.drop(ignore, axis=1)\n",
    "clean_test = test.drop(ignore, axis=1)"
   ]
  },
  {
   "cell_type": "code",
   "execution_count": 6,
   "metadata": {},
   "outputs": [
    {
     "output_type": "execute_result",
     "data": {
      "text/plain": "0         False\n1         False\n2         False\n3         False\n4         False\n          ...  \n232720    False\n232721    False\n232722    False\n232723    False\n232724    False\nLength: 232725, dtype: bool"
     },
     "metadata": {},
     "execution_count": 6
    }
   ],
   "source": [
    "df.duplicated(subset=None, keep='first')"
   ]
  },
  {
   "cell_type": "code",
   "execution_count": 15,
   "metadata": {},
   "outputs": [
    {
     "output_type": "execute_result",
     "data": {
      "text/plain": "        Unnamed: 0        artist_name                             track_name  \\\n788            788  A Thousand Horses                       My Time's Comin'   \n207109      207109  Mark Mothersbaugh                             House Tour   \n138644      138644    Unified Highway  We Can't Fall (Remix) [feat. J. Patz]   \n37164        37164       Stooki Sound                    Endz - Original Mix   \n174351      174351         Bill Hicks                   I Love My Job (Live)   \n\n                      track_id  danceability  instrumentalness  loudness  \\\n788     16zol4GvHyTER5irYODUk0         0.327          0.000150    -4.952   \n207109  6ac5gUfGTckpdGQCyWsdh2         0.253          0.568000   -18.512   \n138644  09Yz6koF1Y15n1012t1UX6         0.821          0.013400    -6.295   \n37164   3dzEZARDL4ZwICMKVta7Xn         0.745          0.114000    -3.949   \n174351  39Z1G5384UgGa5vmW6WyxC         0.502          0.000096    -9.935   \n\n        speechiness  valence  \n788          0.0609   0.3850  \n207109       0.0439   0.0487  \n138644       0.2120   0.7870  \n37164        0.0904   0.1700  \n174351       0.8070   0.1850  ",
      "text/html": "<div>\n<style scoped>\n    .dataframe tbody tr th:only-of-type {\n        vertical-align: middle;\n    }\n\n    .dataframe tbody tr th {\n        vertical-align: top;\n    }\n\n    .dataframe thead th {\n        text-align: right;\n    }\n</style>\n<table border=\"1\" class=\"dataframe\">\n  <thead>\n    <tr style=\"text-align: right;\">\n      <th></th>\n      <th>Unnamed: 0</th>\n      <th>artist_name</th>\n      <th>track_name</th>\n      <th>track_id</th>\n      <th>danceability</th>\n      <th>instrumentalness</th>\n      <th>loudness</th>\n      <th>speechiness</th>\n      <th>valence</th>\n    </tr>\n  </thead>\n  <tbody>\n    <tr>\n      <th>788</th>\n      <td>788</td>\n      <td>A Thousand Horses</td>\n      <td>My Time's Comin'</td>\n      <td>16zol4GvHyTER5irYODUk0</td>\n      <td>0.327</td>\n      <td>0.000150</td>\n      <td>-4.952</td>\n      <td>0.0609</td>\n      <td>0.3850</td>\n    </tr>\n    <tr>\n      <th>207109</th>\n      <td>207109</td>\n      <td>Mark Mothersbaugh</td>\n      <td>House Tour</td>\n      <td>6ac5gUfGTckpdGQCyWsdh2</td>\n      <td>0.253</td>\n      <td>0.568000</td>\n      <td>-18.512</td>\n      <td>0.0439</td>\n      <td>0.0487</td>\n    </tr>\n    <tr>\n      <th>138644</th>\n      <td>138644</td>\n      <td>Unified Highway</td>\n      <td>We Can't Fall (Remix) [feat. J. Patz]</td>\n      <td>09Yz6koF1Y15n1012t1UX6</td>\n      <td>0.821</td>\n      <td>0.013400</td>\n      <td>-6.295</td>\n      <td>0.2120</td>\n      <td>0.7870</td>\n    </tr>\n    <tr>\n      <th>37164</th>\n      <td>37164</td>\n      <td>Stooki Sound</td>\n      <td>Endz - Original Mix</td>\n      <td>3dzEZARDL4ZwICMKVta7Xn</td>\n      <td>0.745</td>\n      <td>0.114000</td>\n      <td>-3.949</td>\n      <td>0.0904</td>\n      <td>0.1700</td>\n    </tr>\n    <tr>\n      <th>174351</th>\n      <td>174351</td>\n      <td>Bill Hicks</td>\n      <td>I Love My Job (Live)</td>\n      <td>39Z1G5384UgGa5vmW6WyxC</td>\n      <td>0.502</td>\n      <td>0.000096</td>\n      <td>-9.935</td>\n      <td>0.8070</td>\n      <td>0.1850</td>\n    </tr>\n  </tbody>\n</table>\n</div>"
     },
     "metadata": {},
     "execution_count": 15
    }
   ],
   "source": [
    "clean_test.head()"
   ]
  },
  {
   "cell_type": "markdown",
   "metadata": {},
   "source": [
    "## Model Exploration ##"
   ]
  },
  {
   "cell_type": "code",
   "execution_count": 27,
   "metadata": {},
   "outputs": [],
   "source": [
    "df = df.drop(columns=['key', 'mode', 'time_signature'])"
   ]
  },
  {
   "cell_type": "code",
   "execution_count": 28,
   "metadata": {},
   "outputs": [],
   "source": [
    "def predicto(track_id):\n",
    "\n",
    "    # Instantiate and fit knn to the correct columns\n",
    "    knn = NearestNeighbors(n_neighbors=20)\n",
    "    knn.fit(df[df.columns[5:]])\n",
    "\n",
    "    obs = df.index[df['track_id'] == track_id]\n",
    "    series = df.iloc[obs, 5:].to_numpy()\n",
    "\n",
    "    neighbors = knn.kneighbors(series)\n",
    "    new_obs = neighbors[1][0][6:20]\n",
    "    return list(df.loc[new_obs, 'track_id'])"
   ]
  },
  {
   "cell_type": "code",
   "execution_count": 13,
   "metadata": {},
   "outputs": [
    {
     "output_type": "execute_result",
     "data": {
      "text/plain": "Int64Index([126166, 200510], dtype='int64')"
     },
     "metadata": {},
     "execution_count": 13
    }
   ],
   "source": [
    "track_id = '4yTDJt8yfOpRKvRNQ8uV5X'\n",
    "\n",
    "obs = df.index[df['track_id'] == track_id]\n",
    "obs"
   ]
  },
  {
   "cell_type": "code",
   "execution_count": 29,
   "metadata": {},
   "outputs": [
    {
     "output_type": "execute_result",
     "data": {
      "text/plain": "['6ScgNyiMGRJcuQl6fHE32t',\n '4hpQCCUn1D2KJ0hRIvviNz',\n '1oXRum87ShmIRW8GgETPjd',\n '12pBDYcRz2KJXTnhFste8v',\n '7cGpisHH8TCwcPI1Pxd0IM',\n '3Kb4dMQn8cAXthan2osI0l',\n '2ggqfj97qyiORmXoVFzP5j',\n '2ggqfj97qyiORmXoVFzP5j',\n '3Mt3L75pk83KGc0c4VJzLM',\n '3oDk8PFjkiqwEn1m03pnkm',\n '27fUxjCxoOG7u2kxKAjCJA',\n '63L3A0z2A5DRix83DnHCDX',\n '7hlljw8YiOutMUrFekNIA0',\n '3uZIfWx5ridUBQevmgHDUt']"
     },
     "metadata": {},
     "execution_count": 29
    }
   ],
   "source": [
    "predicto('4yTDJt8yfOpRKvRNQ8uV5X')"
   ]
  },
  {
   "cell_type": "markdown",
   "metadata": {},
   "source": [
    "## Save Model and Pickle"
   ]
  },
  {
   "cell_type": "code",
   "execution_count": 1,
   "metadata": {},
   "outputs": [],
   "source": [
    "import pickle"
   ]
  },
  {
   "cell_type": "code",
   "execution_count": null,
   "metadata": {},
   "outputs": [],
   "source": [
    "pickling_on = open(\"KNN.pickle\",\"wb\")\n",
    "pickle.dump(emp, pickling_on)\n",
    "pickling_on.close()"
   ]
  }
 ]
}